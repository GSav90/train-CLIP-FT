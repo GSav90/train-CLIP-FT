{
 "cells": [
  {
   "cell_type": "code",
   "execution_count": 1,
   "id": "06cb5806-4624-4dfb-8226-5530589aea79",
   "metadata": {},
   "outputs": [],
   "source": [
    "import os\n",
    "import torch\n",
    "import clip\n",
    "import numpy as np\n",
    "import pandas as pd\n",
    "import pyarrow.feather as feather\n",
    "from PIL import Image\n",
    "from urllib import request\n",
    "from tqdm import tqdm\n",
    "from torch.utils.data import Dataset, DataLoader\n",
    "from torchvision import datasets, transforms\n",
    "import torchvision, torch\n",
    "from sklearn.linear_model import LogisticRegression\n",
    "import sklearn\n",
    "from sklearn import metrics\n",
    "from sklearn.metrics import precision_recall_fscore_support\n",
    "# proxy=\"http://sysproxy.wal-mart.com:8080\"\n",
    "# os.environ['http_proxy'] = proxy \n",
    "# os.environ['HTTP_PROXY'] = proxy\n",
    "# os.environ['https_proxy'] = proxy\n",
    "# os.environ['HTTPS_PROXY'] = proxy\n",
    "\n",
    "\n",
    "# export HTTP_PROXY=http://sysproxy.wal-mart.com:8080\n",
    "# export HTTPS_PROXY=http://sysproxy.wal-mart.com:8080"
   ]
  },
  {
   "cell_type": "code",
   "execution_count": 15,
   "id": "748564c3-e2c1-41fb-bf9a-9f2230397924",
   "metadata": {},
   "outputs": [],
   "source": [
    "# from transformers import CLIPProcessor, CLIPModel\n",
    "\n",
    "# model = CLIPModel.from_pretrained(\"openai/clip-vit-base-patch32\")\n",
    "# processor = CLIPProcessor.from_pretrained(\"openai/clip-vit-base-patch32\")\n",
    "# url = \"/home/jupyter/dvc-manual/gtin_60/data/prep/enrollment_filtered/test-samples/19100110007/0.png\"\n",
    "# image = Image.open(url)\n",
    "# inputs = processor(text=[\"a photo of a lotion\", \"a photo of a dog\"], images=image, return_tensors=\"pt\", padding=True)\n",
    "# outputs = model(**inputs)\n",
    "# logits_per_image = outputs.logits_per_image # this is the image-text similarity score\n",
    "# probs = logits_per_image.softmax(dim=1) # we can take the softmax to get the label probabilities"
   ]
  },
  {
   "cell_type": "code",
   "execution_count": 23,
   "id": "3ee84a94-3a7c-47d2-a950-69ae763e6d4e",
   "metadata": {},
   "outputs": [],
   "source": [
    "# import json\n",
    "\n",
    "# def imgToDataLoader(img_folder_path,size, batchsize=256):\n",
    "#     # testSet= torchvision.datasets.ImageFolder(root=img_folder_path,transform=transforms.Compose([transforms.ToTensor(),]))\n",
    "#     testSet= torchvision.datasets.ImageFolder(root=img_folder_path,transform=transforms.Compose([transforms.Resize(size=size),transforms.ToTensor(),]))\n",
    "#     test_dataloader_args=dict(shuffle=False, batch_size=batchsize,num_workers=2, pin_memory=True)\n",
    "#     test_loader= torch.utils.data.DataLoader(testSet, **test_dataloader_args)\n",
    "#     return test_loader\n",
    "\n",
    "# path= '/home/jupyter/'+'dvc-manual/gtin_60/data/prep/enrollment/subsets/enrollment_size_90_SN_1'\n",
    "# enrollment_loader=imgToDataLoader(path, 128, 256)\n",
    "\n"
   ]
  },
  {
   "cell_type": "code",
   "execution_count": 6,
   "id": "d265c957-f124-4824-88e0-52ecf8363d79",
   "metadata": {},
   "outputs": [],
   "source": [
    "# # preprocess_images = [(preprocess(Image.open(img_path)),lab) for img_path,lab in os.listdir(enrollment_path)]"
   ]
  },
  {
   "cell_type": "code",
   "execution_count": 38,
   "id": "635e959a-87f8-4c95-814b-b5736b4da29e",
   "metadata": {},
   "outputs": [],
   "source": [
    "import os\n",
    "import clip\n",
    "import torch\n",
    "from torchvision.datasets import CIFAR100\n",
    "from transformers import CLIPProcessor, CLIPModel\n",
    "# Load the model\n",
    "device = \"cuda\" if torch.cuda.is_available() else \"cpu\"\n",
    "\n",
    "model, preprocess = # clip.load('ViT-B/32', device)\n",
    "\n",
    "test_path= os.path.join(os.getcwd(),'dvc-manual/gtin_60/data/prep/test')\n",
    "test_preprocess= torchvision.datasets.ImageFolder(root=test_path,transform=preprocess)\n",
    "\n",
    "import glob\n",
    "preprocess_images=[]\n",
    "for val in glob.glob(test_path+\"/*/*\"):\n",
    "    img_path,label= val,val.split(\"/\")[-2]\n",
    "    preprocess_images.append((preprocess(Image.open(img_path)),label))\n",
    "    \n",
    "labels = [i for i in os.listdir(test_path)]\n",
    "# tkns = ['A photo of '+label for label in labels]\n",
    "# text = clip.tokenize(labels).to(device)\n",
    "text_inputs = torch.cat([clip.tokenize(c) for c in test_preprocess.classes]).to(device)\n",
    "\n",
    "\n",
    "item_dict={}\n",
    "for k,v in enumerate(test_preprocess.classes):\n",
    "    item_dict[k]=v"
   ]
  },
  {
   "cell_type": "code",
   "execution_count": 71,
   "id": "c933d0f3-8a45-43a0-9a85-8c437b9f5c98",
   "metadata": {},
   "outputs": [
    {
     "name": "stderr",
     "output_type": "stream",
     "text": [
      "100%|██████████| 15/15 [00:05<00:00,  2.58it/s]"
     ]
    },
    {
     "name": "stdout",
     "output_type": "stream",
     "text": [
      "0.07167004732927654\n",
      "              precision    recall  f1-score   support\n",
      "\n",
      " 12000809941       0.12      0.12      0.12        43\n",
      " 13000006057       0.00      0.00      0.00       110\n",
      " 13130006125       0.00      0.00      0.00       141\n",
      " 19100110007       0.00      0.00      0.00        45\n",
      " 19200771825       0.08      0.50      0.14       119\n",
      " 34000003303       0.00      0.00      0.00       121\n",
      " 34500151368       0.11      0.01      0.02        99\n",
      " 44000033255       0.00      0.00      0.00       119\n",
      " 49000012781       0.00      0.00      0.00       103\n",
      "703820010944       0.03      0.01      0.01       114\n",
      " 78742012285       0.08      0.37      0.13        91\n",
      " 78742228037       0.00      0.00      0.00       115\n",
      " 78742351865       0.00      0.00      0.00       111\n",
      " 78742370064       0.00      0.00      0.00       109\n",
      "  9800800254       0.06      0.15      0.08        39\n",
      "\n",
      "    accuracy                           0.07      1479\n",
      "   macro avg       0.03      0.08      0.03      1479\n",
      "weighted avg       0.03      0.07      0.03      1479\n",
      "\n"
     ]
    },
    {
     "name": "stderr",
     "output_type": "stream",
     "text": [
      "\n",
      "/opt/conda/lib/python3.7/site-packages/sklearn/metrics/_classification.py:1308: UndefinedMetricWarning:\n",
      "\n",
      "Precision and F-score are ill-defined and being set to 0.0 in labels with no predicted samples. Use `zero_division` parameter to control this behavior.\n",
      "\n",
      "/opt/conda/lib/python3.7/site-packages/sklearn/metrics/_classification.py:1308: UndefinedMetricWarning:\n",
      "\n",
      "Precision and F-score are ill-defined and being set to 0.0 in labels with no predicted samples. Use `zero_division` parameter to control this behavior.\n",
      "\n",
      "/opt/conda/lib/python3.7/site-packages/sklearn/metrics/_classification.py:1308: UndefinedMetricWarning:\n",
      "\n",
      "Precision and F-score are ill-defined and being set to 0.0 in labels with no predicted samples. Use `zero_division` parameter to control this behavior.\n",
      "\n",
      "/opt/conda/lib/python3.7/site-packages/sklearn/metrics/_classification.py:1308: UndefinedMetricWarning:\n",
      "\n",
      "Precision and F-score are ill-defined and being set to 0.0 in labels with no predicted samples. Use `zero_division` parameter to control this behavior.\n",
      "\n",
      "/opt/conda/lib/python3.7/site-packages/sklearn/metrics/_classification.py:1308: UndefinedMetricWarning:\n",
      "\n",
      "Precision and F-score are ill-defined and being set to 0.0 in labels with no predicted samples. Use `zero_division` parameter to control this behavior.\n",
      "\n",
      "/opt/conda/lib/python3.7/site-packages/sklearn/metrics/_classification.py:1308: UndefinedMetricWarning:\n",
      "\n",
      "Precision and F-score are ill-defined and being set to 0.0 in labels with no predicted samples. Use `zero_division` parameter to control this behavior.\n",
      "\n",
      "/opt/conda/lib/python3.7/site-packages/sklearn/metrics/_classification.py:1308: UndefinedMetricWarning:\n",
      "\n",
      "Precision and F-score are ill-defined and being set to 0.0 in labels with no predicted samples. Use `zero_division` parameter to control this behavior.\n",
      "\n",
      "/opt/conda/lib/python3.7/site-packages/sklearn/metrics/_classification.py:1308: UndefinedMetricWarning:\n",
      "\n",
      "Precision and F-score are ill-defined and being set to 0.0 in labels with no predicted samples. Use `zero_division` parameter to control this behavior.\n",
      "\n"
     ]
    }
   ],
   "source": [
    "\n",
    "# preprocess_images = [(preprocess(Image.open(img_path)),lab) for img_path,lab in os.listdir(enrollment_path)]\n",
    "\n",
    "# Prepare the inputs\n",
    "# image, class_id = cifar100[3637]\n",
    "# image_input = preprocess(image).unsqueeze(0).to(device)\n",
    "# text_inputs = torch.cat([clip.tokenize(f\"a photo of a {c}\") for c in cifar100.classes]).to(device)\n",
    "\n",
    "BATCH_SIZE = 100\n",
    "ln = len(preprocess_images)\n",
    "\n",
    "results = []\n",
    "\n",
    "for i in tqdm(range(0,ln,BATCH_SIZE)):\n",
    "    img_batch= preprocess_images[i:i+BATCH_SIZE]\n",
    "    batch_tensor= [x[0] for x in img_batch]\n",
    "    image_input = torch.tensor(np.stack(batch_tensor)).to(device)\n",
    "    with torch.no_grad():\n",
    "        image_features = model.encode_image(image_input)\n",
    "        text_features = model.encode_text(text_inputs)\n",
    "        logits_per_image, logits_per_text = model(image_input, text_inputs)\n",
    "        # # The softmax function takes the original confidence and applys a transform to make all the confidence add up to one\n",
    "        probs = logits_per_image.softmax(dim=-1).cpu().numpy()\n",
    "        results.append(probs)\n",
    "\n",
    "    # Pick the top 5 most similar labels for the image\n",
    "    # image_features /= image_features.norm(dim=-1, keepdim=True)\n",
    "    # text_features /= text_features.norm(dim=-1, keepdim=True)\n",
    "    # similarity = (100.0 * image_features @ text_features.T).softmax(dim=-1)\n",
    "    # values, indices = similarity[0].topk(1)\n",
    "\n",
    "    # Print the result\n",
    "    # print(\"\\nTop predictions:\\n\")\n",
    "    # for value, index in zip(values, indices):\n",
    "    #     print(f\"{test_preprocess.classes[index]:>16s}: {100 * value.item():.2f}%\")\n",
    "\n",
    "res = np.concatenate(results,axis=0)\n",
    "choices = np.argmax(res,axis=1)\n",
    "pred_label= [item_dict[i] for i in choices]\n",
    "true_label= [x[1] for x in preprocess_images]\n",
    "\n",
    "\n",
    "acc= metrics.accuracy_score(np.array(true_label),np.array(pred_label))\n",
    "report=sklearn.metrics.classification_report(np.array(true_label),np.array(pred_label))\n",
    "\n",
    "# correct=metrics.accuracy_score(np.array(top_1['true_label_gtin']),np.array(top_1['predicted_label_gtin']),normalize=False)\n",
    "prec, rec,fscore,supp=precision_recall_fscore_support(np.array(true_label),np.array(pred_label), average='macro')\n",
    "w_prec, w_rec,w_fscore,w_supp=precision_recall_fscore_support(np.array(true_label),np.array(pred_label), average='weighted')\n",
    "report_dict=sklearn.metrics.classification_report(np.array(true_label),np.array(pred_label),output_dict=True)\n",
    "\n",
    "print(acc)\n",
    "print(report)"
   ]
  },
  {
   "cell_type": "code",
   "execution_count": 18,
   "id": "c07cad35-03b3-44b4-81ee-9ed5b3745a03",
   "metadata": {},
   "outputs": [],
   "source": [
    "import torch\n",
    "import torch.nn as nn\n",
    "import torch.nn.functional as F\n",
    "import pytorch_lightning as pl\n",
    "import numpy as np\n",
    "import math\n",
    "import yaml\n",
    "import copy\n",
    "from cosine_annealing_warmup import CosineAnnealingWarmupRestarts\n",
    "\n",
    "\n",
    "class CLIPWrapper(pl.LightningModule):\n",
    "    def __init__(self,\n",
    "                 model_name: str,\n",
    "                 config: dict,\n",
    "                 minibatch_size: int\n",
    "                 ):\n",
    "        \"\"\"A lightning wrapper for a CLIP model as specified in the paper.\n",
    "\n",
    "        Args:\n",
    "            model_name (str): A case sensitive visual model name.\n",
    "            config (dict): A dictionary containing the CLIP instantiation parameters.\n",
    "        \"\"\"\n",
    "        super().__init__()\n",
    "\n",
    "        self.model_name = model_name\n",
    "        self.model = CLIP(**config)\n",
    "        self.minibatch_size = minibatch_size\n",
    "        self.isViT = 'ViT' in self.model_name\n",
    "\n",
    "        self.automatic_optimization = False\n",
    "    \n",
    "    # Sourced from https://github.com/PyTorchLightning/pytorch-lightning/issues/5449\n",
    "    @property\n",
    "    def num_training_steps(self) -> int:\n",
    "        \"\"\"Total training steps inferred from datamodule and devices.\"\"\"\n",
    "        dataset = self.trainer._data_connector._train_dataloader_source.dataloader()\n",
    "        if self.trainer.max_steps:\n",
    "            return self.trainer.max_steps\n",
    "\n",
    "        dataset_size = len(dataset)\n",
    "\n",
    "        num_devices = max(1, self.trainer.num_gpus, self.trainer.num_processes)\n",
    "\n",
    "        return (dataset_size // num_devices) * self.trainer.max_epochs\n",
    "\n",
    "    # Training loss: https://github.com/openai/CLIP/issues/83\n",
    "    # Mini-batching thanks to https://github.com/crowsonkb / https://twitter.com/RiversHaveWings\n",
    "    # Multi-GPU support: https://github.com/MicPie/clasp\n",
    "    def training_step(self, train_batch, idx):\n",
    "        # get optimizers and scheduler\n",
    "        optimizer = self.optimizers()\n",
    "        \n",
    "        image, text = train_batch\n",
    "        n = math.ceil(len(image) // self.minibatch_size)\n",
    "        image_mbs = torch.chunk(image, n)\n",
    "        text_mbs = torch.chunk(text, n)\n",
    "\n",
    "        # calculate original statistics\n",
    "        with torch.no_grad():\n",
    "            print(\"Inside torch.no_grad()\")\n",
    "            ims = [F.normalize(self.model.encode_image(im), dim=1) for im in image_mbs]\n",
    "            txt = [F.normalize(self.model.encode_text(t), dim=1) for t in text_mbs]\n",
    "            # gather from all GPUs\n",
    "            ims = self.all_gather(torch.cat(ims))\n",
    "            txt = self.all_gather(torch.cat(txt))\n",
    "\n",
    "            if len(ims.shape) == 3:\n",
    "                ims = list(ims)\n",
    "                txt = list(txt)\n",
    "            else:\n",
    "                ims = [ims]\n",
    "                txt = [txt]\n",
    "            \n",
    "            image_logits = torch.cat(ims) @ torch.cat(txt).t() * self.model.logit_scale.exp()\n",
    "            ground_truth = torch.arange(len(image_logits)).type_as(image_logits).long()\n",
    "            loss = (F.cross_entropy(image_logits, ground_truth) + F.cross_entropy(image_logits.t(), ground_truth)).div(2)\n",
    "            acc_i = (torch.argmax(image_logits, 1) == ground_truth).sum()\n",
    "            acc_t = (torch.argmax(image_logits, 0) == ground_truth).sum()\n",
    "            self.log_dict({'loss': loss / len(ims), 'acc': (acc_i + acc_t) / 2 / len(image) / len(ims)}, prog_bar=True)\n",
    "\n",
    "        if isinstance(optimizer, list):\n",
    "            optimizer = optimizer[0]\n",
    "        optimizer.zero_grad()\n",
    "        print(\"print v2\")\n",
    "        # image loss\n",
    "        for j, mb in enumerate(image_mbs):\n",
    "            images_tmp = copy.deepcopy(ims)\n",
    "            images_tmp[self.global_rank][j*self.minibatch_size:(j+1)*self.minibatch_size] = F.normalize(self.model.encode_image(mb), dim=1)\n",
    "            image_logits = torch.cat(images_tmp) @ torch.cat(txt).t() * self.model.logit_scale.exp()\n",
    "            ground_truth = torch.arange(len(image_logits)).type_as(image_logits).long()\n",
    "            loss = (F.cross_entropy(image_logits, ground_truth) + F.cross_entropy(image_logits.t(), ground_truth))/2\n",
    "            self.manual_backward(loss)\n",
    "        print(\"print v3\")\n",
    "        # text loss\n",
    "        for j, mb in enumerate(text_mbs):\n",
    "            text_tmp = copy.deepcopy(txt)\n",
    "            text_tmp[self.global_rank][j*self.minibatch_size:(j+1)*self.minibatch_size] = F.normalize(self.model.encode_text(mb), dim=1)\n",
    "            image_logits = torch.cat(ims) @ torch.cat(text_tmp).t() * self.model.logit_scale.exp()\n",
    "            loss = (F.cross_entropy(image_logits, ground_truth) + F.cross_entropy(image_logits.t(), ground_truth))/2\n",
    "            self.manual_backward(loss)\n",
    "        print(\"print v4\")\n",
    "        optimizer.step()\n",
    "        lr_scheduler = self.lr_schedulers()\n",
    "        lr_scheduler.step()\n",
    "        print(\"print v5\")\n",
    "        self.model.logit_scale.data.clamp_(-np.log(100), np.log(100))\n",
    "\n",
    "    def validation_step(self, val_batch, idx):\n",
    "        image, text = val_batch\n",
    "        image_logits, text_logits = self.forward(image, text)\n",
    "        ground_truth = torch.arange(len(image_logits))\n",
    "        loss = (F.cross_entropy(image_logits, ground_truth) + F.cross_entropy(text_logits, ground_truth)).div(2)\n",
    "        self.log('val_loss', loss)\n",
    "\n",
    "    def configure_optimizers(self):\n",
    "        lr = {\n",
    "            \"RN50\": 5e-4,\n",
    "            \"RN101\": 5e-4,\n",
    "            \"RN50x4\": 5e-4,\n",
    "            \"RN50x16\": 4e-4,\n",
    "            \"RN50x64\": 3.6e-4,\n",
    "            \"ViT-B/32\": 5e-4,\n",
    "            \"ViT-B/16\": 5e-4,\n",
    "            \"ViT-L/14\": 4e-4,\n",
    "            \"ViT-L/14-336px\": 2e-5\n",
    "        }[self.model_name]\n",
    "\n",
    "        optimizer = torch.optim.AdamW(\n",
    "            self.model.parameters(),\n",
    "            lr=lr,\n",
    "            betas=(\n",
    "                0.9,\n",
    "                0.98 if self.isViT else 0.999\n",
    "            ),\n",
    "            eps=1e-6 if self.isViT else 1e-8,\n",
    "            weight_decay=0.2\n",
    "        )\n",
    "\n",
    "        # Source: https://github.com/openai/CLIP/issues/107\n",
    "        # Use pip install 'git+https://github.com/katsura-jp/pytorch-cosine-annealing-with-warmup'\n",
    "        lr_scheduler = CosineAnnealingWarmupRestarts(\n",
    "            optimizer,\n",
    "            first_cycle_steps=self.num_training_steps,\n",
    "            cycle_mult=1.0,\n",
    "            max_lr=lr,\n",
    "            min_lr=0,\n",
    "            warmup_steps=100\n",
    "        )\n",
    "\n",
    "        return {'optimizer': optimizer, 'lr_scheduler': lr_scheduler}\n",
    "\n",
    "\n",
    "class CustomCLIPWrapper(CLIPWrapper):\n",
    "    def __init__(self,\n",
    "                 image_encoder,\n",
    "                 text_encoder,\n",
    "                 minibatch_size,\n",
    "                 learning_rate=5e-4,\n",
    "                 kl_coeff=1.0,\n",
    "                 avg_word_embs=False\n",
    "                 ):\n",
    "        with open('models/configs/RN.yaml') as fin:\n",
    "            config = yaml.safe_load(fin)['RN50']\n",
    "        super().__init__('RN50', config, minibatch_size)\n",
    "        del self.model.visual\n",
    "        del self.model.transformer\n",
    "        self.model.visual = image_encoder\n",
    "        self.model.transformer = text_encoder\n",
    "        self.learning_rate = learning_rate\n",
    "        self.avg_word_embs = avg_word_embs\n",
    "        self.sink_temp = nn.Parameter(torch.ones([]) * np.log(1 / 0.07))\n",
    "\n",
    "        # init self-distillation model\n",
    "        self.teacher = copy.deepcopy(self.model)\n",
    "        self.kl_coeff = kl_coeff\n",
    "\n",
    "    def training_step(self, train_batch, idx):\n",
    "        # get optimizers and scheduler\n",
    "        optimizer = self.optimizers()\n",
    "\n",
    "        image, text = train_batch\n",
    "        n = math.ceil(len(image) // self.minibatch_size)\n",
    "        image_mbs = torch.chunk(image, n)\n",
    "        text_mbs = torch.chunk(text, n)\n",
    "\n",
    "        # adjust embedding dictionaries\n",
    "        # text_mbs = []\n",
    "        # for s in text_mbs_ids:\n",
    "        #     d = {}\n",
    "        #     for key in list(text.keys()):\n",
    "        #         d[key] = text[key][s]\n",
    "        #     text_mbs.append(d)\n",
    "\n",
    "        # calculate original statistics\n",
    "        with torch.no_grad():\n",
    "            ims = [F.normalize(self.model.encode_image(im), dim=1) for im in image_mbs]\n",
    "            txt = [F.normalize(self.encode_text(t), dim=1) for t in text_mbs]\n",
    "            # gather from all GPUs\n",
    "            ims = self.all_gather(torch.cat(ims))\n",
    "            txt = self.all_gather(torch.cat(txt))\n",
    "\n",
    "            if len(ims.shape) == 3:\n",
    "                ims = list(ims)\n",
    "                txt = list(txt)\n",
    "            else:\n",
    "                ims = [ims]\n",
    "                txt = [txt]\n",
    "\n",
    "            image_logits_notemp = torch.cat(ims) @ torch.cat(txt).t()\n",
    "            image_logits = image_logits_notemp * self.model.logit_scale.exp()\n",
    "            ground_truth = torch.arange(len(image_logits)).type_as(image_logits).long()\n",
    "            loss = (F.cross_entropy(image_logits, ground_truth) + F.cross_entropy(image_logits.t(), ground_truth)).div(2)\n",
    "            acc_i = (torch.argmax(image_logits, 1) == ground_truth).sum()\n",
    "            acc_t = (torch.argmax(image_logits, 0) == ground_truth).sum()\n",
    "            # calculate teacher\n",
    "            teacher_ims = [F.normalize(self.teacher.encode_image(im), dim=1) for im in image_mbs]\n",
    "            teacher_txt = [F.normalize(self.encode_text(t, teacher=True), dim=1) for t in text_mbs]\n",
    "\n",
    "            teacher_ims = self.all_gather(torch.cat(teacher_ims))\n",
    "            teacher_txt = self.all_gather(torch.cat(teacher_txt))\n",
    "\n",
    "            if len(teacher_ims.shape) == 3:\n",
    "                teacher_ims = list(teacher_ims)\n",
    "                teacher_txt = list(teacher_txt)\n",
    "            else:\n",
    "                teacher_ims = [teacher_ims]\n",
    "                teacher_txt = [teacher_txt]\n",
    "\n",
    "            sim_ii, sim_tt, sim_it, sim_ti = self.compute_similarities(torch.cat(teacher_ims), torch.cat(teacher_txt))\n",
    "\n",
    "            # optimal transport\n",
    "            img_cost = - (sim_ii + sim_tt + sim_it)\n",
    "            txt_cost = - (sim_ii + sim_tt + sim_ti)\n",
    "            img_target = self.sinkhorn(img_cost)\n",
    "            txt_target = self.sinkhorn(txt_cost)\n",
    "            loss += (F.kl_div(F.log_softmax(image_logits_notemp * self.sink_temp, dim=-1), img_target, reduction='batchmean') + F.kl_div(F.log_softmax(image_logits_notemp.t() * self.sink_temp, dim=-1), txt_target, reduction='batchmean')) / 2 * self.kl_coeff\n",
    "            self.log_dict({'loss': loss / len(ims), 'acc': (acc_i + acc_t) / 2 / len(image) / len(ims)}, prog_bar=True)\n",
    "\n",
    "        if isinstance(optimizer, list):\n",
    "            optimizer = optimizer[0]\n",
    "        optimizer.zero_grad()\n",
    "\n",
    "        # image loss\n",
    "        for j, mb in enumerate(image_mbs):\n",
    "            images_tmp = copy.deepcopy(ims)\n",
    "            images_tmp[self.global_rank][j*self.minibatch_size:(j+1)*self.minibatch_size] = F.normalize(self.model.encode_image(mb), dim=1)\n",
    "            image_logits_notemp = torch.cat(images_tmp) @ torch.cat(txt).t()\n",
    "            image_logits = image_logits_notemp * self.model.logit_scale.exp()\n",
    "            loss = (F.cross_entropy(image_logits, ground_truth) + F.cross_entropy(image_logits.t(), ground_truth))/2\n",
    "            loss += (F.kl_div(F.log_softmax(image_logits_notemp * self.sink_temp, dim=-1), img_target, reduction='batchmean') + F.kl_div(F.log_softmax(image_logits_notemp.t() * self.sink_temp, dim=-1), txt_target, reduction='batchmean')) / 2 * self.kl_coeff\n",
    "            self.manual_backward(loss)\n",
    "\n",
    "        # text loss\n",
    "        for j, mb in enumerate(text_mbs):\n",
    "            text_tmp = copy.deepcopy(txt)\n",
    "            text_tmp[self.global_rank][j*self.minibatch_size:(j+1)*self.minibatch_size] = F.normalize(self.encode_text(mb), dim=1)\n",
    "            image_logits_notemp = torch.cat(ims) @ torch.cat(text_tmp).t()\n",
    "            image_logits = image_logits_notemp * self.model.logit_scale.exp()\n",
    "            loss = (F.cross_entropy(image_logits, ground_truth) + F.cross_entropy(image_logits.t(), ground_truth))/2\n",
    "            loss += (F.kl_div(F.log_softmax(image_logits_notemp * self.sink_temp, dim=-1), img_target, reduction='batchmean') + F.kl_div(F.log_softmax(image_logits_notemp.t() * self.sink_temp, dim=-1), txt_target, reduction='batchmean')) / 2 * self.kl_coeff\n",
    "            self.manual_backward(loss)\n",
    "\n",
    "        optimizer.step()\n",
    "        lr_scheduler = self.lr_schedulers()\n",
    "        lr_scheduler.step()\n",
    "        self.model.logit_scale.data.clamp_(-np.log(100), np.log(100))\n",
    "        self.sink_temp.data.clamp_(-np.log(100), np.log(100))\n",
    "        self.update_teacher()\n",
    "\n",
    "    def encode_text(self, inputs, teacher=False):\n",
    "        # we're gonna change this to model.CLIP.encode_text\n",
    "        # if self.avg_word_embs:\n",
    "        #     sequence_output = self.teacher.transformer(**inputs)[0] if teacher else self.model.transformer(**inputs)[0]\n",
    "\n",
    "        #     embeddings = torch.sum(\n",
    "        #         sequence_output * inputs[\"attention_mask\"].unsqueeze(-1), dim=1\n",
    "        #     ) / torch.clamp(torch.sum(inputs[\"attention_mask\"], dim=1, keepdims=True), min=1e-9)\n",
    "\n",
    "        #     return embeddings\n",
    "        # else:\n",
    "        #     return self.teacher.transformer(**inputs)[1] if teacher else self.model.transformer(**inputs)[1]\n",
    "\n",
    "        inference = self.teacher if teacher else self.model\n",
    "\n",
    "        x = inference.token_embedding(inputs).type(self.dtype)  # [batch_size, n_ctx, d_model]\n",
    "\n",
    "        x = x + inference.positional_embedding.type(self.dtype)\n",
    "        x = x.permute(1, 0, 2)  # NLD -> LND\n",
    "        x = inference.transformer(x)\n",
    "        x = x.permute(1, 0, 2)  # LND -> NLD\n",
    "        x = inference.ln_final(x).type(self.dtype)\n",
    "\n",
    "        # x.shape = [batch_size, n_ctx, transformer.width]\n",
    "        # take features from the eot embedding (eot_token is the highest number in each sequence)\n",
    "        x = x[torch.arange(x.shape[0]), inputs.argmax(dim=-1)] @ self.model.text_projection\n",
    "\n",
    "        return x\n",
    "\n",
    "    def compute_similarities(self, I_emb, T_emb):\n",
    "        sim_ii, sim_tt = I_emb @ I_emb.t(), T_emb @ T_emb.t()\n",
    "        sim_it, sim_ti = I_emb @ T_emb.t(), T_emb @ I_emb.t()\n",
    "        return sim_ii, sim_tt, sim_it, sim_ti\n",
    "\n",
    "    def update_teacher(self):\n",
    "        for teacher, student in zip(self.teacher.parameters(), self.model.parameters()):\n",
    "            teacher.data.copy_(self.ema(teacher.data, student.data))\n",
    "\n",
    "    def ema(self, s, t):\n",
    "        return s * (1 - 0.999) + t * 0.999\n",
    "\n",
    "    def forward(self, images, text):\n",
    "        logits = F.normalize(self.model.encode_image(images), dim=1) @ F.normalize(self.encode_text(text), dim=1).t() * self.model.logit_scale.exp()\n",
    "        return logits, logits.t()\n",
    "\n",
    "    # Sourced from: https://github.com/facebookresearch/swav/blob/5e073db0cc69dea22aa75e92bfdd75011e888f28/main_swav.py#L354\n",
    "    def sinkhorn(self, out):\n",
    "        Q = torch.exp(out / 0.05).t()  # Q is K-by-B for consistency with notations from our paper\n",
    "        B = Q.shape[1]  # number of samples to assign\n",
    "        K = Q.shape[0]  # how many prototypes\n",
    "\n",
    "        # make the matrix sums to 1\n",
    "        sum_Q = torch.sum(Q)\n",
    "        Q /= sum_Q\n",
    "\n",
    "        for it in range(3):\n",
    "            # normalize each row: total weight per prototype must be 1/K\n",
    "            sum_of_rows = torch.sum(Q, dim=1, keepdim=True)\n",
    "            Q /= sum_of_rows\n",
    "            Q /= K\n",
    "\n",
    "            # normalize each column: total weight per sample must be 1/B\n",
    "            Q /= torch.sum(Q, dim=0, keepdim=True)\n",
    "            Q /= B\n",
    "\n",
    "        Q *= B  # the colomns must sum to 1 so that Q is an assignment\n",
    "        return Q.t()\n",
    "\n",
    "    def configure_optimizers(self):\n",
    "        lr = self.learning_rate\n",
    "\n",
    "        optimizer = torch.optim.SGD(\n",
    "            self.parameters(),\n",
    "            lr=lr,\n",
    "            momentum=0.9\n",
    "        )\n",
    "        print(self.num_training_steps)\n",
    "        # Source: https://github.com/openai/CLIP/issues/107\n",
    "        # Use pip install 'git+https://github.com/katsura-jp/pytorch-cosine-annealing-with-warmup'\n",
    "        lr_scheduler = CosineAnnealingWarmupRestarts(\n",
    "            optimizer,\n",
    "            first_cycle_steps= 200,#self.num_training_steps,\n",
    "            cycle_mult=1.0,\n",
    "            max_lr=lr,\n",
    "            min_lr=0,\n",
    "            warmup_steps=50\n",
    "        )\n",
    "\n",
    "        return {'optimizer': optimizer, 'lr_scheduler': lr_scheduler}\n"
   ]
  },
  {
   "cell_type": "code",
   "execution_count": 23,
   "id": "c5867ee2-2635-4e2d-ae22-80e3be62a832",
   "metadata": {},
   "outputs": [
    {
     "ename": "NameError",
     "evalue": "name 'hparams' is not defined",
     "output_type": "error",
     "traceback": [
      "\u001b[0;31m---------------------------------------------------------------------------\u001b[0m",
      "\u001b[0;31mNameError\u001b[0m                                 Traceback (most recent call last)",
      "\u001b[0;32m/tmp/ipykernel_23136/3358926017.py\u001b[0m in \u001b[0;36m<module>\u001b[0;34m\u001b[0m\n\u001b[1;32m     11\u001b[0m \u001b[0mclp\u001b[0m\u001b[0;34m,\u001b[0m \u001b[0mpreprocess\u001b[0m \u001b[0;34m=\u001b[0m \u001b[0mclip\u001b[0m\u001b[0;34m.\u001b[0m\u001b[0mload\u001b[0m\u001b[0;34m(\u001b[0m\u001b[0;34m\"ViT-B/32\"\u001b[0m\u001b[0;34m,\u001b[0m \u001b[0mdevice\u001b[0m\u001b[0;34m=\u001b[0m\u001b[0mdev\u001b[0m\u001b[0;34m,\u001b[0m \u001b[0mjit\u001b[0m\u001b[0;34m=\u001b[0m\u001b[0;32mFalse\u001b[0m\u001b[0;34m)\u001b[0m\u001b[0;34m\u001b[0m\u001b[0;34m\u001b[0m\u001b[0m\n\u001b[1;32m     12\u001b[0m \u001b[0;34m\u001b[0m\u001b[0m\n\u001b[0;32m---> 13\u001b[0;31m \u001b[0;32mif\u001b[0m \u001b[0mhparams\u001b[0m\u001b[0;34m.\u001b[0m\u001b[0mminibatch_size\u001b[0m \u001b[0;34m<\u001b[0m \u001b[0;36m1\u001b[0m\u001b[0;34m:\u001b[0m\u001b[0;34m\u001b[0m\u001b[0;34m\u001b[0m\u001b[0m\n\u001b[0m\u001b[1;32m     14\u001b[0m     \u001b[0mhparams\u001b[0m\u001b[0;34m.\u001b[0m\u001b[0mminibatch_size\u001b[0m \u001b[0;34m=\u001b[0m \u001b[0mhparams\u001b[0m\u001b[0;34m.\u001b[0m\u001b[0mbatch_size\u001b[0m\u001b[0;34m\u001b[0m\u001b[0;34m\u001b[0m\u001b[0m\n\u001b[1;32m     15\u001b[0m \u001b[0;34m\u001b[0m\u001b[0m\n",
      "\u001b[0;31mNameError\u001b[0m: name 'hparams' is not defined"
     ]
    }
   ],
   "source": [
    "import torch\n",
    "from collections import OrderedDict\n",
    "from typing import Tuple, Union\n",
    "import clip\n",
    "import numpy as np\n",
    "import torch\n",
    "import torch.nn.functional as F\n",
    "from torch import nn\n",
    "\n",
    "dev = \"cuda:0\" if torch.cuda.is_available() else \"cpu\"\n",
    "clp, preprocess = clip.load(\"ViT-B/32\", device=dev, jit=False)\n",
    "    \n",
    "if hparams.minibatch_size < 1:\n",
    "    hparams.minibatch_size = hparams.batch_size\n",
    "\n",
    "for p in clp.parameters(): \n",
    "    p.data = p.data.float() \n",
    "    if p.grad:\n",
    "        p.grad.data = p.grad.data.float()\n",
    "\n",
    "model = CustomCLIPWrapper(clp.visual, clp.transformer, hparams.minibatch_size, avg_word_embs=True)\n",
    "ckpt = \"/home/jupyter/train-CLIP-FT/lightning_logs/version_7/checkpoints/epoch=31-step=4063.ckpt\"\n",
    "new_model=CustomCLIPWrapper()\n",
    "new_weights=new_model.state_dict()\n",
    "old_weights= list(torch.load(ckpt)['state_dict'].items())\n",
    "# model = CustomCLIPWrapper.load_from_checkpoint(ckpt)"
   ]
  },
  {
   "cell_type": "code",
   "execution_count": null,
   "id": "eeeba0aa-4dd4-488c-aad4-26b02ce1fad6",
   "metadata": {},
   "outputs": [],
   "source": []
  },
  {
   "cell_type": "code",
   "execution_count": null,
   "id": "b517ea7b-55ab-4c53-b839-1e295ce1ee07",
   "metadata": {},
   "outputs": [],
   "source": []
  },
  {
   "cell_type": "markdown",
   "id": "e7b15c75-9323-4d87-a1d6-9b7d80112faf",
   "metadata": {},
   "source": [
    "## Enrollment Evaluation"
   ]
  },
  {
   "cell_type": "code",
   "execution_count": null,
   "id": "b99fc5b1-c049-4840-9329-68a93551387f",
   "metadata": {},
   "outputs": [],
   "source": [
    "import os\n",
    "import torch\n",
    "import clip\n",
    "import numpy as np\n",
    "import pandas as pd\n",
    "import pyarrow.feather as feather\n",
    "from PIL import Image\n",
    "from urllib import request\n",
    "from tqdm import tqdm\n",
    "from torch.utils.data import Dataset, DataLoader\n",
    "from torchvision import datasets, transforms\n",
    "import torchvision, torch\n",
    "from sklearn.linear_model import LogisticRegression\n",
    "import sklearn\n",
    "from sklearn import metrics\n",
    "from sklearn.metrics import precision_recall_fscore_support\n",
    "# from transformers import CLIPProcessor, CLIPModel\n",
    "\n",
    "device = \"cuda\" if torch.cuda.is_available() else \"cpu\"\n",
    "_, preprocess = clip.load(\"ViT-B/32\", device=device)\n",
    "# device\n",
    "\n",
    "# PATH=\"/home/jupyter/train-CLIP-FT/lightning_logs/version_4/checkpoints/epoch=31-step=16319.ckpt\"\n",
    "PATH = \"/home/jupyter/train-CLIP-FT/lightning_logs/version_4/checkpoints/epoch=31-step=4063.ckpt\"\n",
    "model = torch.load(PATH, map_location='cpu')\n",
    "print(\"model loaded\")\n",
    "test_label_dict={}\n",
    "enrollment_label_dict={}\n",
    "\n",
    "\n",
    "    \n",
    "\n",
    "    \n",
    "\n",
    "    \n",
    "    \n",
    "\n",
    "\n",
    "metric_agg= pd.DataFrame(columns=[\"enrollment_batch_size\",\"set_number\",\"accuracy\",\"precision\",\"recall\",\"fbeta_score\",\"weighted_precision\",\"weighted_recall\",\"weighted_fbeta\"])\n",
    "\n",
    "def get_features(dataset, BATCH_SIZE=100):\n",
    "    all_features = []\n",
    "    all_labels = []\n",
    "\n",
    "    with torch.no_grad():\n",
    "        for images, labels in tqdm(DataLoader(dataset, batch_size=BATCH_SIZE)):\n",
    "            features = model.encode_image(images.to(device))\n",
    "            # images=images.type(model.dtype)\n",
    "            # features=loaded(images.to(device))\n",
    "\n",
    "            all_features.append(features)\n",
    "            all_labels.append(labels)\n",
    "\n",
    "    return torch.cat(all_features).cpu().numpy(), torch.cat(all_labels).cpu().numpy()\n",
    "\n",
    "acc_df= pd.DataFrame()\n",
    "\n",
    "for enrollment_size in range(90,91):\n",
    "    for set_number in [1]:\n",
    "        # dvc-manual/gtin_60/data/prep/subsets/enrollment_size_{enrollment_size}_SN_{set_number}\n",
    "        enrollment_path= os.path.join(os.getcwd(),f'dvc-manual/gtin_60/data/prep/80gtin_allsubfolders/80gtin_ET/ET_size_{enrollment_size}')\n",
    "        enrollment_preprocess= torchvision.datasets.ImageFolder(root=enrollment_path,transform=preprocess)\n",
    "        # 'dvc-manual/gtin_60/data/prep/test'\n",
    "        test_path= os.path.join(os.getcwd(),'dvc-manual/gtin_60/data/prep/80gtin_allsubfolders/splitfolders/test')\n",
    "        test_preprocess= torchvision.datasets.ImageFolder(root=test_path,transform=preprocess)\n",
    "        \n",
    "        for k,v in test_preprocess.class_to_idx.items():\n",
    "            test_label_dict[v]=k\n",
    "        for k,v in enrollment_preprocess.class_to_idx.items():\n",
    "            enrollment_label_dict[v]=k\n",
    "        \n",
    "        enrollment_features, enrollment_labels = get_features(enrollment_preprocess, 100)\n",
    "        test_features, test_labels = get_features(test_preprocess, 100)\n",
    "        \n",
    "        classifier = LogisticRegression(random_state=0, C=0.316, max_iter=1000, verbose=0)\n",
    "        classifier.fit(enrollment_features, enrollment_labels)\n",
    "        \n",
    "        \n",
    "        \n",
    "        predictions = classifier.predict(test_features)\n",
    "        true_labels=test_labels.copy()\n",
    "        \n",
    "        for idx,val in enumerate(test_labels):\n",
    "            true_labels[idx]=test_label_dict[val]\n",
    "            \n",
    "        for idx,val in enumerate(predictions):\n",
    "            predictions[idx]=enrollment_label_dict[val]\n",
    "        \n",
    "        acc= metrics.accuracy_score(np.array(true_labels),np.array(predictions))\n",
    "        report=sklearn.metrics.classification_report(np.array(true_labels),np.array(predictions))\n",
    "        prec, rec,fscore,supp=precision_recall_fscore_support(np.array(true_labels),np.array(predictions), average='macro')\n",
    "        w_prec, w_rec,w_fscore,w_supp=precision_recall_fscore_support(np.array(true_labels),np.array(predictions), average='weighted')\n",
    "        \n",
    "        row={\"enrollment_batch_size\": enrollment_size,\n",
    "                 \"set_number\": set_number,\n",
    "                 \"accuracy\": acc,\n",
    "                 \"precision\":prec,\n",
    "                 \"recall\": rec,\n",
    "                 \"fbeta_score\": fscore,\n",
    "                 \"weighted_precision\": w_prec,\n",
    "                 \"weighted_recall\": w_rec,\n",
    "                 \"weighted_fbeta\": w_fscore\n",
    "                }\n",
    "        metric_agg=metric_agg.append(row,ignore_index=True)\n",
    "        print(f\"Enrollment size = {enrollment_size}\")\n",
    "        print(\"Accuracy= \", acc)\n",
    "        \n",
    "    break"
   ]
  },
  {
   "cell_type": "code",
   "execution_count": 1,
   "id": "23790bb9-3026-4a1b-a00f-e79c1b766d2b",
   "metadata": {},
   "outputs": [
    {
     "ename": "NameError",
     "evalue": "name 'report' is not defined",
     "output_type": "error",
     "traceback": [
      "\u001b[0;31m---------------------------------------------------------------------------\u001b[0m",
      "\u001b[0;31mNameError\u001b[0m                                 Traceback (most recent call last)",
      "\u001b[0;32m/tmp/ipykernel_23136/631451983.py\u001b[0m in \u001b[0;36m<module>\u001b[0;34m\u001b[0m\n\u001b[0;32m----> 1\u001b[0;31m \u001b[0mprint\u001b[0m\u001b[0;34m(\u001b[0m\u001b[0mreport\u001b[0m\u001b[0;34m)\u001b[0m\u001b[0;34m\u001b[0m\u001b[0;34m\u001b[0m\u001b[0m\n\u001b[0m",
      "\u001b[0;31mNameError\u001b[0m: name 'report' is not defined"
     ]
    }
   ],
   "source": [
    "print(report)"
   ]
  },
  {
   "cell_type": "raw",
   "id": "ed45dd15-f3f1-4945-93d0-1c7fc8b6f0eb",
   "metadata": {},
   "source": [
    "report"
   ]
  },
  {
   "cell_type": "code",
   "execution_count": 145,
   "id": "064bfee2-c4ae-467e-aeb7-cf9745747433",
   "metadata": {},
   "outputs": [
    {
     "data": {
      "application/vnd.plotly.v1+json": {
       "config": {
        "plotlyServerURL": "https://plot.ly"
       },
       "data": [
        {
         "legendgroup": "accuracy",
         "mode": "markers+text",
         "name": "accuracy",
         "type": "scatter",
         "visible": "legendonly",
         "x": [
          30,
          40,
          50,
          60,
          70,
          80,
          90,
          100,
          110,
          120,
          130,
          140
         ],
         "xaxis": "x",
         "y": [
          0.8969414893617021,
          0.9089095744680851,
          0.9082446808510638,
          0.9222074468085106,
          0.9321808510638298,
          0.9355053191489362,
          0.9341755319148937,
          0.9321808510638298,
          0.9355053191489362,
          0.9341755319148937,
          0.9461436170212766,
          0.9388297872340425
         ],
         "yaxis": "y"
        },
        {
         "legendgroup": "precision",
         "mode": "markers+text",
         "name": "precision",
         "type": "scatter",
         "visible": "legendonly",
         "x": [
          30,
          40,
          50,
          60,
          70,
          80,
          90,
          100,
          110,
          120,
          130,
          140
         ],
         "xaxis": "x",
         "y": [
          0.30731894931479803,
          0.34355425565336006,
          0.3075828110687726,
          0.3439359880202502,
          0.3299390797817957,
          0.3530666462977792,
          0.3372122205742318,
          0.3614280703871592,
          0.3788337660951623,
          0.3452673698354453,
          0.40034226210895774,
          0.36075940677290474
         ],
         "yaxis": "y"
        },
        {
         "legendgroup": "fbeta_score",
         "mode": "markers+text",
         "name": "fbeta_score",
         "type": "scatter",
         "visible": "legendonly",
         "x": [
          30,
          40,
          50,
          60,
          70,
          80,
          90,
          100,
          110,
          120,
          130,
          140
         ],
         "xaxis": "x",
         "y": [
          0.2928208315763629,
          0.32971939835597647,
          0.29513638267708614,
          0.33274869111796596,
          0.32066596800324054,
          0.3434965592253339,
          0.327649298603798,
          0.3509613400412001,
          0.36919892899146706,
          0.3356913879441265,
          0.3922773557145109,
          0.35239438280783536
         ],
         "yaxis": "y"
        },
        {
         "legendgroup": "recall",
         "mode": "markers+text",
         "name": "recall",
         "type": "scatter",
         "visible": "legendonly",
         "x": [
          30,
          40,
          50,
          60,
          70,
          80,
          90,
          100,
          110,
          120,
          130,
          140
         ],
         "xaxis": "x",
         "y": [
          0.2805576152181475,
          0.3178240065175903,
          0.28425703497512317,
          0.3229142044076144,
          0.3124054120777401,
          0.3347830361478713,
          0.31914125134273924,
          0.3417052374543591,
          0.360560292150362,
          0.32707429510504976,
          0.38493838032441535,
          0.34491861024251325
         ],
         "yaxis": "y"
        }
       ],
       "layout": {
        "annotations": [
         {
          "font": {
           "size": 16
          },
          "showarrow": false,
          "text": "Metric: Angular",
          "x": 0.5,
          "xanchor": "center",
          "xref": "paper",
          "y": 1,
          "yanchor": "bottom",
          "yref": "paper"
         }
        ],
        "height": 800,
        "template": {
         "data": {
          "bar": [
           {
            "error_x": {
             "color": "#2a3f5f"
            },
            "error_y": {
             "color": "#2a3f5f"
            },
            "marker": {
             "line": {
              "color": "#E5ECF6",
              "width": 0.5
             }
            },
            "type": "bar"
           }
          ],
          "barpolar": [
           {
            "marker": {
             "line": {
              "color": "#E5ECF6",
              "width": 0.5
             }
            },
            "type": "barpolar"
           }
          ],
          "carpet": [
           {
            "aaxis": {
             "endlinecolor": "#2a3f5f",
             "gridcolor": "white",
             "linecolor": "white",
             "minorgridcolor": "white",
             "startlinecolor": "#2a3f5f"
            },
            "baxis": {
             "endlinecolor": "#2a3f5f",
             "gridcolor": "white",
             "linecolor": "white",
             "minorgridcolor": "white",
             "startlinecolor": "#2a3f5f"
            },
            "type": "carpet"
           }
          ],
          "choropleth": [
           {
            "colorbar": {
             "outlinewidth": 0,
             "ticks": ""
            },
            "type": "choropleth"
           }
          ],
          "contour": [
           {
            "colorbar": {
             "outlinewidth": 0,
             "ticks": ""
            },
            "colorscale": [
             [
              0,
              "#0d0887"
             ],
             [
              0.1111111111111111,
              "#46039f"
             ],
             [
              0.2222222222222222,
              "#7201a8"
             ],
             [
              0.3333333333333333,
              "#9c179e"
             ],
             [
              0.4444444444444444,
              "#bd3786"
             ],
             [
              0.5555555555555556,
              "#d8576b"
             ],
             [
              0.6666666666666666,
              "#ed7953"
             ],
             [
              0.7777777777777778,
              "#fb9f3a"
             ],
             [
              0.8888888888888888,
              "#fdca26"
             ],
             [
              1,
              "#f0f921"
             ]
            ],
            "type": "contour"
           }
          ],
          "contourcarpet": [
           {
            "colorbar": {
             "outlinewidth": 0,
             "ticks": ""
            },
            "type": "contourcarpet"
           }
          ],
          "heatmap": [
           {
            "colorbar": {
             "outlinewidth": 0,
             "ticks": ""
            },
            "colorscale": [
             [
              0,
              "#0d0887"
             ],
             [
              0.1111111111111111,
              "#46039f"
             ],
             [
              0.2222222222222222,
              "#7201a8"
             ],
             [
              0.3333333333333333,
              "#9c179e"
             ],
             [
              0.4444444444444444,
              "#bd3786"
             ],
             [
              0.5555555555555556,
              "#d8576b"
             ],
             [
              0.6666666666666666,
              "#ed7953"
             ],
             [
              0.7777777777777778,
              "#fb9f3a"
             ],
             [
              0.8888888888888888,
              "#fdca26"
             ],
             [
              1,
              "#f0f921"
             ]
            ],
            "type": "heatmap"
           }
          ],
          "heatmapgl": [
           {
            "colorbar": {
             "outlinewidth": 0,
             "ticks": ""
            },
            "colorscale": [
             [
              0,
              "#0d0887"
             ],
             [
              0.1111111111111111,
              "#46039f"
             ],
             [
              0.2222222222222222,
              "#7201a8"
             ],
             [
              0.3333333333333333,
              "#9c179e"
             ],
             [
              0.4444444444444444,
              "#bd3786"
             ],
             [
              0.5555555555555556,
              "#d8576b"
             ],
             [
              0.6666666666666666,
              "#ed7953"
             ],
             [
              0.7777777777777778,
              "#fb9f3a"
             ],
             [
              0.8888888888888888,
              "#fdca26"
             ],
             [
              1,
              "#f0f921"
             ]
            ],
            "type": "heatmapgl"
           }
          ],
          "histogram": [
           {
            "marker": {
             "colorbar": {
              "outlinewidth": 0,
              "ticks": ""
             }
            },
            "type": "histogram"
           }
          ],
          "histogram2d": [
           {
            "colorbar": {
             "outlinewidth": 0,
             "ticks": ""
            },
            "colorscale": [
             [
              0,
              "#0d0887"
             ],
             [
              0.1111111111111111,
              "#46039f"
             ],
             [
              0.2222222222222222,
              "#7201a8"
             ],
             [
              0.3333333333333333,
              "#9c179e"
             ],
             [
              0.4444444444444444,
              "#bd3786"
             ],
             [
              0.5555555555555556,
              "#d8576b"
             ],
             [
              0.6666666666666666,
              "#ed7953"
             ],
             [
              0.7777777777777778,
              "#fb9f3a"
             ],
             [
              0.8888888888888888,
              "#fdca26"
             ],
             [
              1,
              "#f0f921"
             ]
            ],
            "type": "histogram2d"
           }
          ],
          "histogram2dcontour": [
           {
            "colorbar": {
             "outlinewidth": 0,
             "ticks": ""
            },
            "colorscale": [
             [
              0,
              "#0d0887"
             ],
             [
              0.1111111111111111,
              "#46039f"
             ],
             [
              0.2222222222222222,
              "#7201a8"
             ],
             [
              0.3333333333333333,
              "#9c179e"
             ],
             [
              0.4444444444444444,
              "#bd3786"
             ],
             [
              0.5555555555555556,
              "#d8576b"
             ],
             [
              0.6666666666666666,
              "#ed7953"
             ],
             [
              0.7777777777777778,
              "#fb9f3a"
             ],
             [
              0.8888888888888888,
              "#fdca26"
             ],
             [
              1,
              "#f0f921"
             ]
            ],
            "type": "histogram2dcontour"
           }
          ],
          "mesh3d": [
           {
            "colorbar": {
             "outlinewidth": 0,
             "ticks": ""
            },
            "type": "mesh3d"
           }
          ],
          "parcoords": [
           {
            "line": {
             "colorbar": {
              "outlinewidth": 0,
              "ticks": ""
             }
            },
            "type": "parcoords"
           }
          ],
          "pie": [
           {
            "automargin": true,
            "type": "pie"
           }
          ],
          "scatter": [
           {
            "marker": {
             "colorbar": {
              "outlinewidth": 0,
              "ticks": ""
             }
            },
            "type": "scatter"
           }
          ],
          "scatter3d": [
           {
            "line": {
             "colorbar": {
              "outlinewidth": 0,
              "ticks": ""
             }
            },
            "marker": {
             "colorbar": {
              "outlinewidth": 0,
              "ticks": ""
             }
            },
            "type": "scatter3d"
           }
          ],
          "scattercarpet": [
           {
            "marker": {
             "colorbar": {
              "outlinewidth": 0,
              "ticks": ""
             }
            },
            "type": "scattercarpet"
           }
          ],
          "scattergeo": [
           {
            "marker": {
             "colorbar": {
              "outlinewidth": 0,
              "ticks": ""
             }
            },
            "type": "scattergeo"
           }
          ],
          "scattergl": [
           {
            "marker": {
             "colorbar": {
              "outlinewidth": 0,
              "ticks": ""
             }
            },
            "type": "scattergl"
           }
          ],
          "scattermapbox": [
           {
            "marker": {
             "colorbar": {
              "outlinewidth": 0,
              "ticks": ""
             }
            },
            "type": "scattermapbox"
           }
          ],
          "scatterpolar": [
           {
            "marker": {
             "colorbar": {
              "outlinewidth": 0,
              "ticks": ""
             }
            },
            "type": "scatterpolar"
           }
          ],
          "scatterpolargl": [
           {
            "marker": {
             "colorbar": {
              "outlinewidth": 0,
              "ticks": ""
             }
            },
            "type": "scatterpolargl"
           }
          ],
          "scatterternary": [
           {
            "marker": {
             "colorbar": {
              "outlinewidth": 0,
              "ticks": ""
             }
            },
            "type": "scatterternary"
           }
          ],
          "surface": [
           {
            "colorbar": {
             "outlinewidth": 0,
             "ticks": ""
            },
            "colorscale": [
             [
              0,
              "#0d0887"
             ],
             [
              0.1111111111111111,
              "#46039f"
             ],
             [
              0.2222222222222222,
              "#7201a8"
             ],
             [
              0.3333333333333333,
              "#9c179e"
             ],
             [
              0.4444444444444444,
              "#bd3786"
             ],
             [
              0.5555555555555556,
              "#d8576b"
             ],
             [
              0.6666666666666666,
              "#ed7953"
             ],
             [
              0.7777777777777778,
              "#fb9f3a"
             ],
             [
              0.8888888888888888,
              "#fdca26"
             ],
             [
              1,
              "#f0f921"
             ]
            ],
            "type": "surface"
           }
          ],
          "table": [
           {
            "cells": {
             "fill": {
              "color": "#EBF0F8"
             },
             "line": {
              "color": "white"
             }
            },
            "header": {
             "fill": {
              "color": "#C8D4E3"
             },
             "line": {
              "color": "white"
             }
            },
            "type": "table"
           }
          ]
         },
         "layout": {
          "annotationdefaults": {
           "arrowcolor": "#2a3f5f",
           "arrowhead": 0,
           "arrowwidth": 1
          },
          "autotypenumbers": "strict",
          "coloraxis": {
           "colorbar": {
            "outlinewidth": 0,
            "ticks": ""
           }
          },
          "colorscale": {
           "diverging": [
            [
             0,
             "#8e0152"
            ],
            [
             0.1,
             "#c51b7d"
            ],
            [
             0.2,
             "#de77ae"
            ],
            [
             0.3,
             "#f1b6da"
            ],
            [
             0.4,
             "#fde0ef"
            ],
            [
             0.5,
             "#f7f7f7"
            ],
            [
             0.6,
             "#e6f5d0"
            ],
            [
             0.7,
             "#b8e186"
            ],
            [
             0.8,
             "#7fbc41"
            ],
            [
             0.9,
             "#4d9221"
            ],
            [
             1,
             "#276419"
            ]
           ],
           "sequential": [
            [
             0,
             "#0d0887"
            ],
            [
             0.1111111111111111,
             "#46039f"
            ],
            [
             0.2222222222222222,
             "#7201a8"
            ],
            [
             0.3333333333333333,
             "#9c179e"
            ],
            [
             0.4444444444444444,
             "#bd3786"
            ],
            [
             0.5555555555555556,
             "#d8576b"
            ],
            [
             0.6666666666666666,
             "#ed7953"
            ],
            [
             0.7777777777777778,
             "#fb9f3a"
            ],
            [
             0.8888888888888888,
             "#fdca26"
            ],
            [
             1,
             "#f0f921"
            ]
           ],
           "sequentialminus": [
            [
             0,
             "#0d0887"
            ],
            [
             0.1111111111111111,
             "#46039f"
            ],
            [
             0.2222222222222222,
             "#7201a8"
            ],
            [
             0.3333333333333333,
             "#9c179e"
            ],
            [
             0.4444444444444444,
             "#bd3786"
            ],
            [
             0.5555555555555556,
             "#d8576b"
            ],
            [
             0.6666666666666666,
             "#ed7953"
            ],
            [
             0.7777777777777778,
             "#fb9f3a"
            ],
            [
             0.8888888888888888,
             "#fdca26"
            ],
            [
             1,
             "#f0f921"
            ]
           ]
          },
          "colorway": [
           "#636efa",
           "#EF553B",
           "#00cc96",
           "#ab63fa",
           "#FFA15A",
           "#19d3f3",
           "#FF6692",
           "#B6E880",
           "#FF97FF",
           "#FECB52"
          ],
          "font": {
           "color": "#2a3f5f"
          },
          "geo": {
           "bgcolor": "white",
           "lakecolor": "white",
           "landcolor": "#E5ECF6",
           "showlakes": true,
           "showland": true,
           "subunitcolor": "white"
          },
          "hoverlabel": {
           "align": "left"
          },
          "hovermode": "closest",
          "mapbox": {
           "style": "light"
          },
          "paper_bgcolor": "white",
          "plot_bgcolor": "#E5ECF6",
          "polar": {
           "angularaxis": {
            "gridcolor": "white",
            "linecolor": "white",
            "ticks": ""
           },
           "bgcolor": "#E5ECF6",
           "radialaxis": {
            "gridcolor": "white",
            "linecolor": "white",
            "ticks": ""
           }
          },
          "scene": {
           "xaxis": {
            "backgroundcolor": "#E5ECF6",
            "gridcolor": "white",
            "gridwidth": 2,
            "linecolor": "white",
            "showbackground": true,
            "ticks": "",
            "zerolinecolor": "white"
           },
           "yaxis": {
            "backgroundcolor": "#E5ECF6",
            "gridcolor": "white",
            "gridwidth": 2,
            "linecolor": "white",
            "showbackground": true,
            "ticks": "",
            "zerolinecolor": "white"
           },
           "zaxis": {
            "backgroundcolor": "#E5ECF6",
            "gridcolor": "white",
            "gridwidth": 2,
            "linecolor": "white",
            "showbackground": true,
            "ticks": "",
            "zerolinecolor": "white"
           }
          },
          "shapedefaults": {
           "line": {
            "color": "#2a3f5f"
           }
          },
          "ternary": {
           "aaxis": {
            "gridcolor": "white",
            "linecolor": "white",
            "ticks": ""
           },
           "baxis": {
            "gridcolor": "white",
            "linecolor": "white",
            "ticks": ""
           },
           "bgcolor": "#E5ECF6",
           "caxis": {
            "gridcolor": "white",
            "linecolor": "white",
            "ticks": ""
           }
          },
          "title": {
           "x": 0.05
          },
          "xaxis": {
           "automargin": true,
           "gridcolor": "white",
           "linecolor": "white",
           "ticks": "",
           "title": {
            "standoff": 15
           },
           "zerolinecolor": "white",
           "zerolinewidth": 2
          },
          "yaxis": {
           "automargin": true,
           "gridcolor": "white",
           "linecolor": "white",
           "ticks": "",
           "title": {
            "standoff": 15
           },
           "zerolinecolor": "white",
           "zerolinewidth": 2
          }
         }
        },
        "width": 1400,
        "xaxis": {
         "anchor": "y",
         "autorange": true,
         "domain": [
          0,
          1
         ],
         "range": [
          23.450124449550067,
          146.54987555044994
         ],
         "rangebreaks": [
          {
           "values": [
            30,
            40,
            50,
            60,
            70,
            80,
            90,
            100,
            110,
            120,
            130,
            140
           ]
          }
         ],
         "title": {
          "font": {
           "size": 10
          },
          "text": "Enrollment Size"
         },
         "type": "linear"
        },
        "yaxis": {
         "anchor": "x",
         "autorange": true,
         "domain": [
          0,
          1
         ],
         "range": [
          0.8938356329835546,
          0.9492494733994241
         ],
         "type": "linear"
        }
       }
      },
      "image/png": "[encoded data removed]",
      "text/html": [
       "<div>                            <div id=\"cce3eb84-e339-42c2-9a89-d643e2b4b429\" class=\"plotly-graph-div\" style=\"height:800px; width:1400px;\"></div>            <script type=\"text/javascript\">                require([\"plotly\"], function(Plotly) {                    window.PLOTLYENV=window.PLOTLYENV || {};                                    if (document.getElementById(\"cce3eb84-e339-42c2-9a89-d643e2b4b429\")) {                    Plotly.newPlot(                        \"cce3eb84-e339-42c2-9a89-d643e2b4b429\",                        [{\"legendgroup\": \"accuracy\", \"mode\": \"markers+text\", \"name\": \"accuracy\", \"type\": \"scatter\", \"x\": [30.0, 40.0, 50.0, 60.0, 70.0, 80.0, 90.0, 100.0, 110.0, 120.0, 130.0, 140.0], \"xaxis\": \"x\", \"y\": [0.8969414893617021, 0.9089095744680851, 0.9082446808510638, 0.9222074468085106, 0.9321808510638298, 0.9355053191489362, 0.9341755319148937, 0.9321808510638298, 0.9355053191489362, 0.9341755319148937, 0.9461436170212766, 0.9388297872340425], \"yaxis\": \"y\"}, {\"legendgroup\": \"precision\", \"mode\": \"markers+text\", \"name\": \"precision\", \"type\": \"scatter\", \"x\": [30.0, 40.0, 50.0, 60.0, 70.0, 80.0, 90.0, 100.0, 110.0, 120.0, 130.0, 140.0], \"xaxis\": \"x\", \"y\": [0.30731894931479803, 0.34355425565336006, 0.3075828110687726, 0.3439359880202502, 0.3299390797817957, 0.3530666462977792, 0.3372122205742318, 0.3614280703871592, 0.3788337660951623, 0.3452673698354453, 0.40034226210895774, 0.36075940677290474], \"yaxis\": \"y\"}, {\"legendgroup\": \"fbeta_score\", \"mode\": \"markers+text\", \"name\": \"fbeta_score\", \"type\": \"scatter\", \"x\": [30.0, 40.0, 50.0, 60.0, 70.0, 80.0, 90.0, 100.0, 110.0, 120.0, 130.0, 140.0], \"xaxis\": \"x\", \"y\": [0.2928208315763629, 0.32971939835597647, 0.29513638267708614, 0.33274869111796596, 0.32066596800324054, 0.3434965592253339, 0.327649298603798, 0.3509613400412001, 0.36919892899146706, 0.3356913879441265, 0.3922773557145109, 0.35239438280783536], \"yaxis\": \"y\"}, {\"legendgroup\": \"recall\", \"mode\": \"markers+text\", \"name\": \"recall\", \"type\": \"scatter\", \"x\": [30.0, 40.0, 50.0, 60.0, 70.0, 80.0, 90.0, 100.0, 110.0, 120.0, 130.0, 140.0], \"xaxis\": \"x\", \"y\": [0.2805576152181475, 0.3178240065175903, 0.28425703497512317, 0.3229142044076144, 0.3124054120777401, 0.3347830361478713, 0.31914125134273924, 0.3417052374543591, 0.360560292150362, 0.32707429510504976, 0.38493838032441535, 0.34491861024251325], \"yaxis\": \"y\"}],                        {\"annotations\": [{\"font\": {\"size\": 16}, \"showarrow\": false, \"text\": \"Metric: Angular\", \"x\": 0.5, \"xanchor\": \"center\", \"xref\": \"paper\", \"y\": 1.0, \"yanchor\": \"bottom\", \"yref\": \"paper\"}], \"height\": 800, \"template\": {\"data\": {\"bar\": [{\"error_x\": {\"color\": \"#2a3f5f\"}, \"error_y\": {\"color\": \"#2a3f5f\"}, \"marker\": {\"line\": {\"color\": \"#E5ECF6\", \"width\": 0.5}}, \"type\": \"bar\"}], \"barpolar\": [{\"marker\": {\"line\": {\"color\": \"#E5ECF6\", \"width\": 0.5}}, \"type\": \"barpolar\"}], \"carpet\": [{\"aaxis\": {\"endlinecolor\": \"#2a3f5f\", \"gridcolor\": \"white\", \"linecolor\": \"white\", \"minorgridcolor\": \"white\", \"startlinecolor\": \"#2a3f5f\"}, \"baxis\": {\"endlinecolor\": \"#2a3f5f\", \"gridcolor\": \"white\", \"linecolor\": \"white\", \"minorgridcolor\": \"white\", \"startlinecolor\": \"#2a3f5f\"}, \"type\": \"carpet\"}], \"choropleth\": [{\"colorbar\": {\"outlinewidth\": 0, \"ticks\": \"\"}, \"type\": \"choropleth\"}], \"contour\": [{\"colorbar\": {\"outlinewidth\": 0, \"ticks\": \"\"}, \"colorscale\": [[0.0, \"#0d0887\"], [0.1111111111111111, \"#46039f\"], [0.2222222222222222, \"#7201a8\"], [0.3333333333333333, \"#9c179e\"], [0.4444444444444444, \"#bd3786\"], [0.5555555555555556, \"#d8576b\"], [0.6666666666666666, \"#ed7953\"], [0.7777777777777778, \"#fb9f3a\"], [0.8888888888888888, \"#fdca26\"], [1.0, \"#f0f921\"]], \"type\": \"contour\"}], \"contourcarpet\": [{\"colorbar\": {\"outlinewidth\": 0, \"ticks\": \"\"}, \"type\": \"contourcarpet\"}], \"heatmap\": [{\"colorbar\": {\"outlinewidth\": 0, \"ticks\": \"\"}, \"colorscale\": [[0.0, \"#0d0887\"], [0.1111111111111111, \"#46039f\"], [0.2222222222222222, \"#7201a8\"], [0.3333333333333333, \"#9c179e\"], [0.4444444444444444, \"#bd3786\"], [0.5555555555555556, \"#d8576b\"], [0.6666666666666666, \"#ed7953\"], [0.7777777777777778, \"#fb9f3a\"], [0.8888888888888888, \"#fdca26\"], [1.0, \"#f0f921\"]], \"type\": \"heatmap\"}], \"heatmapgl\": [{\"colorbar\": {\"outlinewidth\": 0, \"ticks\": \"\"}, \"colorscale\": [[0.0, \"#0d0887\"], [0.1111111111111111, \"#46039f\"], [0.2222222222222222, \"#7201a8\"], [0.3333333333333333, \"#9c179e\"], [0.4444444444444444, \"#bd3786\"], [0.5555555555555556, \"#d8576b\"], [0.6666666666666666, \"#ed7953\"], [0.7777777777777778, \"#fb9f3a\"], [0.8888888888888888, \"#fdca26\"], [1.0, \"#f0f921\"]], \"type\": \"heatmapgl\"}], \"histogram\": [{\"marker\": {\"colorbar\": {\"outlinewidth\": 0, \"ticks\": \"\"}}, \"type\": \"histogram\"}], \"histogram2d\": [{\"colorbar\": {\"outlinewidth\": 0, \"ticks\": \"\"}, \"colorscale\": [[0.0, \"#0d0887\"], [0.1111111111111111, \"#46039f\"], [0.2222222222222222, \"#7201a8\"], [0.3333333333333333, \"#9c179e\"], [0.4444444444444444, \"#bd3786\"], [0.5555555555555556, \"#d8576b\"], [0.6666666666666666, \"#ed7953\"], [0.7777777777777778, \"#fb9f3a\"], [0.8888888888888888, \"#fdca26\"], [1.0, \"#f0f921\"]], \"type\": \"histogram2d\"}], \"histogram2dcontour\": [{\"colorbar\": {\"outlinewidth\": 0, \"ticks\": \"\"}, \"colorscale\": [[0.0, \"#0d0887\"], [0.1111111111111111, \"#46039f\"], [0.2222222222222222, \"#7201a8\"], [0.3333333333333333, \"#9c179e\"], [0.4444444444444444, \"#bd3786\"], [0.5555555555555556, \"#d8576b\"], [0.6666666666666666, \"#ed7953\"], [0.7777777777777778, \"#fb9f3a\"], [0.8888888888888888, \"#fdca26\"], [1.0, \"#f0f921\"]], \"type\": \"histogram2dcontour\"}], \"mesh3d\": [{\"colorbar\": {\"outlinewidth\": 0, \"ticks\": \"\"}, \"type\": \"mesh3d\"}], \"parcoords\": [{\"line\": {\"colorbar\": {\"outlinewidth\": 0, \"ticks\": \"\"}}, \"type\": \"parcoords\"}], \"pie\": [{\"automargin\": true, \"type\": \"pie\"}], \"scatter\": [{\"marker\": {\"colorbar\": {\"outlinewidth\": 0, \"ticks\": \"\"}}, \"type\": \"scatter\"}], \"scatter3d\": [{\"line\": {\"colorbar\": {\"outlinewidth\": 0, \"ticks\": \"\"}}, \"marker\": {\"colorbar\": {\"outlinewidth\": 0, \"ticks\": \"\"}}, \"type\": \"scatter3d\"}], \"scattercarpet\": [{\"marker\": {\"colorbar\": {\"outlinewidth\": 0, \"ticks\": \"\"}}, \"type\": \"scattercarpet\"}], \"scattergeo\": [{\"marker\": {\"colorbar\": {\"outlinewidth\": 0, \"ticks\": \"\"}}, \"type\": \"scattergeo\"}], \"scattergl\": [{\"marker\": {\"colorbar\": {\"outlinewidth\": 0, \"ticks\": \"\"}}, \"type\": \"scattergl\"}], \"scattermapbox\": [{\"marker\": {\"colorbar\": {\"outlinewidth\": 0, \"ticks\": \"\"}}, \"type\": \"scattermapbox\"}], \"scatterpolar\": [{\"marker\": {\"colorbar\": {\"outlinewidth\": 0, \"ticks\": \"\"}}, \"type\": \"scatterpolar\"}], \"scatterpolargl\": [{\"marker\": {\"colorbar\": {\"outlinewidth\": 0, \"ticks\": \"\"}}, \"type\": \"scatterpolargl\"}], \"scatterternary\": [{\"marker\": {\"colorbar\": {\"outlinewidth\": 0, \"ticks\": \"\"}}, \"type\": \"scatterternary\"}], \"surface\": [{\"colorbar\": {\"outlinewidth\": 0, \"ticks\": \"\"}, \"colorscale\": [[0.0, \"#0d0887\"], [0.1111111111111111, \"#46039f\"], [0.2222222222222222, \"#7201a8\"], [0.3333333333333333, \"#9c179e\"], [0.4444444444444444, \"#bd3786\"], [0.5555555555555556, \"#d8576b\"], [0.6666666666666666, \"#ed7953\"], [0.7777777777777778, \"#fb9f3a\"], [0.8888888888888888, \"#fdca26\"], [1.0, \"#f0f921\"]], \"type\": \"surface\"}], \"table\": [{\"cells\": {\"fill\": {\"color\": \"#EBF0F8\"}, \"line\": {\"color\": \"white\"}}, \"header\": {\"fill\": {\"color\": \"#C8D4E3\"}, \"line\": {\"color\": \"white\"}}, \"type\": \"table\"}]}, \"layout\": {\"annotationdefaults\": {\"arrowcolor\": \"#2a3f5f\", \"arrowhead\": 0, \"arrowwidth\": 1}, \"autotypenumbers\": \"strict\", \"coloraxis\": {\"colorbar\": {\"outlinewidth\": 0, \"ticks\": \"\"}}, \"colorscale\": {\"diverging\": [[0, \"#8e0152\"], [0.1, \"#c51b7d\"], [0.2, \"#de77ae\"], [0.3, \"#f1b6da\"], [0.4, \"#fde0ef\"], [0.5, \"#f7f7f7\"], [0.6, \"#e6f5d0\"], [0.7, \"#b8e186\"], [0.8, \"#7fbc41\"], [0.9, \"#4d9221\"], [1, \"#276419\"]], \"sequential\": [[0.0, \"#0d0887\"], [0.1111111111111111, \"#46039f\"], [0.2222222222222222, \"#7201a8\"], [0.3333333333333333, \"#9c179e\"], [0.4444444444444444, \"#bd3786\"], [0.5555555555555556, \"#d8576b\"], [0.6666666666666666, \"#ed7953\"], [0.7777777777777778, \"#fb9f3a\"], [0.8888888888888888, \"#fdca26\"], [1.0, \"#f0f921\"]], \"sequentialminus\": [[0.0, \"#0d0887\"], [0.1111111111111111, \"#46039f\"], [0.2222222222222222, \"#7201a8\"], [0.3333333333333333, \"#9c179e\"], [0.4444444444444444, \"#bd3786\"], [0.5555555555555556, \"#d8576b\"], [0.6666666666666666, \"#ed7953\"], [0.7777777777777778, \"#fb9f3a\"], [0.8888888888888888, \"#fdca26\"], [1.0, \"#f0f921\"]]}, \"colorway\": [\"#636efa\", \"#EF553B\", \"#00cc96\", \"#ab63fa\", \"#FFA15A\", \"#19d3f3\", \"#FF6692\", \"#B6E880\", \"#FF97FF\", \"#FECB52\"], \"font\": {\"color\": \"#2a3f5f\"}, \"geo\": {\"bgcolor\": \"white\", \"lakecolor\": \"white\", \"landcolor\": \"#E5ECF6\", \"showlakes\": true, \"showland\": true, \"subunitcolor\": \"white\"}, \"hoverlabel\": {\"align\": \"left\"}, \"hovermode\": \"closest\", \"mapbox\": {\"style\": \"light\"}, \"paper_bgcolor\": \"white\", \"plot_bgcolor\": \"#E5ECF6\", \"polar\": {\"angularaxis\": {\"gridcolor\": \"white\", \"linecolor\": \"white\", \"ticks\": \"\"}, \"bgcolor\": \"#E5ECF6\", \"radialaxis\": {\"gridcolor\": \"white\", \"linecolor\": \"white\", \"ticks\": \"\"}}, \"scene\": {\"xaxis\": {\"backgroundcolor\": \"#E5ECF6\", \"gridcolor\": \"white\", \"gridwidth\": 2, \"linecolor\": \"white\", \"showbackground\": true, \"ticks\": \"\", \"zerolinecolor\": \"white\"}, \"yaxis\": {\"backgroundcolor\": \"#E5ECF6\", \"gridcolor\": \"white\", \"gridwidth\": 2, \"linecolor\": \"white\", \"showbackground\": true, \"ticks\": \"\", \"zerolinecolor\": \"white\"}, \"zaxis\": {\"backgroundcolor\": \"#E5ECF6\", \"gridcolor\": \"white\", \"gridwidth\": 2, \"linecolor\": \"white\", \"showbackground\": true, \"ticks\": \"\", \"zerolinecolor\": \"white\"}}, \"shapedefaults\": {\"line\": {\"color\": \"#2a3f5f\"}}, \"ternary\": {\"aaxis\": {\"gridcolor\": \"white\", \"linecolor\": \"white\", \"ticks\": \"\"}, \"baxis\": {\"gridcolor\": \"white\", \"linecolor\": \"white\", \"ticks\": \"\"}, \"bgcolor\": \"#E5ECF6\", \"caxis\": {\"gridcolor\": \"white\", \"linecolor\": \"white\", \"ticks\": \"\"}}, \"title\": {\"x\": 0.05}, \"xaxis\": {\"automargin\": true, \"gridcolor\": \"white\", \"linecolor\": \"white\", \"ticks\": \"\", \"title\": {\"standoff\": 15}, \"zerolinecolor\": \"white\", \"zerolinewidth\": 2}, \"yaxis\": {\"automargin\": true, \"gridcolor\": \"white\", \"linecolor\": \"white\", \"ticks\": \"\", \"title\": {\"standoff\": 15}, \"zerolinecolor\": \"white\", \"zerolinewidth\": 2}}}, \"width\": 1400, \"xaxis\": {\"anchor\": \"y\", \"domain\": [0.0, 1.0], \"rangebreaks\": [{\"values\": [30, 40, 50, 60, 70, 80, 90, 100, 110, 120, 130, 140]}], \"title\": {\"font\": {\"size\": 10}, \"text\": \"Enrollment Size\"}}, \"yaxis\": {\"anchor\": \"x\", \"domain\": [0.0, 1.0]}},                        {\"responsive\": true}                    ).then(function(){\n",
       "                            \n",
       "var gd = document.getElementById('cce3eb84-e339-42c2-9a89-d643e2b4b429');\n",
       "var x = new MutationObserver(function (mutations, observer) {{\n",
       "        var display = window.getComputedStyle(gd).display;\n",
       "        if (!display || display === 'none') {{\n",
       "            console.log([gd, 'removed!']);\n",
       "            Plotly.purge(gd);\n",
       "            observer.disconnect();\n",
       "        }}\n",
       "}});\n",
       "\n",
       "// Listen for the removal of the full notebook cells\n",
       "var notebookContainer = gd.closest('#notebook-container');\n",
       "if (notebookContainer) {{\n",
       "    x.observe(notebookContainer, {childList: true});\n",
       "}}\n",
       "\n",
       "// Listen for the clearing of the current output cell\n",
       "var outputEl = gd.closest('.output');\n",
       "if (outputEl) {{\n",
       "    x.observe(outputEl, {childList: true});\n",
       "}}\n",
       "\n",
       "                        })                };                });            </script>        </div>"
      ]
     },
     "metadata": {},
     "output_type": "display_data"
    }
   ],
   "source": [
    "import plotly.graph_objects as go\n",
    "from plotly.subplots import make_subplots\n",
    "import pandas as pd\n",
    "import matplotlib.pyplot as plt\n",
    "import plotly.express as px\n",
    "\n",
    "\n",
    "fig = make_subplots(\n",
    "        rows=1,\n",
    "        cols=1,\n",
    "        shared_yaxes=True,\n",
    "        vertical_spacing=0.01,\n",
    "        horizontal_spacing=0.01,\n",
    "        #row_heights=[0.5, 0.5],\n",
    "        subplot_titles=(\"Metric: Angular\", \"Metric: Euclidean\")\n",
    "    )\n",
    "\n",
    "plt_df1=metric_agg.copy()\n",
    "\n",
    "\n",
    "\n",
    "fig.add_trace(\n",
    "        go.Scatter(\n",
    "            x=plt_df1.enrollment_batch_size, y=plt_df1[\"accuracy\"],mode=\"markers+text\",name=\"accuracy\",legendgroup ='accuracy'# , line=dict(color=\"blue\", width=2)\n",
    "        ),\n",
    "        row=1,\n",
    "        col=1,\n",
    "    )\n",
    "fig.add_trace(\n",
    "        go.Scatter(\n",
    "            x=plt_df1.enrollment_batch_size, y=plt_df1[\"precision\"],mode=\"markers+text\",name='precision',legendgroup ='precision'# , line=dict(color=\"blue\", width=2)\n",
    "        ),\n",
    "        row=1,\n",
    "        col=1,\n",
    "    )\n",
    "\n",
    "fig.add_trace(\n",
    "        go.Scatter(\n",
    "            x=plt_df1.enrollment_batch_size, y=plt_df1[\"fbeta_score\"],mode=\"markers+text\",name='fbeta_score',legendgroup ='fbeta_score'# , line=dict(color=\"blue\", width=2)\n",
    "        ),\n",
    "        row=1,\n",
    "        col=1,\n",
    "    )\n",
    "\n",
    "fig.add_trace(\n",
    "        go.Scatter(\n",
    "            x=plt_df1.enrollment_batch_size, y=plt_df1[\"recall\"],mode=\"markers+text\",name='recall',legendgroup ='recall'# , line=dict(color=\"blue\", width=2)\n",
    "        ),\n",
    "        row=1,\n",
    "        col=1,\n",
    "    )\n",
    "\n",
    "\n",
    "# fig.layout.annotations[1].update(text=\"Metric=Angular\")\n",
    "fig.update_xaxes(title_text=\"Enrollment Size\", row=1, col=1, title_font_size=10)\n",
    "# fig.update_yaxes(title_text=\"Metrics in %\", row=1, col=2, title_font_size=10)\n",
    "# fig.update_yaxes(title_text=\"Metrics in %\", row=1, col=2, title_font_size=10)\n",
    "\n",
    "fig.update_layout(\n",
    "        height=800,\n",
    "        width=1400,\n",
    "        # xaxis_rangeslider_visible=False,\n",
    "        xaxis_rangebreaks=[dict(values=[x for x in range(30,150,10)])]\n",
    "    )\n",
    "\n",
    "fig.show()"
   ]
  },
  {
   "cell_type": "code",
   "execution_count": 34,
   "id": "bde2ab9c-c1f4-42b5-88ca-24816531e319",
   "metadata": {},
   "outputs": [
    {
     "name": "stdout",
     "output_type": "stream",
     "text": [
      "Accuracy = 97.403\n"
     ]
    }
   ],
   "source": [
    "# Evaluate using the logistic regression classifier\n",
    "predictions = classifier.predict(test_features)\n",
    "accuracy = np.mean((test_labels == predictions).astype(np.float)) * 100.\n",
    "print(f\"Accuracy = {accuracy:.3f}\")"
   ]
  },
  {
   "cell_type": "code",
   "execution_count": null,
   "id": "152c31ba-1756-4417-a264-ed54b2b0525e",
   "metadata": {},
   "outputs": [],
   "source": []
  },
  {
   "cell_type": "code",
   "execution_count": null,
   "id": "69cdf6ca-5d5f-4d2e-8c5d-6e03bd688b92",
   "metadata": {},
   "outputs": [],
   "source": [
    "# BATCH_SIZE = 100\n",
    "# ln = len(enrollment_loader.dataset.imgs)\n",
    "\n",
    "# results = []\n",
    "\n",
    "# for i in tqdm(range(0,ln,BATCH_SIZE)):\n",
    "#         img_batch= preprocess_images[i:i+BATCH_SIZE]\n",
    "#         batch_tensor= [x[0] for x in img_batch]\n",
    "#         image_input = torch.tensor(np.stack(batch_tensor)).to(device)\n",
    "#         with torch.no_grad():\n",
    "#             image_features = model.encode_image(image_input)\n",
    "#             logits_per_image, logits_per_text = model(image_input, text)\n",
    "#             # The softmax function takes the original confidence and applys a transform to make all the confidence add up to one\n",
    "#             probs = logits_per_image.softmax(dim=-1).cpu().numpy()\n",
    "#             results.append(probs)\n",
    "            \n",
    "\n",
    "# res = np.concatenate(results,axis=0)\n",
    "# choices = np.argmax(res,axis=1)\n",
    "# pred_label= [item_dict[i] for i in choices]\n",
    "# true_label= [item_dict[x[1]] for x in preprocess_images]\n",
    "\n",
    "# import sklearn\n",
    "# from sklearn import metrics\n",
    "\n",
    "# acc= metrics.accuracy_score(np.array(true_label),np.array(pred_label))\n",
    "# report=sklearn.metrics.classification_report(np.array(true_label),np.array(pred_label))\n",
    "\n",
    "# correct=metrics.accuracy_score(np.array(top_1['true_label_gtin']),np.array(top_1['predicted_label_gtin']),normalize=False)\n",
    "# prec, rec,fscore,supp=precision_recall_fscore_support(np.array(top_1['true_label_gtin']),np.array(top_1['predicted_label_gtin']), average='macro')\n",
    "# w_prec, w_rec,w_fscore,w_supp=precision_recall_fscore_support(np.array(top_1['true_label_gtin']),np.array(top_1['predicted_label_gtin']), average='weighted')\n",
    "# report_dict=sklearn.metrics.classification_report(np.array(top_1['true_label_gtin']),np.array(top_1['predicted_label_gtin']),output_dict=True)\n",
    "\n",
    "# print(acc)\n",
    "# print(report)"
   ]
  },
  {
   "cell_type": "code",
   "execution_count": 99,
   "id": "abf9142e-722b-4095-9be5-59e87dcf7478",
   "metadata": {},
   "outputs": [
    {
     "name": "stdout",
     "output_type": "stream",
     "text": [
      "              precision    recall  f1-score   support\n",
      "\n",
      "           0       1.00      0.98      0.99        44\n",
      "           1       0.92      0.96      0.94       111\n",
      "           2       0.99      0.99      0.99       142\n",
      "           3       0.94      1.00      0.97        46\n",
      "           4       0.96      0.96      0.96       120\n",
      "           5       1.00      1.00      1.00       125\n",
      "           6       0.99      0.98      0.98        99\n",
      "           7       0.97      0.94      0.96       119\n",
      "           8       0.95      0.99      0.97       103\n",
      "           9       0.99      0.99      0.99       114\n",
      "          10       0.99      0.99      0.99        92\n",
      "          11       0.99      0.97      0.98       115\n",
      "          12       0.98      0.97      0.98       114\n",
      "          13       0.97      0.95      0.96       109\n",
      "          14       0.98      1.00      0.99        51\n",
      "\n",
      "    accuracy                           0.98      1504\n",
      "   macro avg       0.98      0.98      0.98      1504\n",
      "weighted avg       0.98      0.98      0.98      1504\n",
      "\n"
     ]
    }
   ],
   "source": [
    "print(report)"
   ]
  },
  {
   "cell_type": "markdown",
   "id": "4227cb84-1ebf-45ca-b09e-f7d916499bfc",
   "metadata": {},
   "source": [
    "## Indexer based testing"
   ]
  },
  {
   "cell_type": "code",
   "execution_count": 5,
   "id": "d96932bb-4573-4a5c-bf39-09afccf60c92",
   "metadata": {},
   "outputs": [],
   "source": [
    "def predict(model,classifier, test_loader,opt,pred_save_path,pred_filename,metrics_file_name):\n",
    "    \"\"\"\n",
    "        Make predictions and save them in a pickle file.\n",
    "        Print Classification metrics\n",
    "        \n",
    "        Arguments:\n",
    "            model: Trained encoder model \n",
    "            classifier: Trained MLP\n",
    "            valdata: Data to make predictions on\n",
    "            test_loader: Data Loader created on valdata\n",
    "            fname: Name of file to in which predictions will be saved\n",
    "            \n",
    "        Returns:\n",
    "            List with predictions on valdata\n",
    "    \"\"\"     \n",
    "    model.eval()\n",
    "    classifier.eval()\n",
    "    with torch.no_grad():\n",
    "        pred1=[]\n",
    "        print(\"Start Predictions\")\n",
    "        # Iterate over data.\n",
    "        for idx, (images, labels) in enumerate(test_loader):\n",
    "                images = images.float().cuda()\n",
    "                output = classifier(model.encoder(images))\n",
    "                _,preds=torch.max(output, 1)\n",
    "                pred1.extend(preds.cpu().numpy())\n",
    "                \n",
    "    p=np.array(pred1)\n",
    "\n",
    "    import pickle\n",
    "    print('Prediction file saved here: ', os.path.join(pred_save_path,pred_filename))\n",
    "    with open(os.path.join(pred_save_path,pred_filename), 'wb') as handle:\n",
    "        pickle.dump(p, handle, protocol=pickle.HIGHEST_PROTOCOL)\n",
    "    top_1_df = pd.DataFrame(columns=['true_label', 'predicted_label'])\n",
    "    top_1_df['true_label']=np.array(test_loader.dataset.targets)\n",
    "    top_1_df['predicted_label']= pred1\n",
    "    top_1_df['true_label_gtin']=top_1_df['true_label'].apply(lambda x:val_rev_item_dict[x])\n",
    "    top_1_df['predicted_label_gtin']=top_1_df['predicted_label'].apply(lambda x:train_rev_item_dict[x])\n",
    "    # print(sklearn.metrics.classification_report(np.array(top_1_df['true_label_gtin']),np.array(top_1_df['predicted_label_gtin'])))\n",
    "    print(top_1_df.head(10))\n",
    "    print(\"\")\n",
    "    # metrics={\"accuracy\": sklearn.metrics.accuracy_score(np.array(test_loader.dataset.targets), pred1),\n",
    "    #             \"classification_report\": sklearn.metrics.classification_report(np.array(test_loader.dataset.targets),pred1)\n",
    "    #         }\n",
    "    metrics={\"accuracy\": sklearn.metrics.accuracy_score(np.array(top_1_df['true_label_gtin']),np.array(top_1_df['predicted_label_gtin'])),\n",
    "                \"classification_report\": sklearn.metrics.classification_report(np.array(top_1_df['true_label_gtin']),np.array(top_1_df['predicted_label_gtin']))\n",
    "            }\n",
    "    \n",
    "\n",
    "    print('Metrics file saved here: ', os.path.join(pred_save_path,metrics_file_name))\n",
    "    with open(os.path.join(pred_save_path,metrics_file_name), 'w') as handle:\n",
    "        json.dump(metrics,handle)\n",
    "    print(\"Accuracy is\",sklearn.metrics.accuracy_score(np.array(top_1_df['true_label_gtin']),np.array(top_1_df['predicted_label_gtin'])))\n",
    "    print(sklearn.metrics.classification_report(np.array(top_1_df['true_label_gtin']),np.array(top_1_df['predicted_label_gtin'])))\n",
    "    return pred1"
   ]
  },
  {
   "cell_type": "code",
   "execution_count": 118,
   "id": "a690f1ff-8efe-497d-a650-d9c544ec7bb8",
   "metadata": {},
   "outputs": [],
   "source": [
    "import os\n",
    "import itertools\n",
    "import numpy as np\n",
    "import pickle\n",
    "import sklearn\n",
    "from sklearn import metrics\n",
    "from annoy import AnnoyIndex\n",
    "import pandas as pd\n",
    "import faiss\n",
    "import argparse\n",
    "import json\n",
    "from sklearn.preprocessing import StandardScaler\n",
    "from sklearn.decomposition import PCA\n",
    "\n",
    "def top1(metric_folder,train_X_df,test_X_df,annoy_metrics, train_rev_item_dict,val_rev_item_dict,n_trees=10,k_nearest_neighbor=1):\n",
    "    \"\"\"\n",
    "                Calculate classification metrics using image similarity\n",
    "                Arguments:\n",
    "                    train_X_df: pd.Dataframe with train embeddings and labels\n",
    "                    test_X_df: pd.Dataframe with test embeddings and labels\n",
    "                    annoy_metrics: List of annoy similarity scores to be calculated\n",
    "                    n_trees: Parameter for annoy similarity\n",
    "                Returns:\n",
    "                   Dictionary with all metrics\n",
    "                   Saves dictionary as json\n",
    "    \"\"\"\n",
    "    indexer_pth=os.path.join(metric_folder,'indexers')\n",
    "    print(indexer_pth)\n",
    "    if not os.path.exists(indexer_pth):\n",
    "        os.mkdir(indexer_pth)\n",
    "\n",
    "\n",
    "    metric_dict={}\n",
    "    metric_dict['test_image_cnt']=test_X_df.shape[0]\n",
    "    print('Total Test images= ', test_X_df.shape[0])\n",
    "    print(\"\")\n",
    "\n",
    "\n",
    "    if not annoy_metrics:\n",
    "        return\n",
    "    for m in annoy_metrics:\n",
    "        print('Metric =%s' % m)\n",
    "        f = len(train_X_df['embedding'][0])\n",
    "        t = AnnoyIndex(f, m)  # Length of item vector that will be indexed\n",
    "\n",
    "        for i, vec in enumerate(train_X_df['embedding']):\n",
    "            t.add_item(i, vec)\n",
    "\n",
    "        t.build(n_trees, n_jobs=-1)  # 10 trees\n",
    "        t.save(os.path.join(indexer_pth,str(m) + '.ann'))\n",
    "\n",
    "        u = AnnoyIndex(f, m)  # Length of item vector that will be indexed\n",
    "        u.load(os.path.join(indexer_pth,str(m) + '.ann'))  # super fast, will just mmap the file\n",
    "        top_1 = pd.DataFrame(columns=['true_label', 'predicted_label'])\n",
    "        for i in range(int(test_X_df.shape[0])):\n",
    "            # print(u.get_nns_by_vector(test_X_df.loc[i, 'embedding'], k_nearest_neighbor))\n",
    "            # print(int(train_X_df.iloc[int(u.get_nns_by_vector(test_X_df.loc[i, 'embedding'], 1)[0]), 1]))\n",
    "            # pred_label = int(train_X_df.iloc[int(u.get_nns_by_vector(test_X_df.loc[i, 'embedding'], 1)[0]), 1])\n",
    "            query= test_X_df.loc[i, 'embedding']\n",
    "            pred_labels_idx= u.get_nns_by_vector(query, k_nearest_neighbor)\n",
    "            pred_labels= [train_X_df.loc[x, \"label\"] for x in pred_labels_idx]\n",
    "            pred_label= pd.Series(pred_labels).value_counts().index[0]\n",
    "            # pred_label = np.bincount(pred_labels).argmax()\n",
    "            # neighbors_df=pd.DataFrame({\"neighbor_indices\": pred_labels_idx,\"neighbor_labels\":pred_labels })\n",
    "            # neighbors_df['freq'] = neighbors_df.groupby('neighbor_labels')['neighbor_labels'].transform('count')\n",
    "            # neighbors_df.sort_values(by='freq',ascending=False,inplace=True)\n",
    "            # print(neighbors_df)\n",
    "            \n",
    "            \n",
    "            \n",
    "            true_label = int(test_X_df.iloc[i, 1])\n",
    "            # print(f\"Indexes: {pred_labels_idx}. Pred labels are: {pred_labels} majority voted label is {pred_label}.True label: {true_label} \")\n",
    "            \n",
    "            top_1 = top_1.append(pd.Series([true_label, pred_label], index=top_1.columns), ignore_index=True)\n",
    "\n",
    "        top_1['true_label'] = top_1['true_label'].astype(int)\n",
    "        top_1['predicted_label'] = top_1['predicted_label'].astype(int)\n",
    "\n",
    "        top_1['true_label_gtin']=top_1['true_label'].apply(lambda x:val_rev_item_dict[x])\n",
    "        top_1['predicted_label_gtin']=top_1['predicted_label'].apply(lambda x:train_rev_item_dict[x])\n",
    "\n",
    "        acc= metrics.accuracy_score(np.array(top_1['true_label_gtin']),np.array(top_1['predicted_label_gtin']))\n",
    "        correct=metrics.accuracy_score(np.array(top_1['true_label_gtin']),np.array(top_1['predicted_label_gtin']),normalize=False)\n",
    "        prec, rec,fscore,supp=precision_recall_fscore_support(np.array(top_1['true_label_gtin']),np.array(top_1['predicted_label_gtin']), average='macro')\n",
    "        w_prec, w_rec,w_fscore,w_supp=precision_recall_fscore_support(np.array(top_1['true_label_gtin']),np.array(top_1['predicted_label_gtin']), average='weighted')\n",
    "        report=sklearn.metrics.classification_report(np.array(top_1['true_label_gtin']),np.array(top_1['predicted_label_gtin']))\n",
    "        report_dict=sklearn.metrics.classification_report(np.array(top_1['true_label_gtin']),np.array(top_1['predicted_label_gtin']),output_dict=True)\n",
    "\n",
    "\n",
    "        # acc= metrics.accuracy_score(np.array(top_1['true_label']), np.array(top_1['predicted_label']))\n",
    "        # correct=metrics.accuracy_score(np.array(top_1['true_label']), np.array(top_1['predicted_label']),normalize=False)\n",
    "        # report=sklearn.metrics.classification_report(np.array(top_1['true_label']),np.array(top_1['predicted_label']))\n",
    "\n",
    "        metric_dict[f'annoy_{m}_{str(k_nearest_neighbor)}nn']={'accuracy':acc,'precision': prec,\"recall\": rec,\"fbeta\": fscore,\"support\": supp,\\\n",
    "                                 'weighted_precision': w_prec,\"weighted_recall\": w_rec,\"weighted_fbeta\": w_fscore,\"weighted_support\": w_supp,\\\n",
    "                                 'classification_report':report,'classification_report_dict':report}\n",
    "\n",
    "    ##### FAISS EMBEDS ####\n",
    "    # print(\"Metric =faiss_l2\")\n",
    "    # embeds = []\n",
    "    # for a in train_X_df['embedding']:\n",
    "    #     embeds.append(a)\n",
    "    # test_embeds = []\n",
    "    # for a in test_X_df['embedding']:\n",
    "    #     test_embeds.append(a)\n",
    "    # index = faiss.IndexFlatL2(2048)  # build the index\n",
    "    # index.add(np.array(embeds))\n",
    "\n",
    "    # top_1 = pd.DataFrame(columns=['true_label', 'predicted_label'])\n",
    "    # for i in range(test_X_df.shape[0]):\n",
    "    #     pred_label = int(train_X_df.iloc[index.search(np.array([test_embeds[i]]), 1)[1][0][0]].label)\n",
    "    #     true_label = int(test_X_df.iloc[i, 1])\n",
    "    #     top_1 = top_1.append(pd.Series([true_label, pred_label], index=top_1.columns), ignore_index=True)\n",
    "\n",
    "    # top_1['true_label'] = top_1['true_label'].astype(int)\n",
    "    # top_1['predicted_label'] = top_1['predicted_label'].astype(int)\n",
    "    \n",
    "    # top_1['true_label_gtin']=top_1['true_label'].apply(lambda x:val_rev_item_dict[x])\n",
    "    # top_1['predicted_label_gtin']=top_1['predicted_label'].apply(lambda x:train_rev_item_dict[x])\n",
    "    # print(sklearn.metrics.classification_report(np.array(top_1['true_label_gtin']),np.array(top_1['predicted_label_gtin'])))\n",
    "    \n",
    "    # acc= metrics.accuracy_score(np.array(top_1['true_label_gtin']),np.array(top_1['predicted_label_gtin']))\n",
    "    # correct=metrics.accuracy_score(np.array(top_1['true_label_gtin']),np.array(top_1['predicted_label_gtin']),normalize=False)\n",
    "    # report=sklearn.metrics.classification_report(np.array(top_1['true_label_gtin']),np.array(top_1['predicted_label_gtin']))\n",
    "    \n",
    "    # print(\"Accuracy is\", acc)\n",
    "    # print(\"Correct Label Count: \",correct)\n",
    "    \n",
    "    # metric_dict['faiss_l2'] = {'accuracy': acc, 'classification_report': report}\n",
    "    # print(\"\")\n",
    "\n",
    "    return metric_dict\n",
    "\n",
    "def saveMetric(metric_dict, dir,dataset_name=\"train_enrollment\",n_trees=10,eset=None):\n",
    "    \"\"\"\n",
    "                    Save metrics in json format\n",
    "                    Arguments:\n",
    "                        metric_dict: dict object to be saved\n",
    "    \"\"\"\n",
    "    if eset:\n",
    "        with open(os.path.join(dir,f'{dataset_name}_{eset}_nt{n_trees}_metrics.json'), 'w') as handle:\n",
    "            json.dump(metric_dict,handle)\n",
    "    else:\n",
    "        with open(os.path.join(dir,f'{dataset_name}_nt{n_trees}_metrics.json'), 'w') as handle:\n",
    "            json.dump(metric_dict,handle)\n",
    "        \n",
    "    print('JSON saved')\n"
   ]
  },
  {
   "cell_type": "code",
   "execution_count": 181,
   "id": "1763362b-ce42-424b-b0c6-c4ca34680690",
   "metadata": {},
   "outputs": [],
   "source": [
    "# gtin_enrollment_label= enrollment_labels.copy()\n",
    "# gtin_test_label= test_labels.copy()\n",
    "\n",
    "# for idx,val in enumerate(enrollment_labels):\n",
    "#     gtin_enrollment_label[idx]=enrollment_label_dict[val]\n",
    "\n",
    "# for idx,val in enumerate(test_labels):\n",
    "#     gtin_test_label[idx]=test_label_dict[val]\n",
    "\n",
    "edf = pd.DataFrame(columns=['embedding', 'label'])\n",
    "for i,j in zip(enrollment_features, enrollment_labels):\n",
    "    edf=edf.append({'embedding': i, \"label\": j},ignore_index=True)\n",
    "    \n",
    "    \n",
    "test_X_df = pd.DataFrame(columns=['embedding', 'label'])\n",
    "for i,j in zip(test_features, test_labels):\n",
    "    test_X_df=test_X_df.append({'embedding': i, \"label\": j},ignore_index=True)\n",
    "    \n"
   ]
  },
  {
   "cell_type": "code",
   "execution_count": 184,
   "id": "696ec13a-3c61-44a8-a170-6811b9fe9626",
   "metadata": {},
   "outputs": [
    {
     "name": "stdout",
     "output_type": "stream",
     "text": [
      "n_trees = 5\n",
      "Testing k = 3\n",
      "/home/jupyter/dvc-manual/gtin_60/models/CLIP/metrics/indexers\n",
      "Total Test images=  10661\n",
      "\n",
      "Metric =angular\n",
      "Metric =euclidean\n",
      "n_trees = 10\n",
      "Testing k = 3\n",
      "/home/jupyter/dvc-manual/gtin_60/models/CLIP/metrics/indexers\n",
      "Total Test images=  10661\n",
      "\n",
      "Metric =angular\n",
      "Metric =euclidean\n",
      "n_trees = 15\n",
      "Testing k = 3\n",
      "/home/jupyter/dvc-manual/gtin_60/models/CLIP/metrics/indexers\n",
      "Total Test images=  10661\n",
      "\n",
      "Metric =angular\n",
      "Metric =euclidean\n",
      "n_trees = 20\n",
      "Testing k = 3\n",
      "/home/jupyter/dvc-manual/gtin_60/models/CLIP/metrics/indexers\n",
      "Total Test images=  10661\n",
      "\n",
      "Metric =angular\n",
      "Metric =euclidean\n",
      "n_trees = 25\n",
      "Testing k = 3\n",
      "/home/jupyter/dvc-manual/gtin_60/models/CLIP/metrics/indexers\n",
      "Total Test images=  10661\n",
      "\n",
      "Metric =angular\n",
      "Metric =euclidean\n",
      "n_trees = 30\n",
      "Testing k = 3\n",
      "/home/jupyter/dvc-manual/gtin_60/models/CLIP/metrics/indexers\n",
      "Total Test images=  10661\n",
      "\n",
      "Metric =angular\n",
      "Metric =euclidean\n",
      "n_trees = 35\n",
      "Testing k = 3\n",
      "/home/jupyter/dvc-manual/gtin_60/models/CLIP/metrics/indexers\n",
      "Total Test images=  10661\n",
      "\n",
      "Metric =angular\n",
      "Metric =euclidean\n",
      "n_trees = 40\n",
      "Testing k = 3\n",
      "/home/jupyter/dvc-manual/gtin_60/models/CLIP/metrics/indexers\n",
      "Total Test images=  10661\n",
      "\n",
      "Metric =angular\n",
      "Metric =euclidean\n",
      "n_trees = 45\n",
      "Testing k = 3\n",
      "/home/jupyter/dvc-manual/gtin_60/models/CLIP/metrics/indexers\n",
      "Total Test images=  10661\n",
      "\n",
      "Metric =angular\n",
      "Metric =euclidean\n"
     ]
    }
   ],
   "source": [
    "annoy_metrics=['angular','euclidean']\n",
    "n_trees=10\n",
    "metric_folder= \"/home/jupyter/dvc-manual/gtin_60/models/CLIP/metrics\"\n",
    "dataset_name= 'train_enrollment'\n",
    "\n",
    "k_effect=pd.DataFrame(columns=[\"n_trees\",\"test_image_cnt\", \"k\",\"Annoy_angular_acc\",\"Annoy_euclidean_acc\", \"Annoy_angular_prec\", \"Annoy_euclidean_prec\",\"Annoy_angular_rec\",\"Annoy_euclidean_rec\",\\\n",
    "                              \"Annoy_angular_fbeta\", \"Annoy_euclidean_fbeta\"])\n",
    "for nt in range(5,50,5):\n",
    "    for k in range(3,4):\n",
    "        print(f\"n_trees = {nt}\")\n",
    "        print(f\"Testing k = {k}\")\n",
    "        row={}\n",
    "        metric_dict=top1(metric_folder,edf, test_X_df, annoy_metrics,enrollment_label_dict,test_label_dict, n_trees=nt, k_nearest_neighbor=k)\n",
    "        row[\"n_trees\"]= nt\n",
    "        row[\"test_image_cnt\"]= metric_dict[\"test_image_cnt\"]\n",
    "        row[\"k\"]= k\n",
    "        row[\"Annoy_angular_acc\"]= metric_dict[f\"annoy_angular_{k}nn\"][\"accuracy\"]\n",
    "        row[\"Annoy_euclidean_acc\"]= metric_dict[f\"annoy_euclidean_{k}nn\"][\"accuracy\"]\n",
    "        row[\"Annoy_angular_prec\"]= metric_dict[f\"annoy_angular_{k}nn\"][\"weighted_precision\"]\n",
    "        row[\"Annoy_euclidean_prec\"]= metric_dict[f\"annoy_euclidean_{k}nn\"][\"weighted_precision\"]\n",
    "        row[\"Annoy_angular_rec\"]= metric_dict[f\"annoy_angular_{k}nn\"][\"weighted_recall\"]\n",
    "        row[\"Annoy_euclidean_rec\"]= metric_dict[f\"annoy_euclidean_{k}nn\"][\"weighted_recall\"]\n",
    "        row[\"Annoy_angular_fbeta\"]= metric_dict[f\"annoy_angular_{k}nn\"][\"weighted_fbeta\"]\n",
    "        row[\"Annoy_euclidean_fbeta\"]= metric_dict[f\"annoy_euclidean_{k}nn\"][\"weighted_fbeta\"]\n",
    "        k_effect= k_effect.append(row, ignore_index=True)\n",
    "\n",
    "k_effect.to_csv(\"k_effect_80gtin.csv\")\n",
    "        # row[\"distance_metric\"]= metric_dict.keys()[1].split(\"_\")[1]\n",
    "        # saveMetric(metric_dict,metric_folder,dataset_name,nt)"
   ]
  },
  {
   "cell_type": "code",
   "execution_count": 185,
   "id": "1d185b26-e67a-4ba2-90c1-dd8d228d828a",
   "metadata": {},
   "outputs": [
    {
     "data": {
      "text/html": [
       "<div>\n",
       "<style scoped>\n",
       "    .dataframe tbody tr th:only-of-type {\n",
       "        vertical-align: middle;\n",
       "    }\n",
       "\n",
       "    .dataframe tbody tr th {\n",
       "        vertical-align: top;\n",
       "    }\n",
       "\n",
       "    .dataframe thead th {\n",
       "        text-align: right;\n",
       "    }\n",
       "</style>\n",
       "<table border=\"1\" class=\"dataframe\">\n",
       "  <thead>\n",
       "    <tr style=\"text-align: right;\">\n",
       "      <th></th>\n",
       "      <th>n_trees</th>\n",
       "      <th>test_image_cnt</th>\n",
       "      <th>k</th>\n",
       "      <th>Annoy_angular_acc</th>\n",
       "      <th>Annoy_euclidean_acc</th>\n",
       "      <th>Annoy_angular_prec</th>\n",
       "      <th>Annoy_euclidean_prec</th>\n",
       "      <th>Annoy_angular_rec</th>\n",
       "      <th>Annoy_euclidean_rec</th>\n",
       "      <th>Annoy_angular_fbeta</th>\n",
       "      <th>Annoy_euclidean_fbeta</th>\n",
       "    </tr>\n",
       "  </thead>\n",
       "  <tbody>\n",
       "    <tr>\n",
       "      <th>7</th>\n",
       "      <td>40.0</td>\n",
       "      <td>10661.0</td>\n",
       "      <td>3.0</td>\n",
       "      <td>0.827690</td>\n",
       "      <td>0.836225</td>\n",
       "      <td>0.840537</td>\n",
       "      <td>0.846983</td>\n",
       "      <td>0.827690</td>\n",
       "      <td>0.836225</td>\n",
       "      <td>0.829958</td>\n",
       "      <td>0.837686</td>\n",
       "    </tr>\n",
       "    <tr>\n",
       "      <th>6</th>\n",
       "      <td>35.0</td>\n",
       "      <td>10661.0</td>\n",
       "      <td>3.0</td>\n",
       "      <td>0.827221</td>\n",
       "      <td>0.834725</td>\n",
       "      <td>0.840311</td>\n",
       "      <td>0.845577</td>\n",
       "      <td>0.827221</td>\n",
       "      <td>0.834725</td>\n",
       "      <td>0.829539</td>\n",
       "      <td>0.836180</td>\n",
       "    </tr>\n",
       "    <tr>\n",
       "      <th>8</th>\n",
       "      <td>45.0</td>\n",
       "      <td>10661.0</td>\n",
       "      <td>3.0</td>\n",
       "      <td>0.827127</td>\n",
       "      <td>0.836694</td>\n",
       "      <td>0.840151</td>\n",
       "      <td>0.847225</td>\n",
       "      <td>0.827127</td>\n",
       "      <td>0.836694</td>\n",
       "      <td>0.829523</td>\n",
       "      <td>0.838057</td>\n",
       "    </tr>\n",
       "    <tr>\n",
       "      <th>5</th>\n",
       "      <td>30.0</td>\n",
       "      <td>10661.0</td>\n",
       "      <td>3.0</td>\n",
       "      <td>0.826939</td>\n",
       "      <td>0.834725</td>\n",
       "      <td>0.839306</td>\n",
       "      <td>0.845126</td>\n",
       "      <td>0.826939</td>\n",
       "      <td>0.834725</td>\n",
       "      <td>0.828934</td>\n",
       "      <td>0.836116</td>\n",
       "    </tr>\n",
       "    <tr>\n",
       "      <th>4</th>\n",
       "      <td>25.0</td>\n",
       "      <td>10661.0</td>\n",
       "      <td>3.0</td>\n",
       "      <td>0.825251</td>\n",
       "      <td>0.830504</td>\n",
       "      <td>0.837015</td>\n",
       "      <td>0.841232</td>\n",
       "      <td>0.825251</td>\n",
       "      <td>0.830504</td>\n",
       "      <td>0.827070</td>\n",
       "      <td>0.832001</td>\n",
       "    </tr>\n",
       "    <tr>\n",
       "      <th>3</th>\n",
       "      <td>20.0</td>\n",
       "      <td>10661.0</td>\n",
       "      <td>3.0</td>\n",
       "      <td>0.823469</td>\n",
       "      <td>0.829941</td>\n",
       "      <td>0.835269</td>\n",
       "      <td>0.840337</td>\n",
       "      <td>0.823469</td>\n",
       "      <td>0.829941</td>\n",
       "      <td>0.825290</td>\n",
       "      <td>0.831331</td>\n",
       "    </tr>\n",
       "    <tr>\n",
       "      <th>2</th>\n",
       "      <td>15.0</td>\n",
       "      <td>10661.0</td>\n",
       "      <td>3.0</td>\n",
       "      <td>0.822156</td>\n",
       "      <td>0.826939</td>\n",
       "      <td>0.834076</td>\n",
       "      <td>0.837580</td>\n",
       "      <td>0.822156</td>\n",
       "      <td>0.826939</td>\n",
       "      <td>0.824154</td>\n",
       "      <td>0.828370</td>\n",
       "    </tr>\n",
       "    <tr>\n",
       "      <th>1</th>\n",
       "      <td>10.0</td>\n",
       "      <td>10661.0</td>\n",
       "      <td>3.0</td>\n",
       "      <td>0.818966</td>\n",
       "      <td>0.823844</td>\n",
       "      <td>0.830979</td>\n",
       "      <td>0.834104</td>\n",
       "      <td>0.818966</td>\n",
       "      <td>0.823844</td>\n",
       "      <td>0.820902</td>\n",
       "      <td>0.825108</td>\n",
       "    </tr>\n",
       "    <tr>\n",
       "      <th>0</th>\n",
       "      <td>5.0</td>\n",
       "      <td>10661.0</td>\n",
       "      <td>3.0</td>\n",
       "      <td>0.808648</td>\n",
       "      <td>0.816059</td>\n",
       "      <td>0.820861</td>\n",
       "      <td>0.827492</td>\n",
       "      <td>0.808648</td>\n",
       "      <td>0.816059</td>\n",
       "      <td>0.810549</td>\n",
       "      <td>0.817416</td>\n",
       "    </tr>\n",
       "  </tbody>\n",
       "</table>\n",
       "</div>"
      ],
      "text/plain": [
       "   n_trees  test_image_cnt    k  Annoy_angular_acc  Annoy_euclidean_acc  \\\n",
       "7     40.0         10661.0  3.0           0.827690             0.836225   \n",
       "6     35.0         10661.0  3.0           0.827221             0.834725   \n",
       "8     45.0         10661.0  3.0           0.827127             0.836694   \n",
       "5     30.0         10661.0  3.0           0.826939             0.834725   \n",
       "4     25.0         10661.0  3.0           0.825251             0.830504   \n",
       "3     20.0         10661.0  3.0           0.823469             0.829941   \n",
       "2     15.0         10661.0  3.0           0.822156             0.826939   \n",
       "1     10.0         10661.0  3.0           0.818966             0.823844   \n",
       "0      5.0         10661.0  3.0           0.808648             0.816059   \n",
       "\n",
       "   Annoy_angular_prec  Annoy_euclidean_prec  Annoy_angular_rec  \\\n",
       "7            0.840537              0.846983           0.827690   \n",
       "6            0.840311              0.845577           0.827221   \n",
       "8            0.840151              0.847225           0.827127   \n",
       "5            0.839306              0.845126           0.826939   \n",
       "4            0.837015              0.841232           0.825251   \n",
       "3            0.835269              0.840337           0.823469   \n",
       "2            0.834076              0.837580           0.822156   \n",
       "1            0.830979              0.834104           0.818966   \n",
       "0            0.820861              0.827492           0.808648   \n",
       "\n",
       "   Annoy_euclidean_rec  Annoy_angular_fbeta  Annoy_euclidean_fbeta  \n",
       "7             0.836225             0.829958               0.837686  \n",
       "6             0.834725             0.829539               0.836180  \n",
       "8             0.836694             0.829523               0.838057  \n",
       "5             0.834725             0.828934               0.836116  \n",
       "4             0.830504             0.827070               0.832001  \n",
       "3             0.829941             0.825290               0.831331  \n",
       "2             0.826939             0.824154               0.828370  \n",
       "1             0.823844             0.820902               0.825108  \n",
       "0             0.816059             0.810549               0.817416  "
      ]
     },
     "execution_count": 185,
     "metadata": {},
     "output_type": "execute_result"
    }
   ],
   "source": [
    "# k_effect_3= k_effect[k_effect[\"k\"]==3]\n",
    "# k_effect[k_effect[\"k\"]==1]\n",
    "k_effect.sort_values(by = [\"Annoy_angular_acc\"],ascending=False)"
   ]
  },
  {
   "cell_type": "code",
   "execution_count": 189,
   "id": "f8653479-2e04-4ef6-a126-0587cd6a6536",
   "metadata": {},
   "outputs": [
    {
     "data": {
      "application/vnd.plotly.v1+json": {
       "config": {
        "plotlyServerURL": "https://plot.ly"
       },
       "data": [
        {
         "legendgroup": "accuracy",
         "mode": "lines",
         "name": "Annoy_angular_acc",
         "type": "scatter",
         "x": [
          5,
          10,
          15,
          20,
          25,
          30,
          35,
          40,
          45
         ],
         "xaxis": "x",
         "y": [
          0.8086483444329801,
          0.8189663258606135,
          0.8221555201200638,
          0.823468717756308,
          0.8252509145483539,
          0.8269393115092393,
          0.8272207110027202,
          0.8276897101585217,
          0.8271269111715599
         ],
         "yaxis": "y"
        },
        {
         "legendgroup": "precision",
         "mode": "lines",
         "name": "Annoy_angular_prec",
         "type": "scatter",
         "visible": "legendonly",
         "x": [
          5,
          10,
          15,
          20,
          25,
          30,
          35,
          40,
          45
         ],
         "xaxis": "x",
         "y": [
          0.8208606438512195,
          0.8309789038896521,
          0.8340762696001277,
          0.8352690922649392,
          0.8370150771227806,
          0.8393055893630815,
          0.8403110591100483,
          0.840536731573813,
          0.8401505819676648
         ],
         "yaxis": "y"
        },
        {
         "legendgroup": "recall",
         "mode": "lines",
         "name": "Annoy_angular_rec",
         "type": "scatter",
         "visible": "legendonly",
         "x": [
          5,
          10,
          15,
          20,
          25,
          30,
          35,
          40,
          45
         ],
         "xaxis": "x",
         "y": [
          0.8086483444329801,
          0.8189663258606135,
          0.8221555201200638,
          0.823468717756308,
          0.8252509145483539,
          0.8269393115092393,
          0.8272207110027202,
          0.8276897101585217,
          0.8271269111715599
         ],
         "yaxis": "y"
        },
        {
         "legendgroup": "fbeta_score",
         "mode": "lines",
         "name": "Annoy_angular_fbeta",
         "type": "scatter",
         "visible": "legendonly",
         "x": [
          5,
          10,
          15,
          20,
          25,
          30,
          35,
          40,
          45
         ],
         "xaxis": "x",
         "y": [
          0.8105490948490058,
          0.8209021426385311,
          0.8241539888749123,
          0.8252902662826829,
          0.8270701924953796,
          0.8289338450084145,
          0.8295391640834973,
          0.8299579589490894,
          0.8295228677651404
         ],
         "yaxis": "y"
        },
        {
         "legendgroup": "accuracy",
         "mode": "lines",
         "name": "Annoy_euclidean_acc",
         "type": "scatter",
         "x": [
          5,
          10,
          15,
          20,
          25,
          30,
          35,
          40,
          45
         ],
         "xaxis": "x2",
         "y": [
          0.816058531094644,
          0.8238439170809493,
          0.8269393115092393,
          0.8299409061063691,
          0.8305037050933308,
          0.8347246974955445,
          0.8347246974955445,
          0.8362254947941093,
          0.8366944939499109
         ],
         "yaxis": "y2"
        },
        {
         "legendgroup": "precision",
         "mode": "lines",
         "name": "Annoy_euclidean_prec",
         "type": "scatter",
         "visible": "legendonly",
         "x": [
          5,
          10,
          15,
          20,
          25,
          30,
          35,
          40,
          45
         ],
         "xaxis": "x2",
         "y": [
          0.82749203021024,
          0.8341037533984247,
          0.8375797511865394,
          0.840337241344602,
          0.8412324822713845,
          0.8451256436187152,
          0.8455765622705117,
          0.8469831060405123,
          0.8472254531945748
         ],
         "yaxis": "y2"
        },
        {
         "legendgroup": "recall",
         "mode": "lines",
         "name": "Annoy_euclidean_rec",
         "type": "scatter",
         "visible": "legendonly",
         "x": [
          5,
          10,
          15,
          20,
          25,
          30,
          35,
          40,
          45
         ],
         "xaxis": "x2",
         "y": [
          0.816058531094644,
          0.8238439170809493,
          0.8269393115092393,
          0.8299409061063691,
          0.8305037050933308,
          0.8347246974955445,
          0.8347246974955445,
          0.8362254947941093,
          0.8366944939499109
         ],
         "yaxis": "y2"
        },
        {
         "legendgroup": "fbeta_score",
         "mode": "lines",
         "name": "Annoy_euclidean_fbeta",
         "type": "scatter",
         "visible": "legendonly",
         "x": [
          5,
          10,
          15,
          20,
          25,
          30,
          35,
          40,
          45
         ],
         "xaxis": "x2",
         "y": [
          0.8174158300962416,
          0.8251082563263178,
          0.8283695131822558,
          0.8313305510646608,
          0.8320009324229564,
          0.8361163437439799,
          0.8361804536640172,
          0.8376858208552902,
          0.8380572368408772
         ],
         "yaxis": "y2"
        }
       ],
       "layout": {
        "annotations": [
         {
          "font": {
           "size": 16
          },
          "showarrow": false,
          "text": "Metric: Angular",
          "x": 0.225,
          "xanchor": "center",
          "xref": "paper",
          "y": 1,
          "yanchor": "bottom",
          "yref": "paper"
         },
         {
          "font": {
           "size": 16
          },
          "showarrow": false,
          "text": "Metric: Euclidean",
          "x": 0.775,
          "xanchor": "center",
          "xref": "paper",
          "y": 1,
          "yanchor": "bottom",
          "yref": "paper"
         }
        ],
        "height": 800,
        "template": {
         "data": {
          "bar": [
           {
            "error_x": {
             "color": "#2a3f5f"
            },
            "error_y": {
             "color": "#2a3f5f"
            },
            "marker": {
             "line": {
              "color": "#E5ECF6",
              "width": 0.5
             }
            },
            "type": "bar"
           }
          ],
          "barpolar": [
           {
            "marker": {
             "line": {
              "color": "#E5ECF6",
              "width": 0.5
             }
            },
            "type": "barpolar"
           }
          ],
          "carpet": [
           {
            "aaxis": {
             "endlinecolor": "#2a3f5f",
             "gridcolor": "white",
             "linecolor": "white",
             "minorgridcolor": "white",
             "startlinecolor": "#2a3f5f"
            },
            "baxis": {
             "endlinecolor": "#2a3f5f",
             "gridcolor": "white",
             "linecolor": "white",
             "minorgridcolor": "white",
             "startlinecolor": "#2a3f5f"
            },
            "type": "carpet"
           }
          ],
          "choropleth": [
           {
            "colorbar": {
             "outlinewidth": 0,
             "ticks": ""
            },
            "type": "choropleth"
           }
          ],
          "contour": [
           {
            "colorbar": {
             "outlinewidth": 0,
             "ticks": ""
            },
            "colorscale": [
             [
              0,
              "#0d0887"
             ],
             [
              0.1111111111111111,
              "#46039f"
             ],
             [
              0.2222222222222222,
              "#7201a8"
             ],
             [
              0.3333333333333333,
              "#9c179e"
             ],
             [
              0.4444444444444444,
              "#bd3786"
             ],
             [
              0.5555555555555556,
              "#d8576b"
             ],
             [
              0.6666666666666666,
              "#ed7953"
             ],
             [
              0.7777777777777778,
              "#fb9f3a"
             ],
             [
              0.8888888888888888,
              "#fdca26"
             ],
             [
              1,
              "#f0f921"
             ]
            ],
            "type": "contour"
           }
          ],
          "contourcarpet": [
           {
            "colorbar": {
             "outlinewidth": 0,
             "ticks": ""
            },
            "type": "contourcarpet"
           }
          ],
          "heatmap": [
           {
            "colorbar": {
             "outlinewidth": 0,
             "ticks": ""
            },
            "colorscale": [
             [
              0,
              "#0d0887"
             ],
             [
              0.1111111111111111,
              "#46039f"
             ],
             [
              0.2222222222222222,
              "#7201a8"
             ],
             [
              0.3333333333333333,
              "#9c179e"
             ],
             [
              0.4444444444444444,
              "#bd3786"
             ],
             [
              0.5555555555555556,
              "#d8576b"
             ],
             [
              0.6666666666666666,
              "#ed7953"
             ],
             [
              0.7777777777777778,
              "#fb9f3a"
             ],
             [
              0.8888888888888888,
              "#fdca26"
             ],
             [
              1,
              "#f0f921"
             ]
            ],
            "type": "heatmap"
           }
          ],
          "heatmapgl": [
           {
            "colorbar": {
             "outlinewidth": 0,
             "ticks": ""
            },
            "colorscale": [
             [
              0,
              "#0d0887"
             ],
             [
              0.1111111111111111,
              "#46039f"
             ],
             [
              0.2222222222222222,
              "#7201a8"
             ],
             [
              0.3333333333333333,
              "#9c179e"
             ],
             [
              0.4444444444444444,
              "#bd3786"
             ],
             [
              0.5555555555555556,
              "#d8576b"
             ],
             [
              0.6666666666666666,
              "#ed7953"
             ],
             [
              0.7777777777777778,
              "#fb9f3a"
             ],
             [
              0.8888888888888888,
              "#fdca26"
             ],
             [
              1,
              "#f0f921"
             ]
            ],
            "type": "heatmapgl"
           }
          ],
          "histogram": [
           {
            "marker": {
             "colorbar": {
              "outlinewidth": 0,
              "ticks": ""
             }
            },
            "type": "histogram"
           }
          ],
          "histogram2d": [
           {
            "colorbar": {
             "outlinewidth": 0,
             "ticks": ""
            },
            "colorscale": [
             [
              0,
              "#0d0887"
             ],
             [
              0.1111111111111111,
              "#46039f"
             ],
             [
              0.2222222222222222,
              "#7201a8"
             ],
             [
              0.3333333333333333,
              "#9c179e"
             ],
             [
              0.4444444444444444,
              "#bd3786"
             ],
             [
              0.5555555555555556,
              "#d8576b"
             ],
             [
              0.6666666666666666,
              "#ed7953"
             ],
             [
              0.7777777777777778,
              "#fb9f3a"
             ],
             [
              0.8888888888888888,
              "#fdca26"
             ],
             [
              1,
              "#f0f921"
             ]
            ],
            "type": "histogram2d"
           }
          ],
          "histogram2dcontour": [
           {
            "colorbar": {
             "outlinewidth": 0,
             "ticks": ""
            },
            "colorscale": [
             [
              0,
              "#0d0887"
             ],
             [
              0.1111111111111111,
              "#46039f"
             ],
             [
              0.2222222222222222,
              "#7201a8"
             ],
             [
              0.3333333333333333,
              "#9c179e"
             ],
             [
              0.4444444444444444,
              "#bd3786"
             ],
             [
              0.5555555555555556,
              "#d8576b"
             ],
             [
              0.6666666666666666,
              "#ed7953"
             ],
             [
              0.7777777777777778,
              "#fb9f3a"
             ],
             [
              0.8888888888888888,
              "#fdca26"
             ],
             [
              1,
              "#f0f921"
             ]
            ],
            "type": "histogram2dcontour"
           }
          ],
          "mesh3d": [
           {
            "colorbar": {
             "outlinewidth": 0,
             "ticks": ""
            },
            "type": "mesh3d"
           }
          ],
          "parcoords": [
           {
            "line": {
             "colorbar": {
              "outlinewidth": 0,
              "ticks": ""
             }
            },
            "type": "parcoords"
           }
          ],
          "pie": [
           {
            "automargin": true,
            "type": "pie"
           }
          ],
          "scatter": [
           {
            "marker": {
             "colorbar": {
              "outlinewidth": 0,
              "ticks": ""
             }
            },
            "type": "scatter"
           }
          ],
          "scatter3d": [
           {
            "line": {
             "colorbar": {
              "outlinewidth": 0,
              "ticks": ""
             }
            },
            "marker": {
             "colorbar": {
              "outlinewidth": 0,
              "ticks": ""
             }
            },
            "type": "scatter3d"
           }
          ],
          "scattercarpet": [
           {
            "marker": {
             "colorbar": {
              "outlinewidth": 0,
              "ticks": ""
             }
            },
            "type": "scattercarpet"
           }
          ],
          "scattergeo": [
           {
            "marker": {
             "colorbar": {
              "outlinewidth": 0,
              "ticks": ""
             }
            },
            "type": "scattergeo"
           }
          ],
          "scattergl": [
           {
            "marker": {
             "colorbar": {
              "outlinewidth": 0,
              "ticks": ""
             }
            },
            "type": "scattergl"
           }
          ],
          "scattermapbox": [
           {
            "marker": {
             "colorbar": {
              "outlinewidth": 0,
              "ticks": ""
             }
            },
            "type": "scattermapbox"
           }
          ],
          "scatterpolar": [
           {
            "marker": {
             "colorbar": {
              "outlinewidth": 0,
              "ticks": ""
             }
            },
            "type": "scatterpolar"
           }
          ],
          "scatterpolargl": [
           {
            "marker": {
             "colorbar": {
              "outlinewidth": 0,
              "ticks": ""
             }
            },
            "type": "scatterpolargl"
           }
          ],
          "scatterternary": [
           {
            "marker": {
             "colorbar": {
              "outlinewidth": 0,
              "ticks": ""
             }
            },
            "type": "scatterternary"
           }
          ],
          "surface": [
           {
            "colorbar": {
             "outlinewidth": 0,
             "ticks": ""
            },
            "colorscale": [
             [
              0,
              "#0d0887"
             ],
             [
              0.1111111111111111,
              "#46039f"
             ],
             [
              0.2222222222222222,
              "#7201a8"
             ],
             [
              0.3333333333333333,
              "#9c179e"
             ],
             [
              0.4444444444444444,
              "#bd3786"
             ],
             [
              0.5555555555555556,
              "#d8576b"
             ],
             [
              0.6666666666666666,
              "#ed7953"
             ],
             [
              0.7777777777777778,
              "#fb9f3a"
             ],
             [
              0.8888888888888888,
              "#fdca26"
             ],
             [
              1,
              "#f0f921"
             ]
            ],
            "type": "surface"
           }
          ],
          "table": [
           {
            "cells": {
             "fill": {
              "color": "#EBF0F8"
             },
             "line": {
              "color": "white"
             }
            },
            "header": {
             "fill": {
              "color": "#C8D4E3"
             },
             "line": {
              "color": "white"
             }
            },
            "type": "table"
           }
          ]
         },
         "layout": {
          "annotationdefaults": {
           "arrowcolor": "#2a3f5f",
           "arrowhead": 0,
           "arrowwidth": 1
          },
          "autotypenumbers": "strict",
          "coloraxis": {
           "colorbar": {
            "outlinewidth": 0,
            "ticks": ""
           }
          },
          "colorscale": {
           "diverging": [
            [
             0,
             "#8e0152"
            ],
            [
             0.1,
             "#c51b7d"
            ],
            [
             0.2,
             "#de77ae"
            ],
            [
             0.3,
             "#f1b6da"
            ],
            [
             0.4,
             "#fde0ef"
            ],
            [
             0.5,
             "#f7f7f7"
            ],
            [
             0.6,
             "#e6f5d0"
            ],
            [
             0.7,
             "#b8e186"
            ],
            [
             0.8,
             "#7fbc41"
            ],
            [
             0.9,
             "#4d9221"
            ],
            [
             1,
             "#276419"
            ]
           ],
           "sequential": [
            [
             0,
             "#0d0887"
            ],
            [
             0.1111111111111111,
             "#46039f"
            ],
            [
             0.2222222222222222,
             "#7201a8"
            ],
            [
             0.3333333333333333,
             "#9c179e"
            ],
            [
             0.4444444444444444,
             "#bd3786"
            ],
            [
             0.5555555555555556,
             "#d8576b"
            ],
            [
             0.6666666666666666,
             "#ed7953"
            ],
            [
             0.7777777777777778,
             "#fb9f3a"
            ],
            [
             0.8888888888888888,
             "#fdca26"
            ],
            [
             1,
             "#f0f921"
            ]
           ],
           "sequentialminus": [
            [
             0,
             "#0d0887"
            ],
            [
             0.1111111111111111,
             "#46039f"
            ],
            [
             0.2222222222222222,
             "#7201a8"
            ],
            [
             0.3333333333333333,
             "#9c179e"
            ],
            [
             0.4444444444444444,
             "#bd3786"
            ],
            [
             0.5555555555555556,
             "#d8576b"
            ],
            [
             0.6666666666666666,
             "#ed7953"
            ],
            [
             0.7777777777777778,
             "#fb9f3a"
            ],
            [
             0.8888888888888888,
             "#fdca26"
            ],
            [
             1,
             "#f0f921"
            ]
           ]
          },
          "colorway": [
           "#636efa",
           "#EF553B",
           "#00cc96",
           "#ab63fa",
           "#FFA15A",
           "#19d3f3",
           "#FF6692",
           "#B6E880",
           "#FF97FF",
           "#FECB52"
          ],
          "font": {
           "color": "#2a3f5f"
          },
          "geo": {
           "bgcolor": "white",
           "lakecolor": "white",
           "landcolor": "#E5ECF6",
           "showlakes": true,
           "showland": true,
           "subunitcolor": "white"
          },
          "hoverlabel": {
           "align": "left"
          },
          "hovermode": "closest",
          "mapbox": {
           "style": "light"
          },
          "paper_bgcolor": "white",
          "plot_bgcolor": "#E5ECF6",
          "polar": {
           "angularaxis": {
            "gridcolor": "white",
            "linecolor": "white",
            "ticks": ""
           },
           "bgcolor": "#E5ECF6",
           "radialaxis": {
            "gridcolor": "white",
            "linecolor": "white",
            "ticks": ""
           }
          },
          "scene": {
           "xaxis": {
            "backgroundcolor": "#E5ECF6",
            "gridcolor": "white",
            "gridwidth": 2,
            "linecolor": "white",
            "showbackground": true,
            "ticks": "",
            "zerolinecolor": "white"
           },
           "yaxis": {
            "backgroundcolor": "#E5ECF6",
            "gridcolor": "white",
            "gridwidth": 2,
            "linecolor": "white",
            "showbackground": true,
            "ticks": "",
            "zerolinecolor": "white"
           },
           "zaxis": {
            "backgroundcolor": "#E5ECF6",
            "gridcolor": "white",
            "gridwidth": 2,
            "linecolor": "white",
            "showbackground": true,
            "ticks": "",
            "zerolinecolor": "white"
           }
          },
          "shapedefaults": {
           "line": {
            "color": "#2a3f5f"
           }
          },
          "ternary": {
           "aaxis": {
            "gridcolor": "white",
            "linecolor": "white",
            "ticks": ""
           },
           "baxis": {
            "gridcolor": "white",
            "linecolor": "white",
            "ticks": ""
           },
           "bgcolor": "#E5ECF6",
           "caxis": {
            "gridcolor": "white",
            "linecolor": "white",
            "ticks": ""
           }
          },
          "title": {
           "x": 0.05
          },
          "xaxis": {
           "automargin": true,
           "gridcolor": "white",
           "linecolor": "white",
           "ticks": "",
           "title": {
            "standoff": 15
           },
           "zerolinecolor": "white",
           "zerolinewidth": 2
          },
          "yaxis": {
           "automargin": true,
           "gridcolor": "white",
           "linecolor": "white",
           "ticks": "",
           "title": {
            "standoff": 15
           },
           "zerolinecolor": "white",
           "zerolinewidth": 2
          }
         }
        },
        "width": 1400,
        "xaxis": {
         "anchor": "y",
         "autorange": true,
         "domain": [
          0,
          0.45
         ],
         "range": [
          5,
          45
         ],
         "rangebreaks": [
          {
           "values": [
            30,
            40,
            50,
            60,
            70,
            80,
            90,
            100,
            110,
            120,
            130,
            140
           ]
          }
         ],
         "title": {
          "font": {
           "size": 10
          },
          "text": "KNN effect"
         },
         "type": "linear"
        },
        "xaxis2": {
         "anchor": "y2",
         "autorange": true,
         "domain": [
          0.55,
          1
         ],
         "range": [
          5,
          45
         ],
         "type": "linear"
        },
        "yaxis": {
         "anchor": "x",
         "autorange": true,
         "domain": [
          0,
          1
         ],
         "range": [
          0.8070902250153728,
          0.8382526133675182
         ],
         "type": "linear"
        },
        "yaxis2": {
         "anchor": "x2",
         "autorange": true,
         "domain": [
          0,
          1
         ],
         "matches": "y",
         "range": [
          0.8070902250153728,
          0.8382526133675182
         ],
         "showticklabels": false,
         "type": "linear"
        }
       }
      },
      "image/png": "[encoded data removed]",
      "text/html": [
       "<div>                            <div id=\"43b0ca79-95ba-4988-b6a0-c3d780fdb0b5\" class=\"plotly-graph-div\" style=\"height:800px; width:1400px;\"></div>            <script type=\"text/javascript\">                require([\"plotly\"], function(Plotly) {                    window.PLOTLYENV=window.PLOTLYENV || {};                                    if (document.getElementById(\"43b0ca79-95ba-4988-b6a0-c3d780fdb0b5\")) {                    Plotly.newPlot(                        \"43b0ca79-95ba-4988-b6a0-c3d780fdb0b5\",                        [{\"legendgroup\": \"accuracy\", \"mode\": \"lines\", \"name\": \"Annoy_angular_acc\", \"type\": \"scatter\", \"x\": [5.0, 10.0, 15.0, 20.0, 25.0, 30.0, 35.0, 40.0, 45.0], \"xaxis\": \"x\", \"y\": [0.8086483444329801, 0.8189663258606135, 0.8221555201200638, 0.823468717756308, 0.8252509145483539, 0.8269393115092393, 0.8272207110027202, 0.8276897101585217, 0.8271269111715599], \"yaxis\": \"y\"}, {\"legendgroup\": \"precision\", \"mode\": \"lines\", \"name\": \"Annoy_angular_prec\", \"type\": \"scatter\", \"x\": [5.0, 10.0, 15.0, 20.0, 25.0, 30.0, 35.0, 40.0, 45.0], \"xaxis\": \"x\", \"y\": [0.8208606438512195, 0.8309789038896521, 0.8340762696001277, 0.8352690922649392, 0.8370150771227806, 0.8393055893630815, 0.8403110591100483, 0.840536731573813, 0.8401505819676648], \"yaxis\": \"y\"}, {\"legendgroup\": \"recall\", \"mode\": \"lines\", \"name\": \"Annoy_angular_rec\", \"type\": \"scatter\", \"x\": [5.0, 10.0, 15.0, 20.0, 25.0, 30.0, 35.0, 40.0, 45.0], \"xaxis\": \"x\", \"y\": [0.8086483444329801, 0.8189663258606135, 0.8221555201200638, 0.823468717756308, 0.8252509145483539, 0.8269393115092393, 0.8272207110027202, 0.8276897101585217, 0.8271269111715599], \"yaxis\": \"y\"}, {\"legendgroup\": \"fbeta_score\", \"mode\": \"lines\", \"name\": \"Annoy_angular_fbeta\", \"type\": \"scatter\", \"x\": [5.0, 10.0, 15.0, 20.0, 25.0, 30.0, 35.0, 40.0, 45.0], \"xaxis\": \"x\", \"y\": [0.8105490948490058, 0.8209021426385311, 0.8241539888749123, 0.8252902662826829, 0.8270701924953796, 0.8289338450084145, 0.8295391640834973, 0.8299579589490894, 0.8295228677651404], \"yaxis\": \"y\"}, {\"legendgroup\": \"accuracy\", \"mode\": \"lines\", \"name\": \"Annoy_euclidean_acc\", \"type\": \"scatter\", \"x\": [5.0, 10.0, 15.0, 20.0, 25.0, 30.0, 35.0, 40.0, 45.0], \"xaxis\": \"x2\", \"y\": [0.816058531094644, 0.8238439170809493, 0.8269393115092393, 0.8299409061063691, 0.8305037050933308, 0.8347246974955445, 0.8347246974955445, 0.8362254947941093, 0.8366944939499109], \"yaxis\": \"y2\"}, {\"legendgroup\": \"precision\", \"mode\": \"lines\", \"name\": \"Annoy_euclidean_prec\", \"type\": \"scatter\", \"x\": [5.0, 10.0, 15.0, 20.0, 25.0, 30.0, 35.0, 40.0, 45.0], \"xaxis\": \"x2\", \"y\": [0.82749203021024, 0.8341037533984247, 0.8375797511865394, 0.840337241344602, 0.8412324822713845, 0.8451256436187152, 0.8455765622705117, 0.8469831060405123, 0.8472254531945748], \"yaxis\": \"y2\"}, {\"legendgroup\": \"recall\", \"mode\": \"lines\", \"name\": \"Annoy_euclidean_rec\", \"type\": \"scatter\", \"x\": [5.0, 10.0, 15.0, 20.0, 25.0, 30.0, 35.0, 40.0, 45.0], \"xaxis\": \"x2\", \"y\": [0.816058531094644, 0.8238439170809493, 0.8269393115092393, 0.8299409061063691, 0.8305037050933308, 0.8347246974955445, 0.8347246974955445, 0.8362254947941093, 0.8366944939499109], \"yaxis\": \"y2\"}, {\"legendgroup\": \"fbeta_score\", \"mode\": \"lines\", \"name\": \"Annoy_euclidean_fbeta\", \"type\": \"scatter\", \"x\": [5.0, 10.0, 15.0, 20.0, 25.0, 30.0, 35.0, 40.0, 45.0], \"xaxis\": \"x2\", \"y\": [0.8174158300962416, 0.8251082563263178, 0.8283695131822558, 0.8313305510646608, 0.8320009324229564, 0.8361163437439799, 0.8361804536640172, 0.8376858208552902, 0.8380572368408772], \"yaxis\": \"y2\"}],                        {\"annotations\": [{\"font\": {\"size\": 16}, \"showarrow\": false, \"text\": \"Metric: Angular\", \"x\": 0.225, \"xanchor\": \"center\", \"xref\": \"paper\", \"y\": 1.0, \"yanchor\": \"bottom\", \"yref\": \"paper\"}, {\"font\": {\"size\": 16}, \"showarrow\": false, \"text\": \"Metric: Euclidean\", \"x\": 0.775, \"xanchor\": \"center\", \"xref\": \"paper\", \"y\": 1.0, \"yanchor\": \"bottom\", \"yref\": \"paper\"}], \"height\": 800, \"template\": {\"data\": {\"bar\": [{\"error_x\": {\"color\": \"#2a3f5f\"}, \"error_y\": {\"color\": \"#2a3f5f\"}, \"marker\": {\"line\": {\"color\": \"#E5ECF6\", \"width\": 0.5}}, \"type\": \"bar\"}], \"barpolar\": [{\"marker\": {\"line\": {\"color\": \"#E5ECF6\", \"width\": 0.5}}, \"type\": \"barpolar\"}], \"carpet\": [{\"aaxis\": {\"endlinecolor\": \"#2a3f5f\", \"gridcolor\": \"white\", \"linecolor\": \"white\", \"minorgridcolor\": \"white\", \"startlinecolor\": \"#2a3f5f\"}, \"baxis\": {\"endlinecolor\": \"#2a3f5f\", \"gridcolor\": \"white\", \"linecolor\": \"white\", \"minorgridcolor\": \"white\", \"startlinecolor\": \"#2a3f5f\"}, \"type\": \"carpet\"}], \"choropleth\": [{\"colorbar\": {\"outlinewidth\": 0, \"ticks\": \"\"}, \"type\": \"choropleth\"}], \"contour\": [{\"colorbar\": {\"outlinewidth\": 0, \"ticks\": \"\"}, \"colorscale\": [[0.0, \"#0d0887\"], [0.1111111111111111, \"#46039f\"], [0.2222222222222222, \"#7201a8\"], [0.3333333333333333, \"#9c179e\"], [0.4444444444444444, \"#bd3786\"], [0.5555555555555556, \"#d8576b\"], [0.6666666666666666, \"#ed7953\"], [0.7777777777777778, \"#fb9f3a\"], [0.8888888888888888, \"#fdca26\"], [1.0, \"#f0f921\"]], \"type\": \"contour\"}], \"contourcarpet\": [{\"colorbar\": {\"outlinewidth\": 0, \"ticks\": \"\"}, \"type\": \"contourcarpet\"}], \"heatmap\": [{\"colorbar\": {\"outlinewidth\": 0, \"ticks\": \"\"}, \"colorscale\": [[0.0, \"#0d0887\"], [0.1111111111111111, \"#46039f\"], [0.2222222222222222, \"#7201a8\"], [0.3333333333333333, \"#9c179e\"], [0.4444444444444444, \"#bd3786\"], [0.5555555555555556, \"#d8576b\"], [0.6666666666666666, \"#ed7953\"], [0.7777777777777778, \"#fb9f3a\"], [0.8888888888888888, \"#fdca26\"], [1.0, \"#f0f921\"]], \"type\": \"heatmap\"}], \"heatmapgl\": [{\"colorbar\": {\"outlinewidth\": 0, \"ticks\": \"\"}, \"colorscale\": [[0.0, \"#0d0887\"], [0.1111111111111111, \"#46039f\"], [0.2222222222222222, \"#7201a8\"], [0.3333333333333333, \"#9c179e\"], [0.4444444444444444, \"#bd3786\"], [0.5555555555555556, \"#d8576b\"], [0.6666666666666666, \"#ed7953\"], [0.7777777777777778, \"#fb9f3a\"], [0.8888888888888888, \"#fdca26\"], [1.0, \"#f0f921\"]], \"type\": \"heatmapgl\"}], \"histogram\": [{\"marker\": {\"colorbar\": {\"outlinewidth\": 0, \"ticks\": \"\"}}, \"type\": \"histogram\"}], \"histogram2d\": [{\"colorbar\": {\"outlinewidth\": 0, \"ticks\": \"\"}, \"colorscale\": [[0.0, \"#0d0887\"], [0.1111111111111111, \"#46039f\"], [0.2222222222222222, \"#7201a8\"], [0.3333333333333333, \"#9c179e\"], [0.4444444444444444, \"#bd3786\"], [0.5555555555555556, \"#d8576b\"], [0.6666666666666666, \"#ed7953\"], [0.7777777777777778, \"#fb9f3a\"], [0.8888888888888888, \"#fdca26\"], [1.0, \"#f0f921\"]], \"type\": \"histogram2d\"}], \"histogram2dcontour\": [{\"colorbar\": {\"outlinewidth\": 0, \"ticks\": \"\"}, \"colorscale\": [[0.0, \"#0d0887\"], [0.1111111111111111, \"#46039f\"], [0.2222222222222222, \"#7201a8\"], [0.3333333333333333, \"#9c179e\"], [0.4444444444444444, \"#bd3786\"], [0.5555555555555556, \"#d8576b\"], [0.6666666666666666, \"#ed7953\"], [0.7777777777777778, \"#fb9f3a\"], [0.8888888888888888, \"#fdca26\"], [1.0, \"#f0f921\"]], \"type\": \"histogram2dcontour\"}], \"mesh3d\": [{\"colorbar\": {\"outlinewidth\": 0, \"ticks\": \"\"}, \"type\": \"mesh3d\"}], \"parcoords\": [{\"line\": {\"colorbar\": {\"outlinewidth\": 0, \"ticks\": \"\"}}, \"type\": \"parcoords\"}], \"pie\": [{\"automargin\": true, \"type\": \"pie\"}], \"scatter\": [{\"marker\": {\"colorbar\": {\"outlinewidth\": 0, \"ticks\": \"\"}}, \"type\": \"scatter\"}], \"scatter3d\": [{\"line\": {\"colorbar\": {\"outlinewidth\": 0, \"ticks\": \"\"}}, \"marker\": {\"colorbar\": {\"outlinewidth\": 0, \"ticks\": \"\"}}, \"type\": \"scatter3d\"}], \"scattercarpet\": [{\"marker\": {\"colorbar\": {\"outlinewidth\": 0, \"ticks\": \"\"}}, \"type\": \"scattercarpet\"}], \"scattergeo\": [{\"marker\": {\"colorbar\": {\"outlinewidth\": 0, \"ticks\": \"\"}}, \"type\": \"scattergeo\"}], \"scattergl\": [{\"marker\": {\"colorbar\": {\"outlinewidth\": 0, \"ticks\": \"\"}}, \"type\": \"scattergl\"}], \"scattermapbox\": [{\"marker\": {\"colorbar\": {\"outlinewidth\": 0, \"ticks\": \"\"}}, \"type\": \"scattermapbox\"}], \"scatterpolar\": [{\"marker\": {\"colorbar\": {\"outlinewidth\": 0, \"ticks\": \"\"}}, \"type\": \"scatterpolar\"}], \"scatterpolargl\": [{\"marker\": {\"colorbar\": {\"outlinewidth\": 0, \"ticks\": \"\"}}, \"type\": \"scatterpolargl\"}], \"scatterternary\": [{\"marker\": {\"colorbar\": {\"outlinewidth\": 0, \"ticks\": \"\"}}, \"type\": \"scatterternary\"}], \"surface\": [{\"colorbar\": {\"outlinewidth\": 0, \"ticks\": \"\"}, \"colorscale\": [[0.0, \"#0d0887\"], [0.1111111111111111, \"#46039f\"], [0.2222222222222222, \"#7201a8\"], [0.3333333333333333, \"#9c179e\"], [0.4444444444444444, \"#bd3786\"], [0.5555555555555556, \"#d8576b\"], [0.6666666666666666, \"#ed7953\"], [0.7777777777777778, \"#fb9f3a\"], [0.8888888888888888, \"#fdca26\"], [1.0, \"#f0f921\"]], \"type\": \"surface\"}], \"table\": [{\"cells\": {\"fill\": {\"color\": \"#EBF0F8\"}, \"line\": {\"color\": \"white\"}}, \"header\": {\"fill\": {\"color\": \"#C8D4E3\"}, \"line\": {\"color\": \"white\"}}, \"type\": \"table\"}]}, \"layout\": {\"annotationdefaults\": {\"arrowcolor\": \"#2a3f5f\", \"arrowhead\": 0, \"arrowwidth\": 1}, \"autotypenumbers\": \"strict\", \"coloraxis\": {\"colorbar\": {\"outlinewidth\": 0, \"ticks\": \"\"}}, \"colorscale\": {\"diverging\": [[0, \"#8e0152\"], [0.1, \"#c51b7d\"], [0.2, \"#de77ae\"], [0.3, \"#f1b6da\"], [0.4, \"#fde0ef\"], [0.5, \"#f7f7f7\"], [0.6, \"#e6f5d0\"], [0.7, \"#b8e186\"], [0.8, \"#7fbc41\"], [0.9, \"#4d9221\"], [1, \"#276419\"]], \"sequential\": [[0.0, \"#0d0887\"], [0.1111111111111111, \"#46039f\"], [0.2222222222222222, \"#7201a8\"], [0.3333333333333333, \"#9c179e\"], [0.4444444444444444, \"#bd3786\"], [0.5555555555555556, \"#d8576b\"], [0.6666666666666666, \"#ed7953\"], [0.7777777777777778, \"#fb9f3a\"], [0.8888888888888888, \"#fdca26\"], [1.0, \"#f0f921\"]], \"sequentialminus\": [[0.0, \"#0d0887\"], [0.1111111111111111, \"#46039f\"], [0.2222222222222222, \"#7201a8\"], [0.3333333333333333, \"#9c179e\"], [0.4444444444444444, \"#bd3786\"], [0.5555555555555556, \"#d8576b\"], [0.6666666666666666, \"#ed7953\"], [0.7777777777777778, \"#fb9f3a\"], [0.8888888888888888, \"#fdca26\"], [1.0, \"#f0f921\"]]}, \"colorway\": [\"#636efa\", \"#EF553B\", \"#00cc96\", \"#ab63fa\", \"#FFA15A\", \"#19d3f3\", \"#FF6692\", \"#B6E880\", \"#FF97FF\", \"#FECB52\"], \"font\": {\"color\": \"#2a3f5f\"}, \"geo\": {\"bgcolor\": \"white\", \"lakecolor\": \"white\", \"landcolor\": \"#E5ECF6\", \"showlakes\": true, \"showland\": true, \"subunitcolor\": \"white\"}, \"hoverlabel\": {\"align\": \"left\"}, \"hovermode\": \"closest\", \"mapbox\": {\"style\": \"light\"}, \"paper_bgcolor\": \"white\", \"plot_bgcolor\": \"#E5ECF6\", \"polar\": {\"angularaxis\": {\"gridcolor\": \"white\", \"linecolor\": \"white\", \"ticks\": \"\"}, \"bgcolor\": \"#E5ECF6\", \"radialaxis\": {\"gridcolor\": \"white\", \"linecolor\": \"white\", \"ticks\": \"\"}}, \"scene\": {\"xaxis\": {\"backgroundcolor\": \"#E5ECF6\", \"gridcolor\": \"white\", \"gridwidth\": 2, \"linecolor\": \"white\", \"showbackground\": true, \"ticks\": \"\", \"zerolinecolor\": \"white\"}, \"yaxis\": {\"backgroundcolor\": \"#E5ECF6\", \"gridcolor\": \"white\", \"gridwidth\": 2, \"linecolor\": \"white\", \"showbackground\": true, \"ticks\": \"\", \"zerolinecolor\": \"white\"}, \"zaxis\": {\"backgroundcolor\": \"#E5ECF6\", \"gridcolor\": \"white\", \"gridwidth\": 2, \"linecolor\": \"white\", \"showbackground\": true, \"ticks\": \"\", \"zerolinecolor\": \"white\"}}, \"shapedefaults\": {\"line\": {\"color\": \"#2a3f5f\"}}, \"ternary\": {\"aaxis\": {\"gridcolor\": \"white\", \"linecolor\": \"white\", \"ticks\": \"\"}, \"baxis\": {\"gridcolor\": \"white\", \"linecolor\": \"white\", \"ticks\": \"\"}, \"bgcolor\": \"#E5ECF6\", \"caxis\": {\"gridcolor\": \"white\", \"linecolor\": \"white\", \"ticks\": \"\"}}, \"title\": {\"x\": 0.05}, \"xaxis\": {\"automargin\": true, \"gridcolor\": \"white\", \"linecolor\": \"white\", \"ticks\": \"\", \"title\": {\"standoff\": 15}, \"zerolinecolor\": \"white\", \"zerolinewidth\": 2}, \"yaxis\": {\"automargin\": true, \"gridcolor\": \"white\", \"linecolor\": \"white\", \"ticks\": \"\", \"title\": {\"standoff\": 15}, \"zerolinecolor\": \"white\", \"zerolinewidth\": 2}}}, \"width\": 1400, \"xaxis\": {\"anchor\": \"y\", \"domain\": [0.0, 0.45], \"rangebreaks\": [{\"values\": [30, 40, 50, 60, 70, 80, 90, 100, 110, 120, 130, 140]}], \"title\": {\"font\": {\"size\": 10}, \"text\": \"KNN effect\"}}, \"xaxis2\": {\"anchor\": \"y2\", \"domain\": [0.55, 1.0]}, \"yaxis\": {\"anchor\": \"x\", \"domain\": [0.0, 1.0]}, \"yaxis2\": {\"anchor\": \"x2\", \"domain\": [0.0, 1.0], \"matches\": \"y\", \"showticklabels\": false}},                        {\"responsive\": true}                    ).then(function(){\n",
       "                            \n",
       "var gd = document.getElementById('43b0ca79-95ba-4988-b6a0-c3d780fdb0b5');\n",
       "var x = new MutationObserver(function (mutations, observer) {{\n",
       "        var display = window.getComputedStyle(gd).display;\n",
       "        if (!display || display === 'none') {{\n",
       "            console.log([gd, 'removed!']);\n",
       "            Plotly.purge(gd);\n",
       "            observer.disconnect();\n",
       "        }}\n",
       "}});\n",
       "\n",
       "// Listen for the removal of the full notebook cells\n",
       "var notebookContainer = gd.closest('#notebook-container');\n",
       "if (notebookContainer) {{\n",
       "    x.observe(notebookContainer, {childList: true});\n",
       "}}\n",
       "\n",
       "// Listen for the clearing of the current output cell\n",
       "var outputEl = gd.closest('.output');\n",
       "if (outputEl) {{\n",
       "    x.observe(outputEl, {childList: true});\n",
       "}}\n",
       "\n",
       "                        })                };                });            </script>        </div>"
      ]
     },
     "metadata": {},
     "output_type": "display_data"
    }
   ],
   "source": [
    "import plotly.graph_objects as go\n",
    "from plotly.subplots import make_subplots\n",
    "import pandas as pd\n",
    "import matplotlib.pyplot as plt\n",
    "import plotly.express as px\n",
    "\n",
    "\n",
    "fig = make_subplots(\n",
    "        rows=1,\n",
    "        cols=2,\n",
    "        shared_yaxes=True,\n",
    "        vertical_spacing=0.01,\n",
    "        horizontal_spacing=0.1,\n",
    "        # row_heights=[0.5, 0.5],\n",
    "        subplot_titles=(\"Metric: Angular\", \"Metric: Euclidean\")\n",
    "    )\n",
    "\n",
    "plt_df1=k_effect.copy()\n",
    "\n",
    "\n",
    "mode=\"lines\"# \"markers+text\"\n",
    "x_col= \"n_trees\"\n",
    "fig.add_trace(\n",
    "        go.Scatter(\n",
    "            x=plt_df1[x_col], y=plt_df1[\"Annoy_angular_acc\"],mode=mode,name=\"Annoy_angular_acc\",legendgroup ='accuracy'# , line=dict(color=\"blue\", width=2)\n",
    "        ),\n",
    "        row=1,\n",
    "        col=1,\n",
    "    )\n",
    "fig.add_trace(\n",
    "        go.Scatter(\n",
    "            x=plt_df1[x_col], y=plt_df1[\"Annoy_angular_prec\"],mode=mode,name='Annoy_angular_prec',legendgroup ='precision'# , line=dict(color=\"blue\", width=2)\n",
    "        ),\n",
    "        row=1,\n",
    "        col=1,\n",
    "    )\n",
    "\n",
    "fig.add_trace(\n",
    "        go.Scatter(\n",
    "            x=plt_df1[x_col], y=plt_df1[\"Annoy_angular_rec\"],mode=mode,name='Annoy_angular_rec',legendgroup ='recall'# , line=dict(color=\"blue\", width=2)\n",
    "        ),\n",
    "        row=1,\n",
    "        col=1,\n",
    "    )\n",
    "\n",
    "fig.add_trace(\n",
    "        go.Scatter(\n",
    "            x=plt_df1[x_col], y=plt_df1[\"Annoy_angular_fbeta\"],mode=mode,name='Annoy_angular_fbeta',legendgroup ='fbeta_score'# , line=dict(color=\"blue\", width=2)\n",
    "        ),\n",
    "        row=1,\n",
    "        col=1,\n",
    "    )\n",
    "\n",
    "fig.add_trace(\n",
    "        go.Scatter(\n",
    "            x=plt_df1[x_col], y=plt_df1[\"Annoy_euclidean_acc\"],mode=mode,name=\"Annoy_euclidean_acc\",legendgroup ='accuracy'# , line=dict(color=\"blue\", width=2)\n",
    "        ),\n",
    "        row=1,\n",
    "        col=2,\n",
    "    )\n",
    "fig.add_trace(\n",
    "        go.Scatter(\n",
    "            x=plt_df1[x_col], y=plt_df1[\"Annoy_euclidean_prec\"],mode=mode,name='Annoy_euclidean_prec',legendgroup ='precision'# , line=dict(color=\"blue\", width=2)\n",
    "        ),\n",
    "        row=1,\n",
    "        col=2,\n",
    "    )\n",
    "\n",
    "fig.add_trace(\n",
    "        go.Scatter(\n",
    "            x=plt_df1[x_col], y=plt_df1[\"Annoy_euclidean_rec\"],mode=mode,name='Annoy_euclidean_rec',legendgroup ='recall'# , line=dict(color=\"blue\", width=2)\n",
    "        ),\n",
    "        row=1,\n",
    "        col=2,\n",
    "    )\n",
    "\n",
    "fig.add_trace(\n",
    "        go.Scatter(\n",
    "            x=plt_df1[x_col], y=plt_df1[\"Annoy_euclidean_fbeta\"],mode=mode,name='Annoy_euclidean_fbeta',legendgroup ='fbeta_score'# , line=dict(color=\"blue\", width=2)\n",
    "        ),\n",
    "        row=1,\n",
    "        col=2,\n",
    "    )\n",
    "\n",
    "# fig.layout.annotations[1].update(text=\"Metric=Angular\")\n",
    "fig.update_xaxes(title_text=\"KNN effect\", row=1, col=1, title_font_size=10)\n",
    "# fig.update_yaxes(title_text=\"Metrics in %\", row=1, col=2, title_font_size=10)\n",
    "# fig.update_yaxes(title_text=\"Metrics in %\", row=1, col=2, title_font_size=10)\n",
    "\n",
    "fig.update_layout(\n",
    "        height=800,\n",
    "        width=1400,\n",
    "        # xaxis_rangeslider_visible=False,\n",
    "        xaxis_rangebreaks=[dict(values=[x for x in range(30,150,10)])]\n",
    "    )\n",
    "\n",
    "fig.show()"
   ]
  },
  {
   "cell_type": "markdown",
   "id": "c28ced35-4b57-4d22-9532-dae07a40bdba",
   "metadata": {},
   "source": [
    "## Scann"
   ]
  },
  {
   "cell_type": "code",
   "execution_count": 1,
   "id": "3a310e1e-6507-4832-a047-908507e3fd01",
   "metadata": {},
   "outputs": [],
   "source": [
    "import numpy as np\n",
    "import h5py\n",
    "import os\n",
    "import requests\n",
    "import tempfile\n",
    "import time\n",
    "\n",
    "import scann"
   ]
  },
  {
   "cell_type": "code",
   "execution_count": null,
   "id": "da9aa694-a8f5-4688-a39f-0fbeeea4990b",
   "metadata": {},
   "outputs": [],
   "source": [
    "# enrollment_features, enrollment_labels = get_features(enrollment_preprocess, 100)\n",
    "# test_features, test_labels = get_features(test_preprocess, 100)\n",
    "\n",
    "edf = pd.DataFrame(columns=['embedding', 'label'])\n",
    "for i,j in zip(enrollment_features, enrollment_labels):\n",
    "    edf=edf.append({'embedding': i, \"label\": j},ignore_index=True)\n",
    "    \n",
    "    \n",
    "test_X_df = pd.DataFrame(columns=['embedding', 'label'])\n",
    "for i,j in zip(test_features, test_labels):\n",
    "    test_X_df=test_X_df.append({'embedding': i, \"label\": j},ignore_index=True)\n",
    "    \n",
    "\n",
    "metric_folder= \"/home/jupyter/dvc-manual/gtin_60/models/CLIP/metrics\"\n",
    "dataset_name= 'train_enrollment'\n",
    "\n",
    "for nt in range(5,101,5):\n",
    "    metric_dict=top1(metric_folder,edf, test_X_df, annoy_metrics,enrollment_label_dict,test_label_dict, n_trees=nt)\n",
    "    saveMetric(metric_dict,metric_folder,dataset_name,nt)"
   ]
  },
  {
   "cell_type": "code",
   "execution_count": 4,
   "id": "bdec9cfa-b7d2-47a0-b707-b1d5350226f6",
   "metadata": {},
   "outputs": [
    {
     "name": "stderr",
     "output_type": "stream",
     "text": [
      "2022-02-14 20:47:18.478576: I scann/partitioning/partitioner_factory_base.cc:71] Size of sampled dataset for training partition: 5763\n",
      "2022-02-14 20:47:21.220921: I ./scann/partitioning/kmeans_tree_partitioner_utils.h:102] PartitionerFactory ran in 2.742211628s.\n"
     ]
    }
   ],
   "source": [
    "normalized_dataset = enrollment_features / np.linalg.norm(enrollment_features, axis=1)[:, np.newaxis]\n",
    "# configure ScaNN as a tree - asymmetric hash hybrid with reordering\n",
    "# anisotropic quantization as described in the paper; see README\n",
    "\n",
    "# use scann.scann_ops.build() to instead create a TensorFlow-compatible searcher\n",
    "searcher = scann.scann_ops_pybind.builder(normalized_dataset, 10, \"dot_product\").tree(\n",
    "    num_leaves=2000, num_leaves_to_search=100).score_ah(\n",
    "    2, anisotropic_quantization_threshold=0.2).reorder(100).build()"
   ]
  },
  {
   "cell_type": "code",
   "execution_count": null,
   "id": "61d02fa3-67a7-4261-a2b1-fc7b730aa6cb",
   "metadata": {},
   "outputs": [],
   "source": []
  },
  {
   "cell_type": "code",
   "execution_count": null,
   "id": "698f5b82-ca43-4225-9ff8-b6b8edc20040",
   "metadata": {},
   "outputs": [],
   "source": [
    "def compute_recall(neighbors, true_neighbors):\n",
    "    total = 0\n",
    "    for gt_row, row in zip(true_neighbors, neighbors):\n",
    "        total += np.intersect1d(gt_row, row).shape[0]\n",
    "    return total / true_neighbors.size"
   ]
  },
  {
   "cell_type": "code",
   "execution_count": null,
   "id": "1de34bcb-db00-4af5-afad-903d158bfedc",
   "metadata": {},
   "outputs": [],
   "source": [
    "# this will search the top 100 of the 2000 leaves, and compute\n",
    "# the exact dot products of the top 100 candidates from asymmetric\n",
    "# hashing to get the final top 10 candidates.\n",
    "start = time.time()\n",
    "neighbors, distances = searcher.search_batched(queries)\n",
    "end = time.time()\n",
    "\n",
    "# we are given top 100 neighbors in the ground truth, so select top 10\n",
    "print(\"Recall:\", compute_recall(neighbors, glove_h5py['neighbors'][:, :10]))\n",
    "print(\"Time:\", end - start)"
   ]
  },
  {
   "cell_type": "code",
   "execution_count": null,
   "id": "f80f9b61-166e-4695-9e2c-a334267a75da",
   "metadata": {},
   "outputs": [],
   "source": []
  },
  {
   "cell_type": "markdown",
   "id": "c87539de-8b3c-42c7-b032-986e3fe801ec",
   "metadata": {},
   "source": [
    "## Triton Deployment"
   ]
  },
  {
   "cell_type": "code",
   "execution_count": 54,
   "id": "ed7df404-f92e-4791-95fa-09b81b67744c",
   "metadata": {},
   "outputs": [
    {
     "name": "stdout",
     "output_type": "stream",
     "text": [
      "==> Saving...\n"
     ]
    },
    {
     "data": {
      "text/plain": [
       "'/home/jupyter/dvc-manual/gtin_60/models/CLIP/clip_encoder_90_1.pth'"
      ]
     },
     "execution_count": 54,
     "metadata": {},
     "output_type": "execute_result"
    }
   ],
   "source": [
    "import os\n",
    "import sys\n",
    "from datetime import datetime\n",
    "import torch\n",
    "\n",
    "class Saver:\n",
    "    def __init__(self):\n",
    "        self.date = str(datetime.now().date())\n",
    "\n",
    "    def save_model(self,model, opt, save_file):\n",
    "        print('==> Saving...')\n",
    "        state = {\n",
    "            'opt': opt,\n",
    "            'model': model.state_dict(),\n",
    "            # 'optimizer': optimizer.state_dict(),\n",
    "            # 'epoch': epoch,\n",
    "        }\n",
    "        torch.save(state, save_file)\n",
    "        del state\n",
    "\n",
    "\n",
    "    def model_saver(self, model,  opt, save_file):\n",
    "        save_file_path=os.path.join(save_file)#'ckpt_epoch_{epoch}.pth'.format(epoch=epoch))    \n",
    "        self.save_model(model, opt, save_file_path)\n",
    "        return save_file_path    \n",
    "\n",
    "opt={\"model\": \"CLIP\",\n",
    "     \"save_folder\": \"/home/jupyter/dvc-manual/gtin_60/models/CLIP\",\n",
    "    }\n",
    "\n",
    "save_file = os.path.join(opt[\"save_folder\"], f'clip_encoder_{enrollment_size}_{set_number}.pth')\n",
    "svr= Saver()\n",
    "svr.model_saver(model, opt, save_file)"
   ]
  },
  {
   "cell_type": "code",
   "execution_count": 85,
   "id": "31348867-64b4-4b57-ac68-904c5cac2e1c",
   "metadata": {},
   "outputs": [
    {
     "data": {
      "text/plain": [
       "dtype('float16')"
      ]
     },
     "execution_count": 85,
     "metadata": {},
     "output_type": "execute_result"
    }
   ],
   "source": [
    "enrollment_features.dtype"
   ]
  },
  {
   "cell_type": "code",
   "execution_count": 84,
   "id": "eeac4b9c-e0a3-4474-b5c1-1c03ffc01c34",
   "metadata": {},
   "outputs": [],
   "source": [
    "## Save TorchScript model\n",
    "\n",
    "def saveTorchScriptModel(opt,model):\n",
    "    model_name=\"CLIP\"\n",
    "    folder_save= \"/home/jupyter/dvc-manual/gtin_60/models/CLIP\"\n",
    "    if not os.path.isdir(folder_save):\n",
    "        os.makedirs(folder_save, mode=0o777)\n",
    "    \n",
    "    folder_save_model= os.path.join(folder_save,\"1\")\n",
    "    if not os.path.isdir(folder_save_model):\n",
    "        os.makedirs(folder_save_model, mode=0o777)\n",
    "\n",
    "    img_size=(224,224)\n",
    "    img=torch.randn(1, 3, img_size[0],img_size[1]).type(model.dtype).cuda()\n",
    "\n",
    "    traced_model = torch.jit.trace(model.visual,img)\n",
    "    traced_model.save(os.path.join(folder_save_model,'model.pt'))\n",
    "\n",
    "   \n",
    "    x = 'name: \"{}\"'.format(model_name)\n",
    "    config=x +' \\nplatform: \"pytorch_libtorch\" \\ninput [ \\n{\\nname: \"input__0\"\\ndata_type: TYPE_FP16\\ndims: [-1, 3,224,224]\\n} \\n]\\noutput {\\nname: \"output__0\"\\ndata_type: TYPE_FP16\\ndims: [-1, 512]\\n}'\n",
    "\n",
    "    pbtxt_file = open(os.path.join(folder_save,'config.pbtxt'), \"w\")\n",
    "    pbtxt_file.write(config)\n",
    "    pbtxt_file.close()\n",
    "\n",
    "\n",
    "\n",
    "\n",
    "\n",
    "saveTorchScriptModel(opt,model)\n",
    "    "
   ]
  },
  {
   "cell_type": "code",
   "execution_count": 86,
   "id": "f9e4b7ca-3735-4203-9b18-6432293adc54",
   "metadata": {},
   "outputs": [],
   "source": [
    "loaded = torch.jit.load('/home/jupyter/dvc-manual/gtin_60/models/CLIP/1/model.pt')"
   ]
  },
  {
   "cell_type": "code",
   "execution_count": 93,
   "id": "8c0af034-5fd9-4e23-8229-71cd207cd558",
   "metadata": {},
   "outputs": [
    {
     "data": {
      "text/plain": [
       "torch.float16"
      ]
     },
     "execution_count": 93,
     "metadata": {},
     "output_type": "execute_result"
    }
   ],
   "source": [
    "model.dtype"
   ]
  },
  {
   "cell_type": "code",
   "execution_count": 190,
   "id": "79601ace-d67c-4b9d-9627-8e1564686606",
   "metadata": {},
   "outputs": [],
   "source": [
    "ground_truth = torch.arange(100,dtype=torch.long,device=device)"
   ]
  },
  {
   "cell_type": "code",
   "execution_count": 191,
   "id": "287a1ebf-2b42-4335-b176-92fc93eb12fa",
   "metadata": {},
   "outputs": [
    {
     "data": {
      "text/plain": [
       "tensor([ 0,  1,  2,  3,  4,  5,  6,  7,  8,  9, 10, 11, 12, 13, 14, 15, 16, 17,\n",
       "        18, 19, 20, 21, 22, 23, 24, 25, 26, 27, 28, 29, 30, 31, 32, 33, 34, 35,\n",
       "        36, 37, 38, 39, 40, 41, 42, 43, 44, 45, 46, 47, 48, 49, 50, 51, 52, 53,\n",
       "        54, 55, 56, 57, 58, 59, 60, 61, 62, 63, 64, 65, 66, 67, 68, 69, 70, 71,\n",
       "        72, 73, 74, 75, 76, 77, 78, 79, 80, 81, 82, 83, 84, 85, 86, 87, 88, 89,\n",
       "        90, 91, 92, 93, 94, 95, 96, 97, 98, 99], device='cuda:0')"
      ]
     },
     "execution_count": 191,
     "metadata": {},
     "output_type": "execute_result"
    }
   ],
   "source": [
    "ground_truth"
   ]
  },
  {
   "cell_type": "code",
   "execution_count": null,
   "id": "63a80f71-c95a-43db-ae65-5b13e4212355",
   "metadata": {},
   "outputs": [],
   "source": []
  },
  {
   "cell_type": "code",
   "execution_count": null,
   "id": "62cccd92-5623-4a8e-9577-396e8d6870d8",
   "metadata": {},
   "outputs": [],
   "source": []
  }
 ],
 "metadata": {
  "environment": {
   "kernel": "python3",
   "name": "pytorch-gpu.1-10.m87",
   "type": "gcloud",
   "uri": "gcr.io/deeplearning-platform-release/pytorch-gpu.1-10:m87"
  },
  "kernelspec": {
   "display_name": "Python 3",
   "language": "python",
   "name": "python3"
  },
  "language_info": {
   "codemirror_mode": {
    "name": "ipython",
    "version": 3
   },
   "file_extension": ".py",
   "mimetype": "text/x-python",
   "name": "python",
   "nbconvert_exporter": "python",
   "pygments_lexer": "ipython3",
   "version": "3.7.12"
  }
 },
 "nbformat": 4,
 "nbformat_minor": 5
}
