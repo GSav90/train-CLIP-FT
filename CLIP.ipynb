{
 "cells": [
  {
   "cell_type": "code",
   "execution_count": 1,
   "id": "06cb5806-4624-4dfb-8226-5530589aea79",
   "metadata": {},
   "outputs": [],
   "source": [
    "import os\n",
    "import torch\n",
    "import clip\n",
    "import numpy as np\n",
    "import pandas as pd\n",
    "import pyarrow.feather as feather\n",
    "from PIL import Image\n",
    "from urllib import request\n",
    "from tqdm import tqdm\n",
    "from torch.utils.data import Dataset, DataLoader\n",
    "from torchvision import datasets, transforms\n",
    "import torchvision, torch\n",
    "from sklearn.linear_model import LogisticRegression\n",
    "import sklearn\n",
    "from sklearn import metrics\n",
    "from sklearn.metrics import precision_recall_fscore_support\n",
    "# proxy=\"http://sysproxy.wal-mart.com:8080\"\n",
    "# os.environ['http_proxy'] = proxy \n",
    "# os.environ['HTTP_PROXY'] = proxy\n",
    "# os.environ['https_proxy'] = proxy\n",
    "# os.environ['HTTPS_PROXY'] = proxy\n",
    "\n",
    "\n",
    "# export HTTP_PROXY=http://sysproxy.wal-mart.com:8080\n",
    "# export HTTPS_PROXY=http://sysproxy.wal-mart.com:8080"
   ]
  },
  {
   "cell_type": "markdown",
   "id": "e7b15c75-9323-4d87-a1d6-9b7d80112faf",
   "metadata": {},
   "source": [
    "## Enrollment Evaluation"
   ]
  },
  {
   "cell_type": "code",
   "execution_count": 35,
   "id": "b99fc5b1-c049-4840-9329-68a93551387f",
   "metadata": {},
   "outputs": [
    {
     "name": "stdout",
     "output_type": "stream",
     "text": [
      "model loaded\n"
     ]
    },
    {
     "name": "stderr",
     "output_type": "stream",
     "text": [
      "100%|██████████| 68/68 [01:09<00:00,  1.02s/it]\n",
      "100%|██████████| 107/107 [01:42<00:00,  1.04it/s]\n"
     ]
    },
    {
     "name": "stdout",
     "output_type": "stream",
     "text": [
      "Enrollment size = 90\n",
      "Accuracy=  0.9244911359159553\n"
     ]
    }
   ],
   "source": [
    "import os\n",
    "import torch\n",
    "import clip\n",
    "import numpy as np\n",
    "import pandas as pd\n",
    "import pyarrow.feather as feather\n",
    "from PIL import Image\n",
    "from urllib import request\n",
    "from tqdm import tqdm\n",
    "from torch.utils.data import Dataset, DataLoader\n",
    "from torchvision import datasets, transforms\n",
    "import torchvision, torch\n",
    "from sklearn.linear_model import LogisticRegression\n",
    "import sklearn\n",
    "from sklearn import metrics\n",
    "from sklearn.metrics import precision_recall_fscore_support\n",
    "# from transformers import CLIPProcessor, CLIPModel\n",
    "\n",
    "device = \"cuda\" if torch.cuda.is_available() else \"cpu\"\n",
    "model, preprocess = clip.load(\"ViT-B/32\", device=device)\n",
    "# device\n",
    "\n",
    "# PATH=\"/home/jupyter/train-CLIP-FT/lightning_logs/version_4/checkpoints/epoch=31-step=16319.ckpt\"\n",
    "# PATH = \"/home/jupyter/train-CLIP-FT/lightning_logs/version_4/checkpoints/epoch=31-step=4063.ckpt\"\n",
    "#model = torch.load(PATH, map_location='cpu')\n",
    "print(\"model loaded\")\n",
    "test_label_dict={}\n",
    "enrollment_label_dict={}\n",
    "\n",
    "metric_agg= pd.DataFrame(columns=[\"enrollment_batch_size\",\"set_number\",\"accuracy\",\"precision\",\"recall\",\"fbeta_score\",\"weighted_precision\",\"weighted_recall\",\"weighted_fbeta\"])\n",
    "\n",
    "def get_features(dataset, BATCH_SIZE=100):\n",
    "    all_features = []\n",
    "    all_labels = []\n",
    "\n",
    "    with torch.no_grad():\n",
    "        for images, labels in tqdm(DataLoader(dataset, batch_size=BATCH_SIZE)):\n",
    "            features = model.encode_image(images.to(device))\n",
    "            # images=images.type(model.dtype)\n",
    "            # features=loaded(images.to(device))\n",
    "\n",
    "            all_features.append(features)\n",
    "            all_labels.append(labels)\n",
    "\n",
    "    return torch.cat(all_features).cpu().numpy(), torch.cat(all_labels).cpu().numpy()\n",
    "\n",
    "acc_df= pd.DataFrame()\n",
    "\n",
    "for enrollment_size in range(90,91):\n",
    "    for set_number in [1]:\n",
    "        # dvc-manual/gtin_60/data/prep/subsets/enrollment_size_{enrollment_size}_SN_{set_number}\n",
    "        enrollment_path= os.path.join(\"/home/jupyter\",f'dvc-manual/gtin_60/data/prep/80gtin_allsubfolders/80gtin_ET/ET_size_{enrollment_size}')\n",
    "        enrollment_preprocess= torchvision.datasets.ImageFolder(root=enrollment_path,transform=preprocess)\n",
    "        # 'dvc-manual/gtin_60/data/prep/test'\n",
    "        test_path= os.path.join(\"/home/jupyter\",'dvc-manual/gtin_60/data/prep/80gtin_allsubfolders/splitfolders/test')\n",
    "        test_preprocess= torchvision.datasets.ImageFolder(root=test_path,transform=preprocess)\n",
    "        \n",
    "        for k,v in test_preprocess.class_to_idx.items():\n",
    "            test_label_dict[v]=k\n",
    "        for k,v in enrollment_preprocess.class_to_idx.items():\n",
    "            enrollment_label_dict[v]=k\n",
    "        \n",
    "        enrollment_features, enrollment_labels = get_features(enrollment_preprocess, 100)\n",
    "        test_features, test_labels = get_features(test_preprocess, 100)\n",
    "        \n",
    "        classifier = LogisticRegression(random_state=0, C=0.316, max_iter=1000, verbose=0)\n",
    "        classifier.fit(enrollment_features, enrollment_labels)\n",
    "        \n",
    "        \n",
    "        \n",
    "        predictions = classifier.predict(test_features)\n",
    "        true_labels=test_labels.copy()\n",
    "        \n",
    "        for idx,val in enumerate(test_labels):\n",
    "            true_labels[idx]=str(test_label_dict[val])\n",
    "            \n",
    "        for idx,val in enumerate(predictions):\n",
    "            predictions[idx]=str(enrollment_label_dict[val])\n",
    "        \n",
    "        acc= metrics.accuracy_score(np.array(true_labels),np.array(predictions))\n",
    "        report=sklearn.metrics.classification_report(np.array(true_labels),np.array(predictions))\n",
    "        prec, rec,fscore,supp=precision_recall_fscore_support(np.array(true_labels),np.array(predictions), average='macro')\n",
    "        w_prec, w_rec,w_fscore,w_supp=precision_recall_fscore_support(np.array(true_labels),np.array(predictions), average='weighted')\n",
    "        \n",
    "        row={\"enrollment_batch_size\": enrollment_size,\n",
    "                 \"set_number\": set_number,\n",
    "                 \"accuracy\": acc,\n",
    "                 \"precision\":prec,\n",
    "                 \"recall\": rec,\n",
    "                 \"fbeta_score\": fscore,\n",
    "                 \"weighted_precision\": w_prec,\n",
    "                 \"weighted_recall\": w_rec,\n",
    "                 \"weighted_fbeta\": w_fscore\n",
    "                }\n",
    "        metric_agg=metric_agg.append(row,ignore_index=True)\n",
    "        print(f\"Enrollment size = {enrollment_size}\")\n",
    "        print(\"Accuracy= \", acc)\n",
    "        \n",
    "    break"
   ]
  },
  {
   "cell_type": "code",
   "execution_count": 56,
   "id": "18438e50-c8c6-48ad-bc77-2b51afc64daa",
   "metadata": {},
   "outputs": [
    {
     "name": "stderr",
     "output_type": "stream",
     "text": [
      "/opt/conda/lib/python3.7/site-packages/ipykernel_launcher.py:80: DtypeWarning: Columns (0,27,49,73,144,166,182,193,231,243,270,276,327,328,330,345,390,393,400,402,404,406,423,426,427,438,445,446,452,459,460,466,469,483,488,489,490,491,493,494,498,500,501,502,503,505,507,509,510,511,513,519,528,534,537,546,575,580,586,591,594,605,614,619,621,627,629,630,639,640,641,642,660,661,663,666,667,672,676,684,685,687,689,694,697,699,700,701,705,706,707,710,712,713,715,717,719,724,726,730,732,733,736,737,740,741,743,744,745,746,748,750,752,753,755,756,760,761,762,763,765,767,770,771,772,778,780,781,782,783,785,788,793,794,796,797,798,799,800,804,805,806,807,808,809,811,814,815,816,817,818,819,820,821,822,823,824,825,826,827,828,829,832,833,834,835,836,837,838,839,840,841,842,844,845,846,848,849,850,852,853,854,855,856,857,858,859,860,861,862,863,864,865,866,868,869,870,871,872,874,877,881,882,885,889,891,892,907,908,911,916,917,923,924,931,933,934,949,951,957,958,965,967,968,970,973,974,978,984,986,987,994,1003,1007,1008,1009,1010,1011,1012,1013,1014,1015,1016,1020,1024,1028,1029,1030,1031,1032,1033,1034,1035,1036,1037,1038,1039,1040,1047,1050,1051,1055,1057,1058,1059,1061,1064,1065,1067,1071,1074,1079,1080,1085,1092,1093,1109,1110,1113,1114,1123,1135,1136,1140,1143,1145,1147,1153,1154,1155,1156,1157,1159,1169,1170,1172,1175,1179,1180,1182,1184,1187,1190,1191,1223,1224,1227,1230,1233,1235,1236,1239,1240,1242,1247,1248,1260,1261,1269,1271,1276,1277,1278,1279,1280,1281,1282,1283,1284,1285,1286,1287,1288,1289,1291,1292,1293,1294,1297,1298,1300,1301,1302,1303,1304,1305,1307,1308,1310,1311,1312,1313,1314,1315,1316,1317,1318,1319,1320,1321,1324,1325,1326,1327,1328,1331,1332,1333,1334,1335,1336,1337,1338,1339,1340,1341,1342,1343,1344,1345,1346,1347,1348,1349,1350,1351,1352,1354,1355,1356,1357,1358,1361,1362,1363,1364,1365,1366,1367,1368,1369,1370,1371,1372,1373,1374,1375,1376,1377,1378,1379,1382,1383,1384,1385,1386,1387,1388,1389,1390,1391,1392,1393,1394,1395,1396,1397,1398,1399,1400,1401,1402,1403,1404,1406,1407,1408,1409,1410,1411,1412,1413,1414) have mixed types.Specify dtype option on import or set low_memory=False.\n"
     ]
    }
   ],
   "source": [
    "import pandas as pd\n",
    "import re\n",
    "import torchvision\n",
    "from PIL import Image\n",
    "import clip\n",
    "import torch\n",
    "import os\n",
    "from torch.utils.data import Dataset, DataLoader\n",
    "from transformers import CLIPTokenizer, CLIPProcessor\n",
    "# import pandas as pd\n",
    "# gtin_mapping=pd.read_csv(os.path.join(os.getcwd(),\"dvc-manual/520_gtin_product_name.csv\"))\n",
    "# [gtin_mapping[gtin_mapping[\"gtin\"]==gtin_mapping[\"gtin\"].value_counts().index[1]][\"product_name\"].iloc[i] for i in range(0,4)]\n",
    "\n",
    "\n",
    "def cleanhtml(raw_html):\n",
    "    CLEANR = re.compile(\"<.*?>\")  # remove html tags\n",
    "    cleantext = re.sub(CLEANR, \"\", raw_html)\n",
    "    pattern = r\"\\d*\\.\\d+\"  # r'[0-9]' # remove decimal numbers\n",
    "    cleantext = re.sub(pattern, \"\", cleantext)\n",
    "    pattern = r\"[0-9]\"  # remove any digits\n",
    "    cleantext = re.sub(pattern, \"\", cleantext)\n",
    "    return cleantext\n",
    "\n",
    "\n",
    "def get_mapping():\n",
    "    gtin_mapping = pd.read_csv(\"/home/jupyter/dvc-manual/gtin_attr.csv\")\n",
    "    desc_columns = [\n",
    "        col\n",
    "        for col in gtin_mapping.columns\n",
    "        if \"desc\" in col.lower() or \"name\" in col.lower() or \"date\" in col.lower()\n",
    "    ]\n",
    "    desc_columns = [\n",
    "        \"gtin\",\n",
    "        \"KARF Picker Description\",\n",
    "        \"Product Long Description\",\n",
    "        \"Short Description\",\n",
    "        \"Product Name\",\n",
    "    ]\n",
    "    gtin_mapping = gtin_mapping.loc[:, desc_columns]\n",
    "    gtin_mapping[\"Product Long Description\"] = gtin_mapping.apply(\n",
    "        lambda x: cleanhtml(str(x[\"Product Long Description\"])), axis=1\n",
    "    )\n",
    "    gtin_mapping[\"Short Description\"] = gtin_mapping.apply(\n",
    "        lambda x: cleanhtml(str(x[\"Short Description\"])), axis=1\n",
    "    )\n",
    "    gtin_mapping[\"Product Name\"] = gtin_mapping.apply(\n",
    "        lambda x: cleanhtml(str(x[\"Product Name\"])), axis=1\n",
    "    )\n",
    "    gtin_mapping = gtin_mapping.rename(\n",
    "        columns={\n",
    "            \"Product Long Description\": \"desc_long\",\n",
    "            \"Short Description\": \"desc_short\",\n",
    "            \"Product Name\": \"name\",\n",
    "            \"KARF Picker Description\": \"desc_karf\",\n",
    "        }\n",
    "    )\n",
    "    gtin_mapping[\"desc_long\"] = gtin_mapping.apply(\n",
    "        lambda x: str(x[\"desc_long\"]).replace(\"|\", \"\"), axis=1\n",
    "    )\n",
    "    gtin_mapping[\"desc_short\"] = gtin_mapping.apply(\n",
    "        lambda x: str(x[\"desc_short\"]).replace(\"|\", \"\"), axis=1\n",
    "    )\n",
    "    gtin_mapping[\"desc_karf\"] = gtin_mapping.apply(\n",
    "        lambda x: str(x[\"desc_karf\"]).replace(\"|\", \"\"), axis=1\n",
    "    )\n",
    "    gtin_mapping[\"name\"] = gtin_mapping.apply(\n",
    "        lambda x: str(x[\"name\"]).replace(\"|\", \"\"), axis=1\n",
    "    )\n",
    "    gtin_mapping[\"gtin\"] = gtin_mapping[\"gtin\"].apply(lambda x: str(x).zfill(14))\n",
    "    return gtin_mapping\n",
    "\n",
    "\n",
    "def create_dataframe(path, label_col):\n",
    "    loader = torchvision.datasets.ImageFolder(root=path)\n",
    "\n",
    "    df = pd.DataFrame(loader.imgs, columns=[\"img_path\", \"label\"])\n",
    "    df[\"gtin\"] = df.apply(lambda x: x[\"img_path\"].split(\"/\")[-2], axis=1)\n",
    "    df[\"gtin\"] = df[\"gtin\"].apply(lambda x: str(x).zfill(14))\n",
    "\n",
    "    gtin_mapping = get_mapping()\n",
    "\n",
    "    df = df.merge(gtin_mapping, left_on=[\"gtin\"], right_on=[\"gtin\"], how=\"left\")\n",
    "    # no_desc_gtin = df[df[\"name\"].isna()].gtin.unique()\n",
    "    # print(f\"Gtin's with no description: {no_desc_gtin}\")\n",
    "    # print(f\"Shape before removing gtin's{df.shape[0]}\")\n",
    "    # df = df[~df[\"gtin\"].isin(no_desc_gtin)]\n",
    "    # print(f\"Shape after removing gtin's{df.shape[0]}\")\n",
    "    # df = df[df[label_col].notna()]\n",
    "    # print(f\"Shape after removing na from product name column {df.shape[0]}\")\n",
    "    # key_list=[k for k in range(df.shape[0])]\n",
    "    # df[\"key\"]= key_list\n",
    "    return df\n",
    "\n",
    "\n",
    "label_col= \"name\"\n",
    "test_path= os.path.join('/home/jupyter/dvc-manual/gtin_60/data/prep/80gtin_allsubfolders/splitfolders/test')\n",
    "test_df=create_dataframe(test_path, label_col)\n",
    "\n",
    "enrollment_path= os.path.join(f'/home/jupyter/dvc-manual/gtin_60/data/prep/80gtin_allsubfolders/80gtin_ET/ET_size_{str(90)}')\n",
    "enrollment_df=create_dataframe(enrollment_path, label_col)\n",
    "\n",
    "# train_df.groupby([\"gtin\",\"desc_karf\",\"desc_long\",\"desc_short\",\"name\"]).count().reset_index().sort_values(by=\"img_path\",ascending=False).to_csv(\"80_gtin.csv\")"
   ]
  },
  {
   "cell_type": "code",
   "execution_count": 48,
   "id": "c627e2ee-a4da-4768-93ad-1d6b6a008517",
   "metadata": {},
   "outputs": [
    {
     "data": {
      "text/html": [
       "<div>\n",
       "<style scoped>\n",
       "    .dataframe tbody tr th:only-of-type {\n",
       "        vertical-align: middle;\n",
       "    }\n",
       "\n",
       "    .dataframe tbody tr th {\n",
       "        vertical-align: top;\n",
       "    }\n",
       "\n",
       "    .dataframe thead th {\n",
       "        text-align: right;\n",
       "    }\n",
       "</style>\n",
       "<table border=\"1\" class=\"dataframe\">\n",
       "  <thead>\n",
       "    <tr style=\"text-align: right;\">\n",
       "      <th></th>\n",
       "      <th>img_path</th>\n",
       "      <th>label</th>\n",
       "      <th>gtin</th>\n",
       "      <th>desc_karf</th>\n",
       "      <th>desc_long</th>\n",
       "      <th>desc_short</th>\n",
       "      <th>name</th>\n",
       "      <th>true_label_gtin</th>\n",
       "      <th>predicted_label_gtin</th>\n",
       "      <th>predicted_gtin_enroll_folder</th>\n",
       "    </tr>\n",
       "  </thead>\n",
       "  <tbody>\n",
       "    <tr>\n",
       "      <th>0</th>\n",
       "      <td>/home/jupyter/dvc-manual/gtin_60/data/prep/80g...</td>\n",
       "      <td>0</td>\n",
       "      <td>00009800800254</td>\n",
       "      <td>Nutella 33.5 oz</td>\n",
       "      <td>One  oz jar of delicious Nutella hazelnut spre...</td>\n",
       "      <td>The great taste of Nutella makes weekend break...</td>\n",
       "      <td>Nutella Chocolate Hazelnut Spread Perfect on P...</td>\n",
       "      <td>00009800800254</td>\n",
       "      <td>00009800800254</td>\n",
       "      <td>/home/jupyter/dvc-manual/gtin_60/data/prep/80g...</td>\n",
       "    </tr>\n",
       "    <tr>\n",
       "      <th>1</th>\n",
       "      <td>/home/jupyter/dvc-manual/gtin_60/data/prep/80g...</td>\n",
       "      <td>0</td>\n",
       "      <td>00009800800254</td>\n",
       "      <td>Nutella 33.5 oz</td>\n",
       "      <td>One  oz jar of delicious Nutella hazelnut spre...</td>\n",
       "      <td>The great taste of Nutella makes weekend break...</td>\n",
       "      <td>Nutella Chocolate Hazelnut Spread Perfect on P...</td>\n",
       "      <td>00009800800254</td>\n",
       "      <td>00009800800254</td>\n",
       "      <td>/home/jupyter/dvc-manual/gtin_60/data/prep/80g...</td>\n",
       "    </tr>\n",
       "    <tr>\n",
       "      <th>2</th>\n",
       "      <td>/home/jupyter/dvc-manual/gtin_60/data/prep/80g...</td>\n",
       "      <td>0</td>\n",
       "      <td>00009800800254</td>\n",
       "      <td>Nutella 33.5 oz</td>\n",
       "      <td>One  oz jar of delicious Nutella hazelnut spre...</td>\n",
       "      <td>The great taste of Nutella makes weekend break...</td>\n",
       "      <td>Nutella Chocolate Hazelnut Spread Perfect on P...</td>\n",
       "      <td>00009800800254</td>\n",
       "      <td>00009800800254</td>\n",
       "      <td>/home/jupyter/dvc-manual/gtin_60/data/prep/80g...</td>\n",
       "    </tr>\n",
       "    <tr>\n",
       "      <th>3</th>\n",
       "      <td>/home/jupyter/dvc-manual/gtin_60/data/prep/80g...</td>\n",
       "      <td>0</td>\n",
       "      <td>00009800800254</td>\n",
       "      <td>Nutella 33.5 oz</td>\n",
       "      <td>One  oz jar of delicious Nutella hazelnut spre...</td>\n",
       "      <td>The great taste of Nutella makes weekend break...</td>\n",
       "      <td>Nutella Chocolate Hazelnut Spread Perfect on P...</td>\n",
       "      <td>00009800800254</td>\n",
       "      <td>00009800800254</td>\n",
       "      <td>/home/jupyter/dvc-manual/gtin_60/data/prep/80g...</td>\n",
       "    </tr>\n",
       "    <tr>\n",
       "      <th>4</th>\n",
       "      <td>/home/jupyter/dvc-manual/gtin_60/data/prep/80g...</td>\n",
       "      <td>0</td>\n",
       "      <td>00009800800254</td>\n",
       "      <td>Nutella 33.5 oz</td>\n",
       "      <td>One  oz jar of delicious Nutella hazelnut spre...</td>\n",
       "      <td>The great taste of Nutella makes weekend break...</td>\n",
       "      <td>Nutella Chocolate Hazelnut Spread Perfect on P...</td>\n",
       "      <td>00009800800254</td>\n",
       "      <td>00009800800254</td>\n",
       "      <td>/home/jupyter/dvc-manual/gtin_60/data/prep/80g...</td>\n",
       "    </tr>\n",
       "  </tbody>\n",
       "</table>\n",
       "</div>"
      ],
      "text/plain": [
       "                                            img_path  label            gtin  \\\n",
       "0  /home/jupyter/dvc-manual/gtin_60/data/prep/80g...      0  00009800800254   \n",
       "1  /home/jupyter/dvc-manual/gtin_60/data/prep/80g...      0  00009800800254   \n",
       "2  /home/jupyter/dvc-manual/gtin_60/data/prep/80g...      0  00009800800254   \n",
       "3  /home/jupyter/dvc-manual/gtin_60/data/prep/80g...      0  00009800800254   \n",
       "4  /home/jupyter/dvc-manual/gtin_60/data/prep/80g...      0  00009800800254   \n",
       "\n",
       "         desc_karf                                          desc_long  \\\n",
       "0  Nutella 33.5 oz  One  oz jar of delicious Nutella hazelnut spre...   \n",
       "1  Nutella 33.5 oz  One  oz jar of delicious Nutella hazelnut spre...   \n",
       "2  Nutella 33.5 oz  One  oz jar of delicious Nutella hazelnut spre...   \n",
       "3  Nutella 33.5 oz  One  oz jar of delicious Nutella hazelnut spre...   \n",
       "4  Nutella 33.5 oz  One  oz jar of delicious Nutella hazelnut spre...   \n",
       "\n",
       "                                          desc_short  \\\n",
       "0  The great taste of Nutella makes weekend break...   \n",
       "1  The great taste of Nutella makes weekend break...   \n",
       "2  The great taste of Nutella makes weekend break...   \n",
       "3  The great taste of Nutella makes weekend break...   \n",
       "4  The great taste of Nutella makes weekend break...   \n",
       "\n",
       "                                                name true_label_gtin  \\\n",
       "0  Nutella Chocolate Hazelnut Spread Perfect on P...  00009800800254   \n",
       "1  Nutella Chocolate Hazelnut Spread Perfect on P...  00009800800254   \n",
       "2  Nutella Chocolate Hazelnut Spread Perfect on P...  00009800800254   \n",
       "3  Nutella Chocolate Hazelnut Spread Perfect on P...  00009800800254   \n",
       "4  Nutella Chocolate Hazelnut Spread Perfect on P...  00009800800254   \n",
       "\n",
       "  predicted_label_gtin                       predicted_gtin_enroll_folder  \n",
       "0       00009800800254  /home/jupyter/dvc-manual/gtin_60/data/prep/80g...  \n",
       "1       00009800800254  /home/jupyter/dvc-manual/gtin_60/data/prep/80g...  \n",
       "2       00009800800254  /home/jupyter/dvc-manual/gtin_60/data/prep/80g...  \n",
       "3       00009800800254  /home/jupyter/dvc-manual/gtin_60/data/prep/80g...  \n",
       "4       00009800800254  /home/jupyter/dvc-manual/gtin_60/data/prep/80g...  "
      ]
     },
     "execution_count": 48,
     "metadata": {},
     "output_type": "execute_result"
    }
   ],
   "source": [
    "test_df_full=pd.concat([test_df,pd.Series(true_labels,name=\"true_label_gtin\",),pd.Series(predictions,name=\"predicted_label_gtin\")],axis=1)\n",
    "test_df_full[\"true_label_gtin\"] = test_df_full[\"true_label_gtin\"].apply(lambda x: str(x).zfill(14))\n",
    "test_df_full[\"predicted_label_gtin\"] = test_df_full[\"predicted_label_gtin\"].apply(lambda x: str(x).zfill(14))\n",
    "enrollment_path= os.path.join(f'/home/jupyter/dvc-manual/gtin_60/data/prep/80gtin_allsubfolders/80gtin_ET/ET_size_{str(90)}')\n",
    "test_df_full[\"predicted_gtin_enroll_folder\"]=test_df_full.apply(lambda x:os.path.join(enrollment_path,x[\"predicted_label_gtin\"]),axis=1)"
   ]
  },
  {
   "cell_type": "code",
   "execution_count": 50,
   "id": "23790bb9-3026-4a1b-a00f-e79c1b766d2b",
   "metadata": {},
   "outputs": [],
   "source": [
    "test_df_full[\"is_correct\"]=test_df_full.apply(lambda x: True if x[\"true_label_gtin\"]==x[\"predicted_label_gtin\"] else False,axis=1)\n",
    "misclassifications=test_df_full[test_df_full[\"is_correct\"]==False]"
   ]
  },
  {
   "cell_type": "code",
   "execution_count": 61,
   "id": "bf5d0520-4b6f-4732-bfec-46f0f9f3e5c2",
   "metadata": {},
   "outputs": [
    {
     "name": "stderr",
     "output_type": "stream",
     "text": [
      "/opt/conda/lib/python3.7/site-packages/ipykernel_launcher.py:1: DtypeWarning: Columns (0,27,49,73,144,166,182,193,231,243,270,276,327,328,330,345,390,393,400,402,404,406,423,426,427,438,445,446,452,459,460,466,469,483,488,489,490,491,493,494,498,500,501,502,503,505,507,509,510,511,513,519,528,534,537,546,575,580,586,591,594,605,614,619,621,627,629,630,639,640,641,642,660,661,663,666,667,672,676,684,685,687,689,694,697,699,700,701,705,706,707,710,712,713,715,717,719,724,726,730,732,733,736,737,740,741,743,744,745,746,748,750,752,753,755,756,760,761,762,763,765,767,770,771,772,778,780,781,782,783,785,788,793,794,796,797,798,799,800,804,805,806,807,808,809,811,814,815,816,817,818,819,820,821,822,823,824,825,826,827,828,829,832,833,834,835,836,837,838,839,840,841,842,844,845,846,848,849,850,852,853,854,855,856,857,858,859,860,861,862,863,864,865,866,868,869,870,871,872,874,877,881,882,885,889,891,892,907,908,911,916,917,923,924,931,933,934,949,951,957,958,965,967,968,970,973,974,978,984,986,987,994,1003,1007,1008,1009,1010,1011,1012,1013,1014,1015,1016,1020,1024,1028,1029,1030,1031,1032,1033,1034,1035,1036,1037,1038,1039,1040,1047,1050,1051,1055,1057,1058,1059,1061,1064,1065,1067,1071,1074,1079,1080,1085,1092,1093,1109,1110,1113,1114,1123,1135,1136,1140,1143,1145,1147,1153,1154,1155,1156,1157,1159,1169,1170,1172,1175,1179,1180,1182,1184,1187,1190,1191,1223,1224,1227,1230,1233,1235,1236,1239,1240,1242,1247,1248,1260,1261,1269,1271,1276,1277,1278,1279,1280,1281,1282,1283,1284,1285,1286,1287,1288,1289,1291,1292,1293,1294,1297,1298,1300,1301,1302,1303,1304,1305,1307,1308,1310,1311,1312,1313,1314,1315,1316,1317,1318,1319,1320,1321,1324,1325,1326,1327,1328,1331,1332,1333,1334,1335,1336,1337,1338,1339,1340,1341,1342,1343,1344,1345,1346,1347,1348,1349,1350,1351,1352,1354,1355,1356,1357,1358,1361,1362,1363,1364,1365,1366,1367,1368,1369,1370,1371,1372,1373,1374,1375,1376,1377,1378,1379,1382,1383,1384,1385,1386,1387,1388,1389,1390,1391,1392,1393,1394,1395,1396,1397,1398,1399,1400,1401,1402,1403,1404,1406,1407,1408,1409,1410,1411,1412,1413,1414) have mixed types.Specify dtype option on import or set low_memory=False.\n",
      "  \"\"\"Entry point for launching an IPython kernel.\n"
     ]
    },
    {
     "data": {
      "text/html": [
       "<div>\n",
       "<style scoped>\n",
       "    .dataframe tbody tr th:only-of-type {\n",
       "        vertical-align: middle;\n",
       "    }\n",
       "\n",
       "    .dataframe tbody tr th {\n",
       "        vertical-align: top;\n",
       "    }\n",
       "\n",
       "    .dataframe thead th {\n",
       "        text-align: right;\n",
       "    }\n",
       "</style>\n",
       "<table border=\"1\" class=\"dataframe\">\n",
       "  <thead>\n",
       "    <tr style=\"text-align: right;\">\n",
       "      <th></th>\n",
       "      <th>img_path</th>\n",
       "      <th>label</th>\n",
       "      <th>gtin_x</th>\n",
       "      <th>desc_karf</th>\n",
       "      <th>desc_long</th>\n",
       "      <th>desc_short</th>\n",
       "      <th>name_x</th>\n",
       "      <th>true_label_gtin</th>\n",
       "      <th>predicted_label_gtin</th>\n",
       "      <th>predicted_gtin_enroll_folder</th>\n",
       "      <th>is_correct</th>\n",
       "      <th>name_y</th>\n",
       "      <th>gtin_y</th>\n",
       "      <th>name_predictions</th>\n",
       "      <th>gtin_predictions</th>\n",
       "    </tr>\n",
       "  </thead>\n",
       "  <tbody>\n",
       "    <tr>\n",
       "      <th>0</th>\n",
       "      <td>/home/jupyter/dvc-manual/gtin_60/data/prep/80g...</td>\n",
       "      <td>0</td>\n",
       "      <td>00009800800254</td>\n",
       "      <td>Nutella 33.5 oz</td>\n",
       "      <td>One  oz jar of delicious Nutella hazelnut spre...</td>\n",
       "      <td>The great taste of Nutella makes weekend break...</td>\n",
       "      <td>Nutella Chocolate Hazelnut Spread Perfect on P...</td>\n",
       "      <td>00009800800254</td>\n",
       "      <td>00078742127071</td>\n",
       "      <td>/home/jupyter/dvc-manual/gtin_60/data/prep/80g...</td>\n",
       "      <td>False</td>\n",
       "      <td>Great Value Large White Eggs  Count</td>\n",
       "      <td>00078742127071</td>\n",
       "      <td>Great Value Large White Eggs  Count</td>\n",
       "      <td>00078742127071</td>\n",
       "    </tr>\n",
       "    <tr>\n",
       "      <th>1</th>\n",
       "      <td>/home/jupyter/dvc-manual/gtin_60/data/prep/80g...</td>\n",
       "      <td>1</td>\n",
       "      <td>00010900003308</td>\n",
       "      <td>Reynolds CutRite Wax Paper 75sf</td>\n",
       "      <td>Microwave SafeNon-StickEasy CleanupResponsibly...</td>\n",
       "      <td>Reynolds Cut-Rite Wax Paper is useful for ever...</td>\n",
       "      <td>Reynolds Cut-Rite Wax Paper</td>\n",
       "      <td>00010900003308</td>\n",
       "      <td>00012000504051</td>\n",
       "      <td>/home/jupyter/dvc-manual/gtin_60/data/prep/80g...</td>\n",
       "      <td>False</td>\n",
       "      <td>Pepsi Cola Soda Pop  oz  Pack Bottles</td>\n",
       "      <td>00012000504051</td>\n",
       "      <td>Pepsi Cola Soda Pop  oz  Pack Bottles</td>\n",
       "      <td>00012000504051</td>\n",
       "    </tr>\n",
       "    <tr>\n",
       "      <th>2</th>\n",
       "      <td>/home/jupyter/dvc-manual/gtin_60/data/prep/80g...</td>\n",
       "      <td>1</td>\n",
       "      <td>00010900003308</td>\n",
       "      <td>Reynolds CutRite Wax Paper 75sf</td>\n",
       "      <td>Microwave SafeNon-StickEasy CleanupResponsibly...</td>\n",
       "      <td>Reynolds Cut-Rite Wax Paper is useful for ever...</td>\n",
       "      <td>Reynolds Cut-Rite Wax Paper</td>\n",
       "      <td>00010900003308</td>\n",
       "      <td>00012587000229</td>\n",
       "      <td>/home/jupyter/dvc-manual/gtin_60/data/prep/80g...</td>\n",
       "      <td>False</td>\n",
       "      <td>Glad Cling N Seal Plastic Food Wrap  Square Fo...</td>\n",
       "      <td>00012587000229</td>\n",
       "      <td>Glad Cling N Seal Plastic Food Wrap  Square Fo...</td>\n",
       "      <td>00012587000229</td>\n",
       "    </tr>\n",
       "    <tr>\n",
       "      <th>3</th>\n",
       "      <td>/home/jupyter/dvc-manual/gtin_60/data/prep/80g...</td>\n",
       "      <td>1</td>\n",
       "      <td>00010900003308</td>\n",
       "      <td>Reynolds CutRite Wax Paper 75sf</td>\n",
       "      <td>Microwave SafeNon-StickEasy CleanupResponsibly...</td>\n",
       "      <td>Reynolds Cut-Rite Wax Paper is useful for ever...</td>\n",
       "      <td>Reynolds Cut-Rite Wax Paper</td>\n",
       "      <td>00010900003308</td>\n",
       "      <td>00016000409811</td>\n",
       "      <td>/home/jupyter/dvc-manual/gtin_60/data/prep/80g...</td>\n",
       "      <td>False</td>\n",
       "      <td>Betty Crocker Super Moist White Cake Mix  oz</td>\n",
       "      <td>00016000409811</td>\n",
       "      <td>Betty Crocker Super Moist White Cake Mix  oz</td>\n",
       "      <td>00016000409811</td>\n",
       "    </tr>\n",
       "    <tr>\n",
       "      <th>4</th>\n",
       "      <td>/home/jupyter/dvc-manual/gtin_60/data/prep/80g...</td>\n",
       "      <td>1</td>\n",
       "      <td>00010900003308</td>\n",
       "      <td>Reynolds CutRite Wax Paper 75sf</td>\n",
       "      <td>Microwave SafeNon-StickEasy CleanupResponsibly...</td>\n",
       "      <td>Reynolds Cut-Rite Wax Paper is useful for ever...</td>\n",
       "      <td>Reynolds Cut-Rite Wax Paper</td>\n",
       "      <td>00010900003308</td>\n",
       "      <td>00012587000229</td>\n",
       "      <td>/home/jupyter/dvc-manual/gtin_60/data/prep/80g...</td>\n",
       "      <td>False</td>\n",
       "      <td>Glad Cling N Seal Plastic Food Wrap  Square Fo...</td>\n",
       "      <td>00012587000229</td>\n",
       "      <td>Glad Cling N Seal Plastic Food Wrap  Square Fo...</td>\n",
       "      <td>00012587000229</td>\n",
       "    </tr>\n",
       "  </tbody>\n",
       "</table>\n",
       "</div>"
      ],
      "text/plain": [
       "                                            img_path  label          gtin_x  \\\n",
       "0  /home/jupyter/dvc-manual/gtin_60/data/prep/80g...      0  00009800800254   \n",
       "1  /home/jupyter/dvc-manual/gtin_60/data/prep/80g...      1  00010900003308   \n",
       "2  /home/jupyter/dvc-manual/gtin_60/data/prep/80g...      1  00010900003308   \n",
       "3  /home/jupyter/dvc-manual/gtin_60/data/prep/80g...      1  00010900003308   \n",
       "4  /home/jupyter/dvc-manual/gtin_60/data/prep/80g...      1  00010900003308   \n",
       "\n",
       "                         desc_karf  \\\n",
       "0                  Nutella 33.5 oz   \n",
       "1  Reynolds CutRite Wax Paper 75sf   \n",
       "2  Reynolds CutRite Wax Paper 75sf   \n",
       "3  Reynolds CutRite Wax Paper 75sf   \n",
       "4  Reynolds CutRite Wax Paper 75sf   \n",
       "\n",
       "                                           desc_long  \\\n",
       "0  One  oz jar of delicious Nutella hazelnut spre...   \n",
       "1  Microwave SafeNon-StickEasy CleanupResponsibly...   \n",
       "2  Microwave SafeNon-StickEasy CleanupResponsibly...   \n",
       "3  Microwave SafeNon-StickEasy CleanupResponsibly...   \n",
       "4  Microwave SafeNon-StickEasy CleanupResponsibly...   \n",
       "\n",
       "                                          desc_short  \\\n",
       "0  The great taste of Nutella makes weekend break...   \n",
       "1  Reynolds Cut-Rite Wax Paper is useful for ever...   \n",
       "2  Reynolds Cut-Rite Wax Paper is useful for ever...   \n",
       "3  Reynolds Cut-Rite Wax Paper is useful for ever...   \n",
       "4  Reynolds Cut-Rite Wax Paper is useful for ever...   \n",
       "\n",
       "                                              name_x true_label_gtin  \\\n",
       "0  Nutella Chocolate Hazelnut Spread Perfect on P...  00009800800254   \n",
       "1                        Reynolds Cut-Rite Wax Paper  00010900003308   \n",
       "2                        Reynolds Cut-Rite Wax Paper  00010900003308   \n",
       "3                        Reynolds Cut-Rite Wax Paper  00010900003308   \n",
       "4                        Reynolds Cut-Rite Wax Paper  00010900003308   \n",
       "\n",
       "  predicted_label_gtin                       predicted_gtin_enroll_folder  \\\n",
       "0       00078742127071  /home/jupyter/dvc-manual/gtin_60/data/prep/80g...   \n",
       "1       00012000504051  /home/jupyter/dvc-manual/gtin_60/data/prep/80g...   \n",
       "2       00012587000229  /home/jupyter/dvc-manual/gtin_60/data/prep/80g...   \n",
       "3       00016000409811  /home/jupyter/dvc-manual/gtin_60/data/prep/80g...   \n",
       "4       00012587000229  /home/jupyter/dvc-manual/gtin_60/data/prep/80g...   \n",
       "\n",
       "   is_correct                                             name_y  \\\n",
       "0       False                Great Value Large White Eggs  Count   \n",
       "1       False              Pepsi Cola Soda Pop  oz  Pack Bottles   \n",
       "2       False  Glad Cling N Seal Plastic Food Wrap  Square Fo...   \n",
       "3       False       Betty Crocker Super Moist White Cake Mix  oz   \n",
       "4       False  Glad Cling N Seal Plastic Food Wrap  Square Fo...   \n",
       "\n",
       "           gtin_y                                   name_predictions  \\\n",
       "0  00078742127071                Great Value Large White Eggs  Count   \n",
       "1  00012000504051              Pepsi Cola Soda Pop  oz  Pack Bottles   \n",
       "2  00012587000229  Glad Cling N Seal Plastic Food Wrap  Square Fo...   \n",
       "3  00016000409811       Betty Crocker Super Moist White Cake Mix  oz   \n",
       "4  00012587000229  Glad Cling N Seal Plastic Food Wrap  Square Fo...   \n",
       "\n",
       "  gtin_predictions  \n",
       "0   00078742127071  \n",
       "1   00012000504051  \n",
       "2   00012587000229  \n",
       "3   00016000409811  \n",
       "4   00012587000229  "
      ]
     },
     "execution_count": 61,
     "metadata": {},
     "output_type": "execute_result"
    }
   ],
   "source": [
    "gtin_mapping = get_mapping()\n",
    "misclassifications = misclassifications.merge(gtin_mapping.loc[:,[\"name\",\"gtin\"]].add_suffix('_predictions'), left_on=[\"predicted_label_gtin\"], right_on=[\"gtin_predictions\"], how=\"left\")\n",
    "misclassifications.head()"
   ]
  },
  {
   "cell_type": "code",
   "execution_count": 53,
   "id": "c9f35a6a-543e-4bce-bf83-3a55280dd5d2",
   "metadata": {},
   "outputs": [
    {
     "data": {
      "text/html": [
       "<div>\n",
       "<style scoped>\n",
       "    .dataframe tbody tr th:only-of-type {\n",
       "        vertical-align: middle;\n",
       "    }\n",
       "\n",
       "    .dataframe tbody tr th {\n",
       "        vertical-align: top;\n",
       "    }\n",
       "\n",
       "    .dataframe thead th {\n",
       "        text-align: right;\n",
       "    }\n",
       "</style>\n",
       "<table border=\"1\" class=\"dataframe\">\n",
       "  <thead>\n",
       "    <tr style=\"text-align: right;\">\n",
       "      <th></th>\n",
       "      <th>img_path</th>\n",
       "      <th>label</th>\n",
       "      <th>gtin</th>\n",
       "      <th>desc_karf</th>\n",
       "      <th>desc_long</th>\n",
       "      <th>desc_short</th>\n",
       "      <th>name</th>\n",
       "      <th>true_label_gtin</th>\n",
       "      <th>predicted_label_gtin</th>\n",
       "      <th>predicted_gtin_enroll_folder</th>\n",
       "      <th>is_correct</th>\n",
       "    </tr>\n",
       "  </thead>\n",
       "  <tbody>\n",
       "    <tr>\n",
       "      <th>38</th>\n",
       "      <td>/home/jupyter/dvc-manual/gtin_60/data/prep/80g...</td>\n",
       "      <td>0</td>\n",
       "      <td>00009800800254</td>\n",
       "      <td>Nutella 33.5 oz</td>\n",
       "      <td>One  oz jar of delicious Nutella hazelnut spre...</td>\n",
       "      <td>The great taste of Nutella makes weekend break...</td>\n",
       "      <td>Nutella Chocolate Hazelnut Spread Perfect on P...</td>\n",
       "      <td>00009800800254</td>\n",
       "      <td>00078742127071</td>\n",
       "      <td>/home/jupyter/dvc-manual/gtin_60/data/prep/80g...</td>\n",
       "      <td>False</td>\n",
       "    </tr>\n",
       "    <tr>\n",
       "      <th>41</th>\n",
       "      <td>/home/jupyter/dvc-manual/gtin_60/data/prep/80g...</td>\n",
       "      <td>1</td>\n",
       "      <td>00010900003308</td>\n",
       "      <td>Reynolds CutRite Wax Paper 75sf</td>\n",
       "      <td>Microwave SafeNon-StickEasy CleanupResponsibly...</td>\n",
       "      <td>Reynolds Cut-Rite Wax Paper is useful for ever...</td>\n",
       "      <td>Reynolds Cut-Rite Wax Paper</td>\n",
       "      <td>00010900003308</td>\n",
       "      <td>00012000504051</td>\n",
       "      <td>/home/jupyter/dvc-manual/gtin_60/data/prep/80g...</td>\n",
       "      <td>False</td>\n",
       "    </tr>\n",
       "    <tr>\n",
       "      <th>47</th>\n",
       "      <td>/home/jupyter/dvc-manual/gtin_60/data/prep/80g...</td>\n",
       "      <td>1</td>\n",
       "      <td>00010900003308</td>\n",
       "      <td>Reynolds CutRite Wax Paper 75sf</td>\n",
       "      <td>Microwave SafeNon-StickEasy CleanupResponsibly...</td>\n",
       "      <td>Reynolds Cut-Rite Wax Paper is useful for ever...</td>\n",
       "      <td>Reynolds Cut-Rite Wax Paper</td>\n",
       "      <td>00010900003308</td>\n",
       "      <td>00012587000229</td>\n",
       "      <td>/home/jupyter/dvc-manual/gtin_60/data/prep/80g...</td>\n",
       "      <td>False</td>\n",
       "    </tr>\n",
       "    <tr>\n",
       "      <th>49</th>\n",
       "      <td>/home/jupyter/dvc-manual/gtin_60/data/prep/80g...</td>\n",
       "      <td>1</td>\n",
       "      <td>00010900003308</td>\n",
       "      <td>Reynolds CutRite Wax Paper 75sf</td>\n",
       "      <td>Microwave SafeNon-StickEasy CleanupResponsibly...</td>\n",
       "      <td>Reynolds Cut-Rite Wax Paper is useful for ever...</td>\n",
       "      <td>Reynolds Cut-Rite Wax Paper</td>\n",
       "      <td>00010900003308</td>\n",
       "      <td>00016000409811</td>\n",
       "      <td>/home/jupyter/dvc-manual/gtin_60/data/prep/80g...</td>\n",
       "      <td>False</td>\n",
       "    </tr>\n",
       "    <tr>\n",
       "      <th>65</th>\n",
       "      <td>/home/jupyter/dvc-manual/gtin_60/data/prep/80g...</td>\n",
       "      <td>1</td>\n",
       "      <td>00010900003308</td>\n",
       "      <td>Reynolds CutRite Wax Paper 75sf</td>\n",
       "      <td>Microwave SafeNon-StickEasy CleanupResponsibly...</td>\n",
       "      <td>Reynolds Cut-Rite Wax Paper is useful for ever...</td>\n",
       "      <td>Reynolds Cut-Rite Wax Paper</td>\n",
       "      <td>00010900003308</td>\n",
       "      <td>00012587000229</td>\n",
       "      <td>/home/jupyter/dvc-manual/gtin_60/data/prep/80g...</td>\n",
       "      <td>False</td>\n",
       "    </tr>\n",
       "    <tr>\n",
       "      <th>...</th>\n",
       "      <td>...</td>\n",
       "      <td>...</td>\n",
       "      <td>...</td>\n",
       "      <td>...</td>\n",
       "      <td>...</td>\n",
       "      <td>...</td>\n",
       "      <td>...</td>\n",
       "      <td>...</td>\n",
       "      <td>...</td>\n",
       "      <td>...</td>\n",
       "      <td>...</td>\n",
       "    </tr>\n",
       "    <tr>\n",
       "      <th>10649</th>\n",
       "      <td>/home/jupyter/dvc-manual/gtin_60/data/prep/80g...</td>\n",
       "      <td>74</td>\n",
       "      <td>00781138710183</td>\n",
       "      <td>On The Brdr Cafe Styl Tortlla Chp 18oz</td>\n",
       "      <td>On The Border Cafe Style Tortilla Chips  oz:On...</td>\n",
       "      <td>Bring a traditional Mexican taste to your snac...</td>\n",
       "      <td>On The Border Cafe Style Tortilla Chips  Oz.</td>\n",
       "      <td>00781138710183</td>\n",
       "      <td>00028400589895</td>\n",
       "      <td>/home/jupyter/dvc-manual/gtin_60/data/prep/80g...</td>\n",
       "      <td>False</td>\n",
       "    </tr>\n",
       "    <tr>\n",
       "      <th>10650</th>\n",
       "      <td>/home/jupyter/dvc-manual/gtin_60/data/prep/80g...</td>\n",
       "      <td>74</td>\n",
       "      <td>00781138710183</td>\n",
       "      <td>On The Brdr Cafe Styl Tortlla Chp 18oz</td>\n",
       "      <td>On The Border Cafe Style Tortilla Chips  oz:On...</td>\n",
       "      <td>Bring a traditional Mexican taste to your snac...</td>\n",
       "      <td>On The Border Cafe Style Tortilla Chips  Oz.</td>\n",
       "      <td>00781138710183</td>\n",
       "      <td>00028400589895</td>\n",
       "      <td>/home/jupyter/dvc-manual/gtin_60/data/prep/80g...</td>\n",
       "      <td>False</td>\n",
       "    </tr>\n",
       "    <tr>\n",
       "      <th>10652</th>\n",
       "      <td>/home/jupyter/dvc-manual/gtin_60/data/prep/80g...</td>\n",
       "      <td>74</td>\n",
       "      <td>00781138710183</td>\n",
       "      <td>On The Brdr Cafe Styl Tortlla Chp 18oz</td>\n",
       "      <td>On The Border Cafe Style Tortilla Chips  oz:On...</td>\n",
       "      <td>Bring a traditional Mexican taste to your snac...</td>\n",
       "      <td>On The Border Cafe Style Tortilla Chips  Oz.</td>\n",
       "      <td>00781138710183</td>\n",
       "      <td>00028400589895</td>\n",
       "      <td>/home/jupyter/dvc-manual/gtin_60/data/prep/80g...</td>\n",
       "      <td>False</td>\n",
       "    </tr>\n",
       "    <tr>\n",
       "      <th>10658</th>\n",
       "      <td>/home/jupyter/dvc-manual/gtin_60/data/prep/80g...</td>\n",
       "      <td>74</td>\n",
       "      <td>00781138710183</td>\n",
       "      <td>On The Brdr Cafe Styl Tortlla Chp 18oz</td>\n",
       "      <td>On The Border Cafe Style Tortilla Chips  oz:On...</td>\n",
       "      <td>Bring a traditional Mexican taste to your snac...</td>\n",
       "      <td>On The Border Cafe Style Tortilla Chips  Oz.</td>\n",
       "      <td>00781138710183</td>\n",
       "      <td>00016000124790</td>\n",
       "      <td>/home/jupyter/dvc-manual/gtin_60/data/prep/80g...</td>\n",
       "      <td>False</td>\n",
       "    </tr>\n",
       "    <tr>\n",
       "      <th>10659</th>\n",
       "      <td>/home/jupyter/dvc-manual/gtin_60/data/prep/80g...</td>\n",
       "      <td>74</td>\n",
       "      <td>00781138710183</td>\n",
       "      <td>On The Brdr Cafe Styl Tortlla Chp 18oz</td>\n",
       "      <td>On The Border Cafe Style Tortilla Chips  oz:On...</td>\n",
       "      <td>Bring a traditional Mexican taste to your snac...</td>\n",
       "      <td>On The Border Cafe Style Tortilla Chips  Oz.</td>\n",
       "      <td>00781138710183</td>\n",
       "      <td>00028400589895</td>\n",
       "      <td>/home/jupyter/dvc-manual/gtin_60/data/prep/80g...</td>\n",
       "      <td>False</td>\n",
       "    </tr>\n",
       "  </tbody>\n",
       "</table>\n",
       "<p>805 rows × 11 columns</p>\n",
       "</div>"
      ],
      "text/plain": [
       "                                                img_path  label  \\\n",
       "38     /home/jupyter/dvc-manual/gtin_60/data/prep/80g...      0   \n",
       "41     /home/jupyter/dvc-manual/gtin_60/data/prep/80g...      1   \n",
       "47     /home/jupyter/dvc-manual/gtin_60/data/prep/80g...      1   \n",
       "49     /home/jupyter/dvc-manual/gtin_60/data/prep/80g...      1   \n",
       "65     /home/jupyter/dvc-manual/gtin_60/data/prep/80g...      1   \n",
       "...                                                  ...    ...   \n",
       "10649  /home/jupyter/dvc-manual/gtin_60/data/prep/80g...     74   \n",
       "10650  /home/jupyter/dvc-manual/gtin_60/data/prep/80g...     74   \n",
       "10652  /home/jupyter/dvc-manual/gtin_60/data/prep/80g...     74   \n",
       "10658  /home/jupyter/dvc-manual/gtin_60/data/prep/80g...     74   \n",
       "10659  /home/jupyter/dvc-manual/gtin_60/data/prep/80g...     74   \n",
       "\n",
       "                 gtin                               desc_karf  \\\n",
       "38     00009800800254                         Nutella 33.5 oz   \n",
       "41     00010900003308         Reynolds CutRite Wax Paper 75sf   \n",
       "47     00010900003308         Reynolds CutRite Wax Paper 75sf   \n",
       "49     00010900003308         Reynolds CutRite Wax Paper 75sf   \n",
       "65     00010900003308         Reynolds CutRite Wax Paper 75sf   \n",
       "...               ...                                     ...   \n",
       "10649  00781138710183  On The Brdr Cafe Styl Tortlla Chp 18oz   \n",
       "10650  00781138710183  On The Brdr Cafe Styl Tortlla Chp 18oz   \n",
       "10652  00781138710183  On The Brdr Cafe Styl Tortlla Chp 18oz   \n",
       "10658  00781138710183  On The Brdr Cafe Styl Tortlla Chp 18oz   \n",
       "10659  00781138710183  On The Brdr Cafe Styl Tortlla Chp 18oz   \n",
       "\n",
       "                                               desc_long  \\\n",
       "38     One  oz jar of delicious Nutella hazelnut spre...   \n",
       "41     Microwave SafeNon-StickEasy CleanupResponsibly...   \n",
       "47     Microwave SafeNon-StickEasy CleanupResponsibly...   \n",
       "49     Microwave SafeNon-StickEasy CleanupResponsibly...   \n",
       "65     Microwave SafeNon-StickEasy CleanupResponsibly...   \n",
       "...                                                  ...   \n",
       "10649  On The Border Cafe Style Tortilla Chips  oz:On...   \n",
       "10650  On The Border Cafe Style Tortilla Chips  oz:On...   \n",
       "10652  On The Border Cafe Style Tortilla Chips  oz:On...   \n",
       "10658  On The Border Cafe Style Tortilla Chips  oz:On...   \n",
       "10659  On The Border Cafe Style Tortilla Chips  oz:On...   \n",
       "\n",
       "                                              desc_short  \\\n",
       "38     The great taste of Nutella makes weekend break...   \n",
       "41     Reynolds Cut-Rite Wax Paper is useful for ever...   \n",
       "47     Reynolds Cut-Rite Wax Paper is useful for ever...   \n",
       "49     Reynolds Cut-Rite Wax Paper is useful for ever...   \n",
       "65     Reynolds Cut-Rite Wax Paper is useful for ever...   \n",
       "...                                                  ...   \n",
       "10649  Bring a traditional Mexican taste to your snac...   \n",
       "10650  Bring a traditional Mexican taste to your snac...   \n",
       "10652  Bring a traditional Mexican taste to your snac...   \n",
       "10658  Bring a traditional Mexican taste to your snac...   \n",
       "10659  Bring a traditional Mexican taste to your snac...   \n",
       "\n",
       "                                                    name true_label_gtin  \\\n",
       "38     Nutella Chocolate Hazelnut Spread Perfect on P...  00009800800254   \n",
       "41                           Reynolds Cut-Rite Wax Paper  00010900003308   \n",
       "47                           Reynolds Cut-Rite Wax Paper  00010900003308   \n",
       "49                           Reynolds Cut-Rite Wax Paper  00010900003308   \n",
       "65                           Reynolds Cut-Rite Wax Paper  00010900003308   \n",
       "...                                                  ...             ...   \n",
       "10649       On The Border Cafe Style Tortilla Chips  Oz.  00781138710183   \n",
       "10650       On The Border Cafe Style Tortilla Chips  Oz.  00781138710183   \n",
       "10652       On The Border Cafe Style Tortilla Chips  Oz.  00781138710183   \n",
       "10658       On The Border Cafe Style Tortilla Chips  Oz.  00781138710183   \n",
       "10659       On The Border Cafe Style Tortilla Chips  Oz.  00781138710183   \n",
       "\n",
       "      predicted_label_gtin                       predicted_gtin_enroll_folder  \\\n",
       "38          00078742127071  /home/jupyter/dvc-manual/gtin_60/data/prep/80g...   \n",
       "41          00012000504051  /home/jupyter/dvc-manual/gtin_60/data/prep/80g...   \n",
       "47          00012587000229  /home/jupyter/dvc-manual/gtin_60/data/prep/80g...   \n",
       "49          00016000409811  /home/jupyter/dvc-manual/gtin_60/data/prep/80g...   \n",
       "65          00012587000229  /home/jupyter/dvc-manual/gtin_60/data/prep/80g...   \n",
       "...                    ...                                                ...   \n",
       "10649       00028400589895  /home/jupyter/dvc-manual/gtin_60/data/prep/80g...   \n",
       "10650       00028400589895  /home/jupyter/dvc-manual/gtin_60/data/prep/80g...   \n",
       "10652       00028400589895  /home/jupyter/dvc-manual/gtin_60/data/prep/80g...   \n",
       "10658       00016000124790  /home/jupyter/dvc-manual/gtin_60/data/prep/80g...   \n",
       "10659       00028400589895  /home/jupyter/dvc-manual/gtin_60/data/prep/80g...   \n",
       "\n",
       "       is_correct  \n",
       "38          False  \n",
       "41          False  \n",
       "47          False  \n",
       "49          False  \n",
       "65          False  \n",
       "...           ...  \n",
       "10649       False  \n",
       "10650       False  \n",
       "10652       False  \n",
       "10658       False  \n",
       "10659       False  \n",
       "\n",
       "[805 rows x 11 columns]"
      ]
     },
     "execution_count": 53,
     "metadata": {},
     "output_type": "execute_result"
    }
   ],
   "source": []
  },
  {
   "cell_type": "code",
   "execution_count": 2,
   "id": "064bfee2-c4ae-467e-aeb7-cf9745747433",
   "metadata": {},
   "outputs": [],
   "source": [
    "import plotly.graph_objects as go\n",
    "from plotly.subplots import make_subplots\n",
    "import pandas as pd\n",
    "import matplotlib.pyplot as plt\n",
    "import plotly.express as px\n",
    "\n",
    "\n",
    "fig = make_subplots(\n",
    "        rows=1,\n",
    "        cols=1,\n",
    "        shared_yaxes=True,\n",
    "        vertical_spacing=0.01,\n",
    "        horizontal_spacing=0.01,\n",
    "        #row_heights=[0.5, 0.5],\n",
    "        subplot_titles=(\"Metric: Angular\", \"Metric: Euclidean\")\n",
    "    )\n",
    "\n",
    "plt_df1=metric_agg.copy()\n",
    "\n",
    "\n",
    "\n",
    "fig.add_trace(\n",
    "        go.Scatter(\n",
    "            x=plt_df1.enrollment_batch_size, y=plt_df1[\"accuracy\"],mode=\"markers+text\",name=\"accuracy\",legendgroup ='accuracy'# , line=dict(color=\"blue\", width=2)\n",
    "        ),\n",
    "        row=1,\n",
    "        col=1,\n",
    "    )\n",
    "fig.add_trace(\n",
    "        go.Scatter(\n",
    "            x=plt_df1.enrollment_batch_size, y=plt_df1[\"precision\"],mode=\"markers+text\",name='precision',legendgroup ='precision'# , line=dict(color=\"blue\", width=2)\n",
    "        ),\n",
    "        row=1,\n",
    "        col=1,\n",
    "    )\n",
    "\n",
    "fig.add_trace(\n",
    "        go.Scatter(\n",
    "            x=plt_df1.enrollment_batch_size, y=plt_df1[\"fbeta_score\"],mode=\"markers+text\",name='fbeta_score',legendgroup ='fbeta_score'# , line=dict(color=\"blue\", width=2)\n",
    "        ),\n",
    "        row=1,\n",
    "        col=1,\n",
    "    )\n",
    "\n",
    "fig.add_trace(\n",
    "        go.Scatter(\n",
    "            x=plt_df1.enrollment_batch_size, y=plt_df1[\"recall\"],mode=\"markers+text\",name='recall',legendgroup ='recall'# , line=dict(color=\"blue\", width=2)\n",
    "        ),\n",
    "        row=1,\n",
    "        col=1,\n",
    "    )\n",
    "\n",
    "\n",
    "# fig.layout.annotations[1].update(text=\"Metric=Angular\")\n",
    "fig.update_xaxes(title_text=\"Enrollment Size\", row=1, col=1, title_font_size=10)\n",
    "# fig.update_yaxes(title_text=\"Metrics in %\", row=1, col=2, title_font_size=10)\n",
    "# fig.update_yaxes(title_text=\"Metrics in %\", row=1, col=2, title_font_size=10)\n",
    "\n",
    "fig.update_layout(\n",
    "        height=800,\n",
    "        width=1400,\n",
    "        # xaxis_rangeslider_visible=False,\n",
    "        xaxis_rangebreaks=[dict(values=[x for x in range(30,150,10)])]\n",
    "    )\n",
    "\n",
    "fig.show()"
   ]
  },
  {
   "cell_type": "code",
   "execution_count": 34,
   "id": "bde2ab9c-c1f4-42b5-88ca-24816531e319",
   "metadata": {},
   "outputs": [
    {
     "name": "stdout",
     "output_type": "stream",
     "text": [
      "Accuracy = 97.403\n"
     ]
    }
   ],
   "source": [
    "# Evaluate using the logistic regression classifier\n",
    "predictions = classifier.predict(test_features)\n",
    "accuracy = np.mean((test_labels == predictions).astype(np.float)) * 100.\n",
    "print(f\"Accuracy = {accuracy:.3f}\")"
   ]
  },
  {
   "cell_type": "code",
   "execution_count": 99,
   "id": "abf9142e-722b-4095-9be5-59e87dcf7478",
   "metadata": {},
   "outputs": [
    {
     "name": "stdout",
     "output_type": "stream",
     "text": [
      "              precision    recall  f1-score   support\n",
      "\n",
      "           0       1.00      0.98      0.99        44\n",
      "           1       0.92      0.96      0.94       111\n",
      "           2       0.99      0.99      0.99       142\n",
      "           3       0.94      1.00      0.97        46\n",
      "           4       0.96      0.96      0.96       120\n",
      "           5       1.00      1.00      1.00       125\n",
      "           6       0.99      0.98      0.98        99\n",
      "           7       0.97      0.94      0.96       119\n",
      "           8       0.95      0.99      0.97       103\n",
      "           9       0.99      0.99      0.99       114\n",
      "          10       0.99      0.99      0.99        92\n",
      "          11       0.99      0.97      0.98       115\n",
      "          12       0.98      0.97      0.98       114\n",
      "          13       0.97      0.95      0.96       109\n",
      "          14       0.98      1.00      0.99        51\n",
      "\n",
      "    accuracy                           0.98      1504\n",
      "   macro avg       0.98      0.98      0.98      1504\n",
      "weighted avg       0.98      0.98      0.98      1504\n",
      "\n"
     ]
    }
   ],
   "source": [
    "print(report)"
   ]
  },
  {
   "cell_type": "markdown",
   "id": "4227cb84-1ebf-45ca-b09e-f7d916499bfc",
   "metadata": {},
   "source": [
    "## Indexer based testing"
   ]
  },
  {
   "cell_type": "code",
   "execution_count": 5,
   "id": "d96932bb-4573-4a5c-bf39-09afccf60c92",
   "metadata": {},
   "outputs": [],
   "source": [
    "def predict(model,classifier, test_loader,opt,pred_save_path,pred_filename,metrics_file_name):\n",
    "    \"\"\"\n",
    "        Make predictions and save them in a pickle file.\n",
    "        Print Classification metrics\n",
    "        \n",
    "        Arguments:\n",
    "            model: Trained encoder model \n",
    "            classifier: Trained MLP\n",
    "            valdata: Data to make predictions on\n",
    "            test_loader: Data Loader created on valdata\n",
    "            fname: Name of file to in which predictions will be saved\n",
    "            \n",
    "        Returns:\n",
    "            List with predictions on valdata\n",
    "    \"\"\"     \n",
    "    model.eval()\n",
    "    classifier.eval()\n",
    "    with torch.no_grad():\n",
    "        pred1=[]\n",
    "        print(\"Start Predictions\")\n",
    "        # Iterate over data.\n",
    "        for idx, (images, labels) in enumerate(test_loader):\n",
    "                images = images.float().cuda()\n",
    "                output = classifier(model.encoder(images))\n",
    "                _,preds=torch.max(output, 1)\n",
    "                pred1.extend(preds.cpu().numpy())\n",
    "                \n",
    "    p=np.array(pred1)\n",
    "\n",
    "    import pickle\n",
    "    print('Prediction file saved here: ', os.path.join(pred_save_path,pred_filename))\n",
    "    with open(os.path.join(pred_save_path,pred_filename), 'wb') as handle:\n",
    "        pickle.dump(p, handle, protocol=pickle.HIGHEST_PROTOCOL)\n",
    "    top_1_df = pd.DataFrame(columns=['true_label', 'predicted_label'])\n",
    "    top_1_df['true_label']=np.array(test_loader.dataset.targets)\n",
    "    top_1_df['predicted_label']= pred1\n",
    "    top_1_df['true_label_gtin']=top_1_df['true_label'].apply(lambda x:val_rev_item_dict[x])\n",
    "    top_1_df['predicted_label_gtin']=top_1_df['predicted_label'].apply(lambda x:train_rev_item_dict[x])\n",
    "    # print(sklearn.metrics.classification_report(np.array(top_1_df['true_label_gtin']),np.array(top_1_df['predicted_label_gtin'])))\n",
    "    print(top_1_df.head(10))\n",
    "    print(\"\")\n",
    "    # metrics={\"accuracy\": sklearn.metrics.accuracy_score(np.array(test_loader.dataset.targets), pred1),\n",
    "    #             \"classification_report\": sklearn.metrics.classification_report(np.array(test_loader.dataset.targets),pred1)\n",
    "    #         }\n",
    "    metrics={\"accuracy\": sklearn.metrics.accuracy_score(np.array(top_1_df['true_label_gtin']),np.array(top_1_df['predicted_label_gtin'])),\n",
    "                \"classification_report\": sklearn.metrics.classification_report(np.array(top_1_df['true_label_gtin']),np.array(top_1_df['predicted_label_gtin']))\n",
    "            }\n",
    "    \n",
    "\n",
    "    print('Metrics file saved here: ', os.path.join(pred_save_path,metrics_file_name))\n",
    "    with open(os.path.join(pred_save_path,metrics_file_name), 'w') as handle:\n",
    "        json.dump(metrics,handle)\n",
    "    print(\"Accuracy is\",sklearn.metrics.accuracy_score(np.array(top_1_df['true_label_gtin']),np.array(top_1_df['predicted_label_gtin'])))\n",
    "    print(sklearn.metrics.classification_report(np.array(top_1_df['true_label_gtin']),np.array(top_1_df['predicted_label_gtin'])))\n",
    "    return pred1"
   ]
  },
  {
   "cell_type": "code",
   "execution_count": 118,
   "id": "a690f1ff-8efe-497d-a650-d9c544ec7bb8",
   "metadata": {},
   "outputs": [],
   "source": [
    "import os\n",
    "import itertools\n",
    "import numpy as np\n",
    "import pickle\n",
    "import sklearn\n",
    "from sklearn import metrics\n",
    "from annoy import AnnoyIndex\n",
    "import pandas as pd\n",
    "import faiss\n",
    "import argparse\n",
    "import json\n",
    "from sklearn.preprocessing import StandardScaler\n",
    "from sklearn.decomposition import PCA\n",
    "\n",
    "def top1(metric_folder,train_X_df,test_X_df,annoy_metrics, train_rev_item_dict,val_rev_item_dict,n_trees=10,k_nearest_neighbor=1):\n",
    "    \"\"\"\n",
    "                Calculate classification metrics using image similarity\n",
    "                Arguments:\n",
    "                    train_X_df: pd.Dataframe with train embeddings and labels\n",
    "                    test_X_df: pd.Dataframe with test embeddings and labels\n",
    "                    annoy_metrics: List of annoy similarity scores to be calculated\n",
    "                    n_trees: Parameter for annoy similarity\n",
    "                Returns:\n",
    "                   Dictionary with all metrics\n",
    "                   Saves dictionary as json\n",
    "    \"\"\"\n",
    "    indexer_pth=os.path.join(metric_folder,'indexers')\n",
    "    print(indexer_pth)\n",
    "    if not os.path.exists(indexer_pth):\n",
    "        os.mkdir(indexer_pth)\n",
    "\n",
    "\n",
    "    metric_dict={}\n",
    "    metric_dict['test_image_cnt']=test_X_df.shape[0]\n",
    "    print('Total Test images= ', test_X_df.shape[0])\n",
    "    print(\"\")\n",
    "\n",
    "\n",
    "    if not annoy_metrics:\n",
    "        return\n",
    "    for m in annoy_metrics:\n",
    "        print('Metric =%s' % m)\n",
    "        f = len(train_X_df['embedding'][0])\n",
    "        t = AnnoyIndex(f, m)  # Length of item vector that will be indexed\n",
    "\n",
    "        for i, vec in enumerate(train_X_df['embedding']):\n",
    "            t.add_item(i, vec)\n",
    "\n",
    "        t.build(n_trees, n_jobs=-1)  # 10 trees\n",
    "        t.save(os.path.join(indexer_pth,str(m) + '.ann'))\n",
    "\n",
    "        u = AnnoyIndex(f, m)  # Length of item vector that will be indexed\n",
    "        u.load(os.path.join(indexer_pth,str(m) + '.ann'))  # super fast, will just mmap the file\n",
    "        top_1 = pd.DataFrame(columns=['true_label', 'predicted_label'])\n",
    "        for i in range(int(test_X_df.shape[0])):\n",
    "            # print(u.get_nns_by_vector(test_X_df.loc[i, 'embedding'], k_nearest_neighbor))\n",
    "            # print(int(train_X_df.iloc[int(u.get_nns_by_vector(test_X_df.loc[i, 'embedding'], 1)[0]), 1]))\n",
    "            # pred_label = int(train_X_df.iloc[int(u.get_nns_by_vector(test_X_df.loc[i, 'embedding'], 1)[0]), 1])\n",
    "            query= test_X_df.loc[i, 'embedding']\n",
    "            pred_labels_idx= u.get_nns_by_vector(query, k_nearest_neighbor)\n",
    "            pred_labels= [train_X_df.loc[x, \"label\"] for x in pred_labels_idx]\n",
    "            pred_label= pd.Series(pred_labels).value_counts().index[0]\n",
    "            # pred_label = np.bincount(pred_labels).argmax()\n",
    "            # neighbors_df=pd.DataFrame({\"neighbor_indices\": pred_labels_idx,\"neighbor_labels\":pred_labels })\n",
    "            # neighbors_df['freq'] = neighbors_df.groupby('neighbor_labels')['neighbor_labels'].transform('count')\n",
    "            # neighbors_df.sort_values(by='freq',ascending=False,inplace=True)\n",
    "            # print(neighbors_df)\n",
    "            \n",
    "            \n",
    "            \n",
    "            true_label = int(test_X_df.iloc[i, 1])\n",
    "            # print(f\"Indexes: {pred_labels_idx}. Pred labels are: {pred_labels} majority voted label is {pred_label}.True label: {true_label} \")\n",
    "            \n",
    "            top_1 = top_1.append(pd.Series([true_label, pred_label], index=top_1.columns), ignore_index=True)\n",
    "\n",
    "        top_1['true_label'] = top_1['true_label'].astype(int)\n",
    "        top_1['predicted_label'] = top_1['predicted_label'].astype(int)\n",
    "\n",
    "        top_1['true_label_gtin']=top_1['true_label'].apply(lambda x:val_rev_item_dict[x])\n",
    "        top_1['predicted_label_gtin']=top_1['predicted_label'].apply(lambda x:train_rev_item_dict[x])\n",
    "\n",
    "        acc= metrics.accuracy_score(np.array(top_1['true_label_gtin']),np.array(top_1['predicted_label_gtin']))\n",
    "        correct=metrics.accuracy_score(np.array(top_1['true_label_gtin']),np.array(top_1['predicted_label_gtin']),normalize=False)\n",
    "        prec, rec,fscore,supp=precision_recall_fscore_support(np.array(top_1['true_label_gtin']),np.array(top_1['predicted_label_gtin']), average='macro')\n",
    "        w_prec, w_rec,w_fscore,w_supp=precision_recall_fscore_support(np.array(top_1['true_label_gtin']),np.array(top_1['predicted_label_gtin']), average='weighted')\n",
    "        report=sklearn.metrics.classification_report(np.array(top_1['true_label_gtin']),np.array(top_1['predicted_label_gtin']))\n",
    "        report_dict=sklearn.metrics.classification_report(np.array(top_1['true_label_gtin']),np.array(top_1['predicted_label_gtin']),output_dict=True)\n",
    "\n",
    "\n",
    "        # acc= metrics.accuracy_score(np.array(top_1['true_label']), np.array(top_1['predicted_label']))\n",
    "        # correct=metrics.accuracy_score(np.array(top_1['true_label']), np.array(top_1['predicted_label']),normalize=False)\n",
    "        # report=sklearn.metrics.classification_report(np.array(top_1['true_label']),np.array(top_1['predicted_label']))\n",
    "\n",
    "        metric_dict[f'annoy_{m}_{str(k_nearest_neighbor)}nn']={'accuracy':acc,'precision': prec,\"recall\": rec,\"fbeta\": fscore,\"support\": supp,\\\n",
    "                                 'weighted_precision': w_prec,\"weighted_recall\": w_rec,\"weighted_fbeta\": w_fscore,\"weighted_support\": w_supp,\\\n",
    "                                 'classification_report':report,'classification_report_dict':report}\n",
    "\n",
    "    ##### FAISS EMBEDS ####\n",
    "    # print(\"Metric =faiss_l2\")\n",
    "    # embeds = []\n",
    "    # for a in train_X_df['embedding']:\n",
    "    #     embeds.append(a)\n",
    "    # test_embeds = []\n",
    "    # for a in test_X_df['embedding']:\n",
    "    #     test_embeds.append(a)\n",
    "    # index = faiss.IndexFlatL2(2048)  # build the index\n",
    "    # index.add(np.array(embeds))\n",
    "\n",
    "    # top_1 = pd.DataFrame(columns=['true_label', 'predicted_label'])\n",
    "    # for i in range(test_X_df.shape[0]):\n",
    "    #     pred_label = int(train_X_df.iloc[index.search(np.array([test_embeds[i]]), 1)[1][0][0]].label)\n",
    "    #     true_label = int(test_X_df.iloc[i, 1])\n",
    "    #     top_1 = top_1.append(pd.Series([true_label, pred_label], index=top_1.columns), ignore_index=True)\n",
    "\n",
    "    # top_1['true_label'] = top_1['true_label'].astype(int)\n",
    "    # top_1['predicted_label'] = top_1['predicted_label'].astype(int)\n",
    "    \n",
    "    # top_1['true_label_gtin']=top_1['true_label'].apply(lambda x:val_rev_item_dict[x])\n",
    "    # top_1['predicted_label_gtin']=top_1['predicted_label'].apply(lambda x:train_rev_item_dict[x])\n",
    "    # print(sklearn.metrics.classification_report(np.array(top_1['true_label_gtin']),np.array(top_1['predicted_label_gtin'])))\n",
    "    \n",
    "    # acc= metrics.accuracy_score(np.array(top_1['true_label_gtin']),np.array(top_1['predicted_label_gtin']))\n",
    "    # correct=metrics.accuracy_score(np.array(top_1['true_label_gtin']),np.array(top_1['predicted_label_gtin']),normalize=False)\n",
    "    # report=sklearn.metrics.classification_report(np.array(top_1['true_label_gtin']),np.array(top_1['predicted_label_gtin']))\n",
    "    \n",
    "    # print(\"Accuracy is\", acc)\n",
    "    # print(\"Correct Label Count: \",correct)\n",
    "    \n",
    "    # metric_dict['faiss_l2'] = {'accuracy': acc, 'classification_report': report}\n",
    "    # print(\"\")\n",
    "\n",
    "    return metric_dict\n",
    "\n",
    "def saveMetric(metric_dict, dir,dataset_name=\"train_enrollment\",n_trees=10,eset=None):\n",
    "    \"\"\"\n",
    "                    Save metrics in json format\n",
    "                    Arguments:\n",
    "                        metric_dict: dict object to be saved\n",
    "    \"\"\"\n",
    "    if eset:\n",
    "        with open(os.path.join(dir,f'{dataset_name}_{eset}_nt{n_trees}_metrics.json'), 'w') as handle:\n",
    "            json.dump(metric_dict,handle)\n",
    "    else:\n",
    "        with open(os.path.join(dir,f'{dataset_name}_nt{n_trees}_metrics.json'), 'w') as handle:\n",
    "            json.dump(metric_dict,handle)\n",
    "        \n",
    "    print('JSON saved')\n"
   ]
  },
  {
   "cell_type": "markdown",
   "id": "437ee895-8c7b-498b-853a-2f04a7393653",
   "metadata": {},
   "source": [
    "### Find optimal K"
   ]
  },
  {
   "cell_type": "code",
   "execution_count": 181,
   "id": "1763362b-ce42-424b-b0c6-c4ca34680690",
   "metadata": {},
   "outputs": [],
   "source": [
    "# gtin_enrollment_label= enrollment_labels.copy()\n",
    "# gtin_test_label= test_labels.copy()\n",
    "\n",
    "# for idx,val in enumerate(enrollment_labels):\n",
    "#     gtin_enrollment_label[idx]=enrollment_label_dict[val]\n",
    "\n",
    "# for idx,val in enumerate(test_labels):\n",
    "#     gtin_test_label[idx]=test_label_dict[val]\n",
    "\n",
    "edf = pd.DataFrame(columns=['embedding', 'label'])\n",
    "for i,j in zip(enrollment_features, enrollment_labels):\n",
    "    edf=edf.append({'embedding': i, \"label\": j},ignore_index=True)\n",
    "    \n",
    "    \n",
    "test_X_df = pd.DataFrame(columns=['embedding', 'label'])\n",
    "for i,j in zip(test_features, test_labels):\n",
    "    test_X_df=test_X_df.append({'embedding': i, \"label\": j},ignore_index=True)\n",
    "    \n"
   ]
  },
  {
   "cell_type": "code",
   "execution_count": 184,
   "id": "696ec13a-3c61-44a8-a170-6811b9fe9626",
   "metadata": {},
   "outputs": [
    {
     "name": "stdout",
     "output_type": "stream",
     "text": [
      "n_trees = 5\n",
      "Testing k = 3\n",
      "/home/jupyter/dvc-manual/gtin_60/models/CLIP/metrics/indexers\n",
      "Total Test images=  10661\n",
      "\n",
      "Metric =angular\n",
      "Metric =euclidean\n",
      "n_trees = 10\n",
      "Testing k = 3\n",
      "/home/jupyter/dvc-manual/gtin_60/models/CLIP/metrics/indexers\n",
      "Total Test images=  10661\n",
      "\n",
      "Metric =angular\n",
      "Metric =euclidean\n",
      "n_trees = 15\n",
      "Testing k = 3\n",
      "/home/jupyter/dvc-manual/gtin_60/models/CLIP/metrics/indexers\n",
      "Total Test images=  10661\n",
      "\n",
      "Metric =angular\n",
      "Metric =euclidean\n",
      "n_trees = 20\n",
      "Testing k = 3\n",
      "/home/jupyter/dvc-manual/gtin_60/models/CLIP/metrics/indexers\n",
      "Total Test images=  10661\n",
      "\n",
      "Metric =angular\n",
      "Metric =euclidean\n",
      "n_trees = 25\n",
      "Testing k = 3\n",
      "/home/jupyter/dvc-manual/gtin_60/models/CLIP/metrics/indexers\n",
      "Total Test images=  10661\n",
      "\n",
      "Metric =angular\n",
      "Metric =euclidean\n",
      "n_trees = 30\n",
      "Testing k = 3\n",
      "/home/jupyter/dvc-manual/gtin_60/models/CLIP/metrics/indexers\n",
      "Total Test images=  10661\n",
      "\n",
      "Metric =angular\n",
      "Metric =euclidean\n",
      "n_trees = 35\n",
      "Testing k = 3\n",
      "/home/jupyter/dvc-manual/gtin_60/models/CLIP/metrics/indexers\n",
      "Total Test images=  10661\n",
      "\n",
      "Metric =angular\n",
      "Metric =euclidean\n",
      "n_trees = 40\n",
      "Testing k = 3\n",
      "/home/jupyter/dvc-manual/gtin_60/models/CLIP/metrics/indexers\n",
      "Total Test images=  10661\n",
      "\n",
      "Metric =angular\n",
      "Metric =euclidean\n",
      "n_trees = 45\n",
      "Testing k = 3\n",
      "/home/jupyter/dvc-manual/gtin_60/models/CLIP/metrics/indexers\n",
      "Total Test images=  10661\n",
      "\n",
      "Metric =angular\n",
      "Metric =euclidean\n"
     ]
    }
   ],
   "source": [
    "annoy_metrics=['angular','euclidean']\n",
    "n_trees=10\n",
    "metric_folder= \"/home/jupyter/dvc-manual/gtin_60/models/CLIP/metrics\"\n",
    "dataset_name= 'train_enrollment'\n",
    "\n",
    "k_effect=pd.DataFrame(columns=[\"n_trees\",\"test_image_cnt\", \"k\",\"Annoy_angular_acc\",\"Annoy_euclidean_acc\", \"Annoy_angular_prec\", \"Annoy_euclidean_prec\",\"Annoy_angular_rec\",\"Annoy_euclidean_rec\",\\\n",
    "                              \"Annoy_angular_fbeta\", \"Annoy_euclidean_fbeta\"])\n",
    "for nt in range(5,50,5):\n",
    "    for k in range(3,4):\n",
    "        print(f\"n_trees = {nt}\")\n",
    "        print(f\"Testing k = {k}\")\n",
    "        row={}\n",
    "        metric_dict=top1(metric_folder,edf, test_X_df, annoy_metrics,enrollment_label_dict,test_label_dict, n_trees=nt, k_nearest_neighbor=k)\n",
    "        row[\"n_trees\"]= nt\n",
    "        row[\"test_image_cnt\"]= metric_dict[\"test_image_cnt\"]\n",
    "        row[\"k\"]= k\n",
    "        row[\"Annoy_angular_acc\"]= metric_dict[f\"annoy_angular_{k}nn\"][\"accuracy\"]\n",
    "        row[\"Annoy_euclidean_acc\"]= metric_dict[f\"annoy_euclidean_{k}nn\"][\"accuracy\"]\n",
    "        row[\"Annoy_angular_prec\"]= metric_dict[f\"annoy_angular_{k}nn\"][\"weighted_precision\"]\n",
    "        row[\"Annoy_euclidean_prec\"]= metric_dict[f\"annoy_euclidean_{k}nn\"][\"weighted_precision\"]\n",
    "        row[\"Annoy_angular_rec\"]= metric_dict[f\"annoy_angular_{k}nn\"][\"weighted_recall\"]\n",
    "        row[\"Annoy_euclidean_rec\"]= metric_dict[f\"annoy_euclidean_{k}nn\"][\"weighted_recall\"]\n",
    "        row[\"Annoy_angular_fbeta\"]= metric_dict[f\"annoy_angular_{k}nn\"][\"weighted_fbeta\"]\n",
    "        row[\"Annoy_euclidean_fbeta\"]= metric_dict[f\"annoy_euclidean_{k}nn\"][\"weighted_fbeta\"]\n",
    "        k_effect= k_effect.append(row, ignore_index=True)\n",
    "\n",
    "k_effect.to_csv(\"k_effect_80gtin.csv\")\n",
    "        # row[\"distance_metric\"]= metric_dict.keys()[1].split(\"_\")[1]\n",
    "        # saveMetric(metric_dict,metric_folder,dataset_name,nt)"
   ]
  },
  {
   "cell_type": "code",
   "execution_count": 185,
   "id": "1d185b26-e67a-4ba2-90c1-dd8d228d828a",
   "metadata": {},
   "outputs": [
    {
     "data": {
      "text/html": [
       "<div>\n",
       "<style scoped>\n",
       "    .dataframe tbody tr th:only-of-type {\n",
       "        vertical-align: middle;\n",
       "    }\n",
       "\n",
       "    .dataframe tbody tr th {\n",
       "        vertical-align: top;\n",
       "    }\n",
       "\n",
       "    .dataframe thead th {\n",
       "        text-align: right;\n",
       "    }\n",
       "</style>\n",
       "<table border=\"1\" class=\"dataframe\">\n",
       "  <thead>\n",
       "    <tr style=\"text-align: right;\">\n",
       "      <th></th>\n",
       "      <th>n_trees</th>\n",
       "      <th>test_image_cnt</th>\n",
       "      <th>k</th>\n",
       "      <th>Annoy_angular_acc</th>\n",
       "      <th>Annoy_euclidean_acc</th>\n",
       "      <th>Annoy_angular_prec</th>\n",
       "      <th>Annoy_euclidean_prec</th>\n",
       "      <th>Annoy_angular_rec</th>\n",
       "      <th>Annoy_euclidean_rec</th>\n",
       "      <th>Annoy_angular_fbeta</th>\n",
       "      <th>Annoy_euclidean_fbeta</th>\n",
       "    </tr>\n",
       "  </thead>\n",
       "  <tbody>\n",
       "    <tr>\n",
       "      <th>7</th>\n",
       "      <td>40.0</td>\n",
       "      <td>10661.0</td>\n",
       "      <td>3.0</td>\n",
       "      <td>0.827690</td>\n",
       "      <td>0.836225</td>\n",
       "      <td>0.840537</td>\n",
       "      <td>0.846983</td>\n",
       "      <td>0.827690</td>\n",
       "      <td>0.836225</td>\n",
       "      <td>0.829958</td>\n",
       "      <td>0.837686</td>\n",
       "    </tr>\n",
       "    <tr>\n",
       "      <th>6</th>\n",
       "      <td>35.0</td>\n",
       "      <td>10661.0</td>\n",
       "      <td>3.0</td>\n",
       "      <td>0.827221</td>\n",
       "      <td>0.834725</td>\n",
       "      <td>0.840311</td>\n",
       "      <td>0.845577</td>\n",
       "      <td>0.827221</td>\n",
       "      <td>0.834725</td>\n",
       "      <td>0.829539</td>\n",
       "      <td>0.836180</td>\n",
       "    </tr>\n",
       "    <tr>\n",
       "      <th>8</th>\n",
       "      <td>45.0</td>\n",
       "      <td>10661.0</td>\n",
       "      <td>3.0</td>\n",
       "      <td>0.827127</td>\n",
       "      <td>0.836694</td>\n",
       "      <td>0.840151</td>\n",
       "      <td>0.847225</td>\n",
       "      <td>0.827127</td>\n",
       "      <td>0.836694</td>\n",
       "      <td>0.829523</td>\n",
       "      <td>0.838057</td>\n",
       "    </tr>\n",
       "    <tr>\n",
       "      <th>5</th>\n",
       "      <td>30.0</td>\n",
       "      <td>10661.0</td>\n",
       "      <td>3.0</td>\n",
       "      <td>0.826939</td>\n",
       "      <td>0.834725</td>\n",
       "      <td>0.839306</td>\n",
       "      <td>0.845126</td>\n",
       "      <td>0.826939</td>\n",
       "      <td>0.834725</td>\n",
       "      <td>0.828934</td>\n",
       "      <td>0.836116</td>\n",
       "    </tr>\n",
       "    <tr>\n",
       "      <th>4</th>\n",
       "      <td>25.0</td>\n",
       "      <td>10661.0</td>\n",
       "      <td>3.0</td>\n",
       "      <td>0.825251</td>\n",
       "      <td>0.830504</td>\n",
       "      <td>0.837015</td>\n",
       "      <td>0.841232</td>\n",
       "      <td>0.825251</td>\n",
       "      <td>0.830504</td>\n",
       "      <td>0.827070</td>\n",
       "      <td>0.832001</td>\n",
       "    </tr>\n",
       "    <tr>\n",
       "      <th>3</th>\n",
       "      <td>20.0</td>\n",
       "      <td>10661.0</td>\n",
       "      <td>3.0</td>\n",
       "      <td>0.823469</td>\n",
       "      <td>0.829941</td>\n",
       "      <td>0.835269</td>\n",
       "      <td>0.840337</td>\n",
       "      <td>0.823469</td>\n",
       "      <td>0.829941</td>\n",
       "      <td>0.825290</td>\n",
       "      <td>0.831331</td>\n",
       "    </tr>\n",
       "    <tr>\n",
       "      <th>2</th>\n",
       "      <td>15.0</td>\n",
       "      <td>10661.0</td>\n",
       "      <td>3.0</td>\n",
       "      <td>0.822156</td>\n",
       "      <td>0.826939</td>\n",
       "      <td>0.834076</td>\n",
       "      <td>0.837580</td>\n",
       "      <td>0.822156</td>\n",
       "      <td>0.826939</td>\n",
       "      <td>0.824154</td>\n",
       "      <td>0.828370</td>\n",
       "    </tr>\n",
       "    <tr>\n",
       "      <th>1</th>\n",
       "      <td>10.0</td>\n",
       "      <td>10661.0</td>\n",
       "      <td>3.0</td>\n",
       "      <td>0.818966</td>\n",
       "      <td>0.823844</td>\n",
       "      <td>0.830979</td>\n",
       "      <td>0.834104</td>\n",
       "      <td>0.818966</td>\n",
       "      <td>0.823844</td>\n",
       "      <td>0.820902</td>\n",
       "      <td>0.825108</td>\n",
       "    </tr>\n",
       "    <tr>\n",
       "      <th>0</th>\n",
       "      <td>5.0</td>\n",
       "      <td>10661.0</td>\n",
       "      <td>3.0</td>\n",
       "      <td>0.808648</td>\n",
       "      <td>0.816059</td>\n",
       "      <td>0.820861</td>\n",
       "      <td>0.827492</td>\n",
       "      <td>0.808648</td>\n",
       "      <td>0.816059</td>\n",
       "      <td>0.810549</td>\n",
       "      <td>0.817416</td>\n",
       "    </tr>\n",
       "  </tbody>\n",
       "</table>\n",
       "</div>"
      ],
      "text/plain": [
       "   n_trees  test_image_cnt    k  Annoy_angular_acc  Annoy_euclidean_acc  \\\n",
       "7     40.0         10661.0  3.0           0.827690             0.836225   \n",
       "6     35.0         10661.0  3.0           0.827221             0.834725   \n",
       "8     45.0         10661.0  3.0           0.827127             0.836694   \n",
       "5     30.0         10661.0  3.0           0.826939             0.834725   \n",
       "4     25.0         10661.0  3.0           0.825251             0.830504   \n",
       "3     20.0         10661.0  3.0           0.823469             0.829941   \n",
       "2     15.0         10661.0  3.0           0.822156             0.826939   \n",
       "1     10.0         10661.0  3.0           0.818966             0.823844   \n",
       "0      5.0         10661.0  3.0           0.808648             0.816059   \n",
       "\n",
       "   Annoy_angular_prec  Annoy_euclidean_prec  Annoy_angular_rec  \\\n",
       "7            0.840537              0.846983           0.827690   \n",
       "6            0.840311              0.845577           0.827221   \n",
       "8            0.840151              0.847225           0.827127   \n",
       "5            0.839306              0.845126           0.826939   \n",
       "4            0.837015              0.841232           0.825251   \n",
       "3            0.835269              0.840337           0.823469   \n",
       "2            0.834076              0.837580           0.822156   \n",
       "1            0.830979              0.834104           0.818966   \n",
       "0            0.820861              0.827492           0.808648   \n",
       "\n",
       "   Annoy_euclidean_rec  Annoy_angular_fbeta  Annoy_euclidean_fbeta  \n",
       "7             0.836225             0.829958               0.837686  \n",
       "6             0.834725             0.829539               0.836180  \n",
       "8             0.836694             0.829523               0.838057  \n",
       "5             0.834725             0.828934               0.836116  \n",
       "4             0.830504             0.827070               0.832001  \n",
       "3             0.829941             0.825290               0.831331  \n",
       "2             0.826939             0.824154               0.828370  \n",
       "1             0.823844             0.820902               0.825108  \n",
       "0             0.816059             0.810549               0.817416  "
      ]
     },
     "execution_count": 185,
     "metadata": {},
     "output_type": "execute_result"
    }
   ],
   "source": [
    "# k_effect_3= k_effect[k_effect[\"k\"]==3]\n",
    "# k_effect[k_effect[\"k\"]==1]\n",
    "k_effect.sort_values(by = [\"Annoy_angular_acc\"],ascending=False)"
   ]
  },
  {
   "cell_type": "code",
   "execution_count": 189,
   "id": "f8653479-2e04-4ef6-a126-0587cd6a6536",
   "metadata": {},
   "outputs": [
    {
     "data": {
      "application/vnd.plotly.v1+json": {
       "config": {
        "plotlyServerURL": "https://plot.ly"
       },
       "data": [
        {
         "legendgroup": "accuracy",
         "mode": "lines",
         "name": "Annoy_angular_acc",
         "type": "scatter",
         "x": [
          5,
          10,
          15,
          20,
          25,
          30,
          35,
          40,
          45
         ],
         "xaxis": "x",
         "y": [
          0.8086483444329801,
          0.8189663258606135,
          0.8221555201200638,
          0.823468717756308,
          0.8252509145483539,
          0.8269393115092393,
          0.8272207110027202,
          0.8276897101585217,
          0.8271269111715599
         ],
         "yaxis": "y"
        },
        {
         "legendgroup": "precision",
         "mode": "lines",
         "name": "Annoy_angular_prec",
         "type": "scatter",
         "visible": "legendonly",
         "x": [
          5,
          10,
          15,
          20,
          25,
          30,
          35,
          40,
          45
         ],
         "xaxis": "x",
         "y": [
          0.8208606438512195,
          0.8309789038896521,
          0.8340762696001277,
          0.8352690922649392,
          0.8370150771227806,
          0.8393055893630815,
          0.8403110591100483,
          0.840536731573813,
          0.8401505819676648
         ],
         "yaxis": "y"
        },
        {
         "legendgroup": "recall",
         "mode": "lines",
         "name": "Annoy_angular_rec",
         "type": "scatter",
         "visible": "legendonly",
         "x": [
          5,
          10,
          15,
          20,
          25,
          30,
          35,
          40,
          45
         ],
         "xaxis": "x",
         "y": [
          0.8086483444329801,
          0.8189663258606135,
          0.8221555201200638,
          0.823468717756308,
          0.8252509145483539,
          0.8269393115092393,
          0.8272207110027202,
          0.8276897101585217,
          0.8271269111715599
         ],
         "yaxis": "y"
        },
        {
         "legendgroup": "fbeta_score",
         "mode": "lines",
         "name": "Annoy_angular_fbeta",
         "type": "scatter",
         "visible": "legendonly",
         "x": [
          5,
          10,
          15,
          20,
          25,
          30,
          35,
          40,
          45
         ],
         "xaxis": "x",
         "y": [
          0.8105490948490058,
          0.8209021426385311,
          0.8241539888749123,
          0.8252902662826829,
          0.8270701924953796,
          0.8289338450084145,
          0.8295391640834973,
          0.8299579589490894,
          0.8295228677651404
         ],
         "yaxis": "y"
        },
        {
         "legendgroup": "accuracy",
         "mode": "lines",
         "name": "Annoy_euclidean_acc",
         "type": "scatter",
         "x": [
          5,
          10,
          15,
          20,
          25,
          30,
          35,
          40,
          45
         ],
         "xaxis": "x2",
         "y": [
          0.816058531094644,
          0.8238439170809493,
          0.8269393115092393,
          0.8299409061063691,
          0.8305037050933308,
          0.8347246974955445,
          0.8347246974955445,
          0.8362254947941093,
          0.8366944939499109
         ],
         "yaxis": "y2"
        },
        {
         "legendgroup": "precision",
         "mode": "lines",
         "name": "Annoy_euclidean_prec",
         "type": "scatter",
         "visible": "legendonly",
         "x": [
          5,
          10,
          15,
          20,
          25,
          30,
          35,
          40,
          45
         ],
         "xaxis": "x2",
         "y": [
          0.82749203021024,
          0.8341037533984247,
          0.8375797511865394,
          0.840337241344602,
          0.8412324822713845,
          0.8451256436187152,
          0.8455765622705117,
          0.8469831060405123,
          0.8472254531945748
         ],
         "yaxis": "y2"
        },
        {
         "legendgroup": "recall",
         "mode": "lines",
         "name": "Annoy_euclidean_rec",
         "type": "scatter",
         "visible": "legendonly",
         "x": [
          5,
          10,
          15,
          20,
          25,
          30,
          35,
          40,
          45
         ],
         "xaxis": "x2",
         "y": [
          0.816058531094644,
          0.8238439170809493,
          0.8269393115092393,
          0.8299409061063691,
          0.8305037050933308,
          0.8347246974955445,
          0.8347246974955445,
          0.8362254947941093,
          0.8366944939499109
         ],
         "yaxis": "y2"
        },
        {
         "legendgroup": "fbeta_score",
         "mode": "lines",
         "name": "Annoy_euclidean_fbeta",
         "type": "scatter",
         "visible": "legendonly",
         "x": [
          5,
          10,
          15,
          20,
          25,
          30,
          35,
          40,
          45
         ],
         "xaxis": "x2",
         "y": [
          0.8174158300962416,
          0.8251082563263178,
          0.8283695131822558,
          0.8313305510646608,
          0.8320009324229564,
          0.8361163437439799,
          0.8361804536640172,
          0.8376858208552902,
          0.8380572368408772
         ],
         "yaxis": "y2"
        }
       ],
       "layout": {
        "annotations": [
         {
          "font": {
           "size": 16
          },
          "showarrow": false,
          "text": "Metric: Angular",
          "x": 0.225,
          "xanchor": "center",
          "xref": "paper",
          "y": 1,
          "yanchor": "bottom",
          "yref": "paper"
         },
         {
          "font": {
           "size": 16
          },
          "showarrow": false,
          "text": "Metric: Euclidean",
          "x": 0.775,
          "xanchor": "center",
          "xref": "paper",
          "y": 1,
          "yanchor": "bottom",
          "yref": "paper"
         }
        ],
        "height": 800,
        "template": {
         "data": {
          "bar": [
           {
            "error_x": {
             "color": "#2a3f5f"
            },
            "error_y": {
             "color": "#2a3f5f"
            },
            "marker": {
             "line": {
              "color": "#E5ECF6",
              "width": 0.5
             }
            },
            "type": "bar"
           }
          ],
          "barpolar": [
           {
            "marker": {
             "line": {
              "color": "#E5ECF6",
              "width": 0.5
             }
            },
            "type": "barpolar"
           }
          ],
          "carpet": [
           {
            "aaxis": {
             "endlinecolor": "#2a3f5f",
             "gridcolor": "white",
             "linecolor": "white",
             "minorgridcolor": "white",
             "startlinecolor": "#2a3f5f"
            },
            "baxis": {
             "endlinecolor": "#2a3f5f",
             "gridcolor": "white",
             "linecolor": "white",
             "minorgridcolor": "white",
             "startlinecolor": "#2a3f5f"
            },
            "type": "carpet"
           }
          ],
          "choropleth": [
           {
            "colorbar": {
             "outlinewidth": 0,
             "ticks": ""
            },
            "type": "choropleth"
           }
          ],
          "contour": [
           {
            "colorbar": {
             "outlinewidth": 0,
             "ticks": ""
            },
            "colorscale": [
             [
              0,
              "#0d0887"
             ],
             [
              0.1111111111111111,
              "#46039f"
             ],
             [
              0.2222222222222222,
              "#7201a8"
             ],
             [
              0.3333333333333333,
              "#9c179e"
             ],
             [
              0.4444444444444444,
              "#bd3786"
             ],
             [
              0.5555555555555556,
              "#d8576b"
             ],
             [
              0.6666666666666666,
              "#ed7953"
             ],
             [
              0.7777777777777778,
              "#fb9f3a"
             ],
             [
              0.8888888888888888,
              "#fdca26"
             ],
             [
              1,
              "#f0f921"
             ]
            ],
            "type": "contour"
           }
          ],
          "contourcarpet": [
           {
            "colorbar": {
             "outlinewidth": 0,
             "ticks": ""
            },
            "type": "contourcarpet"
           }
          ],
          "heatmap": [
           {
            "colorbar": {
             "outlinewidth": 0,
             "ticks": ""
            },
            "colorscale": [
             [
              0,
              "#0d0887"
             ],
             [
              0.1111111111111111,
              "#46039f"
             ],
             [
              0.2222222222222222,
              "#7201a8"
             ],
             [
              0.3333333333333333,
              "#9c179e"
             ],
             [
              0.4444444444444444,
              "#bd3786"
             ],
             [
              0.5555555555555556,
              "#d8576b"
             ],
             [
              0.6666666666666666,
              "#ed7953"
             ],
             [
              0.7777777777777778,
              "#fb9f3a"
             ],
             [
              0.8888888888888888,
              "#fdca26"
             ],
             [
              1,
              "#f0f921"
             ]
            ],
            "type": "heatmap"
           }
          ],
          "heatmapgl": [
           {
            "colorbar": {
             "outlinewidth": 0,
             "ticks": ""
            },
            "colorscale": [
             [
              0,
              "#0d0887"
             ],
             [
              0.1111111111111111,
              "#46039f"
             ],
             [
              0.2222222222222222,
              "#7201a8"
             ],
             [
              0.3333333333333333,
              "#9c179e"
             ],
             [
              0.4444444444444444,
              "#bd3786"
             ],
             [
              0.5555555555555556,
              "#d8576b"
             ],
             [
              0.6666666666666666,
              "#ed7953"
             ],
             [
              0.7777777777777778,
              "#fb9f3a"
             ],
             [
              0.8888888888888888,
              "#fdca26"
             ],
             [
              1,
              "#f0f921"
             ]
            ],
            "type": "heatmapgl"
           }
          ],
          "histogram": [
           {
            "marker": {
             "colorbar": {
              "outlinewidth": 0,
              "ticks": ""
             }
            },
            "type": "histogram"
           }
          ],
          "histogram2d": [
           {
            "colorbar": {
             "outlinewidth": 0,
             "ticks": ""
            },
            "colorscale": [
             [
              0,
              "#0d0887"
             ],
             [
              0.1111111111111111,
              "#46039f"
             ],
             [
              0.2222222222222222,
              "#7201a8"
             ],
             [
              0.3333333333333333,
              "#9c179e"
             ],
             [
              0.4444444444444444,
              "#bd3786"
             ],
             [
              0.5555555555555556,
              "#d8576b"
             ],
             [
              0.6666666666666666,
              "#ed7953"
             ],
             [
              0.7777777777777778,
              "#fb9f3a"
             ],
             [
              0.8888888888888888,
              "#fdca26"
             ],
             [
              1,
              "#f0f921"
             ]
            ],
            "type": "histogram2d"
           }
          ],
          "histogram2dcontour": [
           {
            "colorbar": {
             "outlinewidth": 0,
             "ticks": ""
            },
            "colorscale": [
             [
              0,
              "#0d0887"
             ],
             [
              0.1111111111111111,
              "#46039f"
             ],
             [
              0.2222222222222222,
              "#7201a8"
             ],
             [
              0.3333333333333333,
              "#9c179e"
             ],
             [
              0.4444444444444444,
              "#bd3786"
             ],
             [
              0.5555555555555556,
              "#d8576b"
             ],
             [
              0.6666666666666666,
              "#ed7953"
             ],
             [
              0.7777777777777778,
              "#fb9f3a"
             ],
             [
              0.8888888888888888,
              "#fdca26"
             ],
             [
              1,
              "#f0f921"
             ]
            ],
            "type": "histogram2dcontour"
           }
          ],
          "mesh3d": [
           {
            "colorbar": {
             "outlinewidth": 0,
             "ticks": ""
            },
            "type": "mesh3d"
           }
          ],
          "parcoords": [
           {
            "line": {
             "colorbar": {
              "outlinewidth": 0,
              "ticks": ""
             }
            },
            "type": "parcoords"
           }
          ],
          "pie": [
           {
            "automargin": true,
            "type": "pie"
           }
          ],
          "scatter": [
           {
            "marker": {
             "colorbar": {
              "outlinewidth": 0,
              "ticks": ""
             }
            },
            "type": "scatter"
           }
          ],
          "scatter3d": [
           {
            "line": {
             "colorbar": {
              "outlinewidth": 0,
              "ticks": ""
             }
            },
            "marker": {
             "colorbar": {
              "outlinewidth": 0,
              "ticks": ""
             }
            },
            "type": "scatter3d"
           }
          ],
          "scattercarpet": [
           {
            "marker": {
             "colorbar": {
              "outlinewidth": 0,
              "ticks": ""
             }
            },
            "type": "scattercarpet"
           }
          ],
          "scattergeo": [
           {
            "marker": {
             "colorbar": {
              "outlinewidth": 0,
              "ticks": ""
             }
            },
            "type": "scattergeo"
           }
          ],
          "scattergl": [
           {
            "marker": {
             "colorbar": {
              "outlinewidth": 0,
              "ticks": ""
             }
            },
            "type": "scattergl"
           }
          ],
          "scattermapbox": [
           {
            "marker": {
             "colorbar": {
              "outlinewidth": 0,
              "ticks": ""
             }
            },
            "type": "scattermapbox"
           }
          ],
          "scatterpolar": [
           {
            "marker": {
             "colorbar": {
              "outlinewidth": 0,
              "ticks": ""
             }
            },
            "type": "scatterpolar"
           }
          ],
          "scatterpolargl": [
           {
            "marker": {
             "colorbar": {
              "outlinewidth": 0,
              "ticks": ""
             }
            },
            "type": "scatterpolargl"
           }
          ],
          "scatterternary": [
           {
            "marker": {
             "colorbar": {
              "outlinewidth": 0,
              "ticks": ""
             }
            },
            "type": "scatterternary"
           }
          ],
          "surface": [
           {
            "colorbar": {
             "outlinewidth": 0,
             "ticks": ""
            },
            "colorscale": [
             [
              0,
              "#0d0887"
             ],
             [
              0.1111111111111111,
              "#46039f"
             ],
             [
              0.2222222222222222,
              "#7201a8"
             ],
             [
              0.3333333333333333,
              "#9c179e"
             ],
             [
              0.4444444444444444,
              "#bd3786"
             ],
             [
              0.5555555555555556,
              "#d8576b"
             ],
             [
              0.6666666666666666,
              "#ed7953"
             ],
             [
              0.7777777777777778,
              "#fb9f3a"
             ],
             [
              0.8888888888888888,
              "#fdca26"
             ],
             [
              1,
              "#f0f921"
             ]
            ],
            "type": "surface"
           }
          ],
          "table": [
           {
            "cells": {
             "fill": {
              "color": "#EBF0F8"
             },
             "line": {
              "color": "white"
             }
            },
            "header": {
             "fill": {
              "color": "#C8D4E3"
             },
             "line": {
              "color": "white"
             }
            },
            "type": "table"
           }
          ]
         },
         "layout": {
          "annotationdefaults": {
           "arrowcolor": "#2a3f5f",
           "arrowhead": 0,
           "arrowwidth": 1
          },
          "autotypenumbers": "strict",
          "coloraxis": {
           "colorbar": {
            "outlinewidth": 0,
            "ticks": ""
           }
          },
          "colorscale": {
           "diverging": [
            [
             0,
             "#8e0152"
            ],
            [
             0.1,
             "#c51b7d"
            ],
            [
             0.2,
             "#de77ae"
            ],
            [
             0.3,
             "#f1b6da"
            ],
            [
             0.4,
             "#fde0ef"
            ],
            [
             0.5,
             "#f7f7f7"
            ],
            [
             0.6,
             "#e6f5d0"
            ],
            [
             0.7,
             "#b8e186"
            ],
            [
             0.8,
             "#7fbc41"
            ],
            [
             0.9,
             "#4d9221"
            ],
            [
             1,
             "#276419"
            ]
           ],
           "sequential": [
            [
             0,
             "#0d0887"
            ],
            [
             0.1111111111111111,
             "#46039f"
            ],
            [
             0.2222222222222222,
             "#7201a8"
            ],
            [
             0.3333333333333333,
             "#9c179e"
            ],
            [
             0.4444444444444444,
             "#bd3786"
            ],
            [
             0.5555555555555556,
             "#d8576b"
            ],
            [
             0.6666666666666666,
             "#ed7953"
            ],
            [
             0.7777777777777778,
             "#fb9f3a"
            ],
            [
             0.8888888888888888,
             "#fdca26"
            ],
            [
             1,
             "#f0f921"
            ]
           ],
           "sequentialminus": [
            [
             0,
             "#0d0887"
            ],
            [
             0.1111111111111111,
             "#46039f"
            ],
            [
             0.2222222222222222,
             "#7201a8"
            ],
            [
             0.3333333333333333,
             "#9c179e"
            ],
            [
             0.4444444444444444,
             "#bd3786"
            ],
            [
             0.5555555555555556,
             "#d8576b"
            ],
            [
             0.6666666666666666,
             "#ed7953"
            ],
            [
             0.7777777777777778,
             "#fb9f3a"
            ],
            [
             0.8888888888888888,
             "#fdca26"
            ],
            [
             1,
             "#f0f921"
            ]
           ]
          },
          "colorway": [
           "#636efa",
           "#EF553B",
           "#00cc96",
           "#ab63fa",
           "#FFA15A",
           "#19d3f3",
           "#FF6692",
           "#B6E880",
           "#FF97FF",
           "#FECB52"
          ],
          "font": {
           "color": "#2a3f5f"
          },
          "geo": {
           "bgcolor": "white",
           "lakecolor": "white",
           "landcolor": "#E5ECF6",
           "showlakes": true,
           "showland": true,
           "subunitcolor": "white"
          },
          "hoverlabel": {
           "align": "left"
          },
          "hovermode": "closest",
          "mapbox": {
           "style": "light"
          },
          "paper_bgcolor": "white",
          "plot_bgcolor": "#E5ECF6",
          "polar": {
           "angularaxis": {
            "gridcolor": "white",
            "linecolor": "white",
            "ticks": ""
           },
           "bgcolor": "#E5ECF6",
           "radialaxis": {
            "gridcolor": "white",
            "linecolor": "white",
            "ticks": ""
           }
          },
          "scene": {
           "xaxis": {
            "backgroundcolor": "#E5ECF6",
            "gridcolor": "white",
            "gridwidth": 2,
            "linecolor": "white",
            "showbackground": true,
            "ticks": "",
            "zerolinecolor": "white"
           },
           "yaxis": {
            "backgroundcolor": "#E5ECF6",
            "gridcolor": "white",
            "gridwidth": 2,
            "linecolor": "white",
            "showbackground": true,
            "ticks": "",
            "zerolinecolor": "white"
           },
           "zaxis": {
            "backgroundcolor": "#E5ECF6",
            "gridcolor": "white",
            "gridwidth": 2,
            "linecolor": "white",
            "showbackground": true,
            "ticks": "",
            "zerolinecolor": "white"
           }
          },
          "shapedefaults": {
           "line": {
            "color": "#2a3f5f"
           }
          },
          "ternary": {
           "aaxis": {
            "gridcolor": "white",
            "linecolor": "white",
            "ticks": ""
           },
           "baxis": {
            "gridcolor": "white",
            "linecolor": "white",
            "ticks": ""
           },
           "bgcolor": "#E5ECF6",
           "caxis": {
            "gridcolor": "white",
            "linecolor": "white",
            "ticks": ""
           }
          },
          "title": {
           "x": 0.05
          },
          "xaxis": {
           "automargin": true,
           "gridcolor": "white",
           "linecolor": "white",
           "ticks": "",
           "title": {
            "standoff": 15
           },
           "zerolinecolor": "white",
           "zerolinewidth": 2
          },
          "yaxis": {
           "automargin": true,
           "gridcolor": "white",
           "linecolor": "white",
           "ticks": "",
           "title": {
            "standoff": 15
           },
           "zerolinecolor": "white",
           "zerolinewidth": 2
          }
         }
        },
        "width": 1400,
        "xaxis": {
         "anchor": "y",
         "autorange": true,
         "domain": [
          0,
          0.45
         ],
         "range": [
          5,
          45
         ],
         "rangebreaks": [
          {
           "values": [
            30,
            40,
            50,
            60,
            70,
            80,
            90,
            100,
            110,
            120,
            130,
            140
           ]
          }
         ],
         "title": {
          "font": {
           "size": 10
          },
          "text": "KNN effect"
         },
         "type": "linear"
        },
        "xaxis2": {
         "anchor": "y2",
         "autorange": true,
         "domain": [
          0.55,
          1
         ],
         "range": [
          5,
          45
         ],
         "type": "linear"
        },
        "yaxis": {
         "anchor": "x",
         "autorange": true,
         "domain": [
          0,
          1
         ],
         "range": [
          0.8070902250153728,
          0.8382526133675182
         ],
         "type": "linear"
        },
        "yaxis2": {
         "anchor": "x2",
         "autorange": true,
         "domain": [
          0,
          1
         ],
         "matches": "y",
         "range": [
          0.8070902250153728,
          0.8382526133675182
         ],
         "showticklabels": false,
         "type": "linear"
        }
       }
      },
      "image/png": "[encoded data removed]",
      "text/html": [
       "<div>                            <div id=\"43b0ca79-95ba-4988-b6a0-c3d780fdb0b5\" class=\"plotly-graph-div\" style=\"height:800px; width:1400px;\"></div>            <script type=\"text/javascript\">                require([\"plotly\"], function(Plotly) {                    window.PLOTLYENV=window.PLOTLYENV || {};                                    if (document.getElementById(\"43b0ca79-95ba-4988-b6a0-c3d780fdb0b5\")) {                    Plotly.newPlot(                        \"43b0ca79-95ba-4988-b6a0-c3d780fdb0b5\",                        [{\"legendgroup\": \"accuracy\", \"mode\": \"lines\", \"name\": \"Annoy_angular_acc\", \"type\": \"scatter\", \"x\": [5.0, 10.0, 15.0, 20.0, 25.0, 30.0, 35.0, 40.0, 45.0], \"xaxis\": \"x\", \"y\": [0.8086483444329801, 0.8189663258606135, 0.8221555201200638, 0.823468717756308, 0.8252509145483539, 0.8269393115092393, 0.8272207110027202, 0.8276897101585217, 0.8271269111715599], \"yaxis\": \"y\"}, {\"legendgroup\": \"precision\", \"mode\": \"lines\", \"name\": \"Annoy_angular_prec\", \"type\": \"scatter\", \"x\": [5.0, 10.0, 15.0, 20.0, 25.0, 30.0, 35.0, 40.0, 45.0], \"xaxis\": \"x\", \"y\": [0.8208606438512195, 0.8309789038896521, 0.8340762696001277, 0.8352690922649392, 0.8370150771227806, 0.8393055893630815, 0.8403110591100483, 0.840536731573813, 0.8401505819676648], \"yaxis\": \"y\"}, {\"legendgroup\": \"recall\", \"mode\": \"lines\", \"name\": \"Annoy_angular_rec\", \"type\": \"scatter\", \"x\": [5.0, 10.0, 15.0, 20.0, 25.0, 30.0, 35.0, 40.0, 45.0], \"xaxis\": \"x\", \"y\": [0.8086483444329801, 0.8189663258606135, 0.8221555201200638, 0.823468717756308, 0.8252509145483539, 0.8269393115092393, 0.8272207110027202, 0.8276897101585217, 0.8271269111715599], \"yaxis\": \"y\"}, {\"legendgroup\": \"fbeta_score\", \"mode\": \"lines\", \"name\": \"Annoy_angular_fbeta\", \"type\": \"scatter\", \"x\": [5.0, 10.0, 15.0, 20.0, 25.0, 30.0, 35.0, 40.0, 45.0], \"xaxis\": \"x\", \"y\": [0.8105490948490058, 0.8209021426385311, 0.8241539888749123, 0.8252902662826829, 0.8270701924953796, 0.8289338450084145, 0.8295391640834973, 0.8299579589490894, 0.8295228677651404], \"yaxis\": \"y\"}, {\"legendgroup\": \"accuracy\", \"mode\": \"lines\", \"name\": \"Annoy_euclidean_acc\", \"type\": \"scatter\", \"x\": [5.0, 10.0, 15.0, 20.0, 25.0, 30.0, 35.0, 40.0, 45.0], \"xaxis\": \"x2\", \"y\": [0.816058531094644, 0.8238439170809493, 0.8269393115092393, 0.8299409061063691, 0.8305037050933308, 0.8347246974955445, 0.8347246974955445, 0.8362254947941093, 0.8366944939499109], \"yaxis\": \"y2\"}, {\"legendgroup\": \"precision\", \"mode\": \"lines\", \"name\": \"Annoy_euclidean_prec\", \"type\": \"scatter\", \"x\": [5.0, 10.0, 15.0, 20.0, 25.0, 30.0, 35.0, 40.0, 45.0], \"xaxis\": \"x2\", \"y\": [0.82749203021024, 0.8341037533984247, 0.8375797511865394, 0.840337241344602, 0.8412324822713845, 0.8451256436187152, 0.8455765622705117, 0.8469831060405123, 0.8472254531945748], \"yaxis\": \"y2\"}, {\"legendgroup\": \"recall\", \"mode\": \"lines\", \"name\": \"Annoy_euclidean_rec\", \"type\": \"scatter\", \"x\": [5.0, 10.0, 15.0, 20.0, 25.0, 30.0, 35.0, 40.0, 45.0], \"xaxis\": \"x2\", \"y\": [0.816058531094644, 0.8238439170809493, 0.8269393115092393, 0.8299409061063691, 0.8305037050933308, 0.8347246974955445, 0.8347246974955445, 0.8362254947941093, 0.8366944939499109], \"yaxis\": \"y2\"}, {\"legendgroup\": \"fbeta_score\", \"mode\": \"lines\", \"name\": \"Annoy_euclidean_fbeta\", \"type\": \"scatter\", \"x\": [5.0, 10.0, 15.0, 20.0, 25.0, 30.0, 35.0, 40.0, 45.0], \"xaxis\": \"x2\", \"y\": [0.8174158300962416, 0.8251082563263178, 0.8283695131822558, 0.8313305510646608, 0.8320009324229564, 0.8361163437439799, 0.8361804536640172, 0.8376858208552902, 0.8380572368408772], \"yaxis\": \"y2\"}],                        {\"annotations\": [{\"font\": {\"size\": 16}, \"showarrow\": false, \"text\": \"Metric: Angular\", \"x\": 0.225, \"xanchor\": \"center\", \"xref\": \"paper\", \"y\": 1.0, \"yanchor\": \"bottom\", \"yref\": \"paper\"}, {\"font\": {\"size\": 16}, \"showarrow\": false, \"text\": \"Metric: Euclidean\", \"x\": 0.775, \"xanchor\": \"center\", \"xref\": \"paper\", \"y\": 1.0, \"yanchor\": \"bottom\", \"yref\": \"paper\"}], \"height\": 800, \"template\": {\"data\": {\"bar\": [{\"error_x\": {\"color\": \"#2a3f5f\"}, \"error_y\": {\"color\": \"#2a3f5f\"}, \"marker\": {\"line\": {\"color\": \"#E5ECF6\", \"width\": 0.5}}, \"type\": \"bar\"}], \"barpolar\": [{\"marker\": {\"line\": {\"color\": \"#E5ECF6\", \"width\": 0.5}}, \"type\": \"barpolar\"}], \"carpet\": [{\"aaxis\": {\"endlinecolor\": \"#2a3f5f\", \"gridcolor\": \"white\", \"linecolor\": \"white\", \"minorgridcolor\": \"white\", \"startlinecolor\": \"#2a3f5f\"}, \"baxis\": {\"endlinecolor\": \"#2a3f5f\", \"gridcolor\": \"white\", \"linecolor\": \"white\", \"minorgridcolor\": \"white\", \"startlinecolor\": \"#2a3f5f\"}, \"type\": \"carpet\"}], \"choropleth\": [{\"colorbar\": {\"outlinewidth\": 0, \"ticks\": \"\"}, \"type\": \"choropleth\"}], \"contour\": [{\"colorbar\": {\"outlinewidth\": 0, \"ticks\": \"\"}, \"colorscale\": [[0.0, \"#0d0887\"], [0.1111111111111111, \"#46039f\"], [0.2222222222222222, \"#7201a8\"], [0.3333333333333333, \"#9c179e\"], [0.4444444444444444, \"#bd3786\"], [0.5555555555555556, \"#d8576b\"], [0.6666666666666666, \"#ed7953\"], [0.7777777777777778, \"#fb9f3a\"], [0.8888888888888888, \"#fdca26\"], [1.0, \"#f0f921\"]], \"type\": \"contour\"}], \"contourcarpet\": [{\"colorbar\": {\"outlinewidth\": 0, \"ticks\": \"\"}, \"type\": \"contourcarpet\"}], \"heatmap\": [{\"colorbar\": {\"outlinewidth\": 0, \"ticks\": \"\"}, \"colorscale\": [[0.0, \"#0d0887\"], [0.1111111111111111, \"#46039f\"], [0.2222222222222222, \"#7201a8\"], [0.3333333333333333, \"#9c179e\"], [0.4444444444444444, \"#bd3786\"], [0.5555555555555556, \"#d8576b\"], [0.6666666666666666, \"#ed7953\"], [0.7777777777777778, \"#fb9f3a\"], [0.8888888888888888, \"#fdca26\"], [1.0, \"#f0f921\"]], \"type\": \"heatmap\"}], \"heatmapgl\": [{\"colorbar\": {\"outlinewidth\": 0, \"ticks\": \"\"}, \"colorscale\": [[0.0, \"#0d0887\"], [0.1111111111111111, \"#46039f\"], [0.2222222222222222, \"#7201a8\"], [0.3333333333333333, \"#9c179e\"], [0.4444444444444444, \"#bd3786\"], [0.5555555555555556, \"#d8576b\"], [0.6666666666666666, \"#ed7953\"], [0.7777777777777778, \"#fb9f3a\"], [0.8888888888888888, \"#fdca26\"], [1.0, \"#f0f921\"]], \"type\": \"heatmapgl\"}], \"histogram\": [{\"marker\": {\"colorbar\": {\"outlinewidth\": 0, \"ticks\": \"\"}}, \"type\": \"histogram\"}], \"histogram2d\": [{\"colorbar\": {\"outlinewidth\": 0, \"ticks\": \"\"}, \"colorscale\": [[0.0, \"#0d0887\"], [0.1111111111111111, \"#46039f\"], [0.2222222222222222, \"#7201a8\"], [0.3333333333333333, \"#9c179e\"], [0.4444444444444444, \"#bd3786\"], [0.5555555555555556, \"#d8576b\"], [0.6666666666666666, \"#ed7953\"], [0.7777777777777778, \"#fb9f3a\"], [0.8888888888888888, \"#fdca26\"], [1.0, \"#f0f921\"]], \"type\": \"histogram2d\"}], \"histogram2dcontour\": [{\"colorbar\": {\"outlinewidth\": 0, \"ticks\": \"\"}, \"colorscale\": [[0.0, \"#0d0887\"], [0.1111111111111111, \"#46039f\"], [0.2222222222222222, \"#7201a8\"], [0.3333333333333333, \"#9c179e\"], [0.4444444444444444, \"#bd3786\"], [0.5555555555555556, \"#d8576b\"], [0.6666666666666666, \"#ed7953\"], [0.7777777777777778, \"#fb9f3a\"], [0.8888888888888888, \"#fdca26\"], [1.0, \"#f0f921\"]], \"type\": \"histogram2dcontour\"}], \"mesh3d\": [{\"colorbar\": {\"outlinewidth\": 0, \"ticks\": \"\"}, \"type\": \"mesh3d\"}], \"parcoords\": [{\"line\": {\"colorbar\": {\"outlinewidth\": 0, \"ticks\": \"\"}}, \"type\": \"parcoords\"}], \"pie\": [{\"automargin\": true, \"type\": \"pie\"}], \"scatter\": [{\"marker\": {\"colorbar\": {\"outlinewidth\": 0, \"ticks\": \"\"}}, \"type\": \"scatter\"}], \"scatter3d\": [{\"line\": {\"colorbar\": {\"outlinewidth\": 0, \"ticks\": \"\"}}, \"marker\": {\"colorbar\": {\"outlinewidth\": 0, \"ticks\": \"\"}}, \"type\": \"scatter3d\"}], \"scattercarpet\": [{\"marker\": {\"colorbar\": {\"outlinewidth\": 0, \"ticks\": \"\"}}, \"type\": \"scattercarpet\"}], \"scattergeo\": [{\"marker\": {\"colorbar\": {\"outlinewidth\": 0, \"ticks\": \"\"}}, \"type\": \"scattergeo\"}], \"scattergl\": [{\"marker\": {\"colorbar\": {\"outlinewidth\": 0, \"ticks\": \"\"}}, \"type\": \"scattergl\"}], \"scattermapbox\": [{\"marker\": {\"colorbar\": {\"outlinewidth\": 0, \"ticks\": \"\"}}, \"type\": \"scattermapbox\"}], \"scatterpolar\": [{\"marker\": {\"colorbar\": {\"outlinewidth\": 0, \"ticks\": \"\"}}, \"type\": \"scatterpolar\"}], \"scatterpolargl\": [{\"marker\": {\"colorbar\": {\"outlinewidth\": 0, \"ticks\": \"\"}}, \"type\": \"scatterpolargl\"}], \"scatterternary\": [{\"marker\": {\"colorbar\": {\"outlinewidth\": 0, \"ticks\": \"\"}}, \"type\": \"scatterternary\"}], \"surface\": [{\"colorbar\": {\"outlinewidth\": 0, \"ticks\": \"\"}, \"colorscale\": [[0.0, \"#0d0887\"], [0.1111111111111111, \"#46039f\"], [0.2222222222222222, \"#7201a8\"], [0.3333333333333333, \"#9c179e\"], [0.4444444444444444, \"#bd3786\"], [0.5555555555555556, \"#d8576b\"], [0.6666666666666666, \"#ed7953\"], [0.7777777777777778, \"#fb9f3a\"], [0.8888888888888888, \"#fdca26\"], [1.0, \"#f0f921\"]], \"type\": \"surface\"}], \"table\": [{\"cells\": {\"fill\": {\"color\": \"#EBF0F8\"}, \"line\": {\"color\": \"white\"}}, \"header\": {\"fill\": {\"color\": \"#C8D4E3\"}, \"line\": {\"color\": \"white\"}}, \"type\": \"table\"}]}, \"layout\": {\"annotationdefaults\": {\"arrowcolor\": \"#2a3f5f\", \"arrowhead\": 0, \"arrowwidth\": 1}, \"autotypenumbers\": \"strict\", \"coloraxis\": {\"colorbar\": {\"outlinewidth\": 0, \"ticks\": \"\"}}, \"colorscale\": {\"diverging\": [[0, \"#8e0152\"], [0.1, \"#c51b7d\"], [0.2, \"#de77ae\"], [0.3, \"#f1b6da\"], [0.4, \"#fde0ef\"], [0.5, \"#f7f7f7\"], [0.6, \"#e6f5d0\"], [0.7, \"#b8e186\"], [0.8, \"#7fbc41\"], [0.9, \"#4d9221\"], [1, \"#276419\"]], \"sequential\": [[0.0, \"#0d0887\"], [0.1111111111111111, \"#46039f\"], [0.2222222222222222, \"#7201a8\"], [0.3333333333333333, \"#9c179e\"], [0.4444444444444444, \"#bd3786\"], [0.5555555555555556, \"#d8576b\"], [0.6666666666666666, \"#ed7953\"], [0.7777777777777778, \"#fb9f3a\"], [0.8888888888888888, \"#fdca26\"], [1.0, \"#f0f921\"]], \"sequentialminus\": [[0.0, \"#0d0887\"], [0.1111111111111111, \"#46039f\"], [0.2222222222222222, \"#7201a8\"], [0.3333333333333333, \"#9c179e\"], [0.4444444444444444, \"#bd3786\"], [0.5555555555555556, \"#d8576b\"], [0.6666666666666666, \"#ed7953\"], [0.7777777777777778, \"#fb9f3a\"], [0.8888888888888888, \"#fdca26\"], [1.0, \"#f0f921\"]]}, \"colorway\": [\"#636efa\", \"#EF553B\", \"#00cc96\", \"#ab63fa\", \"#FFA15A\", \"#19d3f3\", \"#FF6692\", \"#B6E880\", \"#FF97FF\", \"#FECB52\"], \"font\": {\"color\": \"#2a3f5f\"}, \"geo\": {\"bgcolor\": \"white\", \"lakecolor\": \"white\", \"landcolor\": \"#E5ECF6\", \"showlakes\": true, \"showland\": true, \"subunitcolor\": \"white\"}, \"hoverlabel\": {\"align\": \"left\"}, \"hovermode\": \"closest\", \"mapbox\": {\"style\": \"light\"}, \"paper_bgcolor\": \"white\", \"plot_bgcolor\": \"#E5ECF6\", \"polar\": {\"angularaxis\": {\"gridcolor\": \"white\", \"linecolor\": \"white\", \"ticks\": \"\"}, \"bgcolor\": \"#E5ECF6\", \"radialaxis\": {\"gridcolor\": \"white\", \"linecolor\": \"white\", \"ticks\": \"\"}}, \"scene\": {\"xaxis\": {\"backgroundcolor\": \"#E5ECF6\", \"gridcolor\": \"white\", \"gridwidth\": 2, \"linecolor\": \"white\", \"showbackground\": true, \"ticks\": \"\", \"zerolinecolor\": \"white\"}, \"yaxis\": {\"backgroundcolor\": \"#E5ECF6\", \"gridcolor\": \"white\", \"gridwidth\": 2, \"linecolor\": \"white\", \"showbackground\": true, \"ticks\": \"\", \"zerolinecolor\": \"white\"}, \"zaxis\": {\"backgroundcolor\": \"#E5ECF6\", \"gridcolor\": \"white\", \"gridwidth\": 2, \"linecolor\": \"white\", \"showbackground\": true, \"ticks\": \"\", \"zerolinecolor\": \"white\"}}, \"shapedefaults\": {\"line\": {\"color\": \"#2a3f5f\"}}, \"ternary\": {\"aaxis\": {\"gridcolor\": \"white\", \"linecolor\": \"white\", \"ticks\": \"\"}, \"baxis\": {\"gridcolor\": \"white\", \"linecolor\": \"white\", \"ticks\": \"\"}, \"bgcolor\": \"#E5ECF6\", \"caxis\": {\"gridcolor\": \"white\", \"linecolor\": \"white\", \"ticks\": \"\"}}, \"title\": {\"x\": 0.05}, \"xaxis\": {\"automargin\": true, \"gridcolor\": \"white\", \"linecolor\": \"white\", \"ticks\": \"\", \"title\": {\"standoff\": 15}, \"zerolinecolor\": \"white\", \"zerolinewidth\": 2}, \"yaxis\": {\"automargin\": true, \"gridcolor\": \"white\", \"linecolor\": \"white\", \"ticks\": \"\", \"title\": {\"standoff\": 15}, \"zerolinecolor\": \"white\", \"zerolinewidth\": 2}}}, \"width\": 1400, \"xaxis\": {\"anchor\": \"y\", \"domain\": [0.0, 0.45], \"rangebreaks\": [{\"values\": [30, 40, 50, 60, 70, 80, 90, 100, 110, 120, 130, 140]}], \"title\": {\"font\": {\"size\": 10}, \"text\": \"KNN effect\"}}, \"xaxis2\": {\"anchor\": \"y2\", \"domain\": [0.55, 1.0]}, \"yaxis\": {\"anchor\": \"x\", \"domain\": [0.0, 1.0]}, \"yaxis2\": {\"anchor\": \"x2\", \"domain\": [0.0, 1.0], \"matches\": \"y\", \"showticklabels\": false}},                        {\"responsive\": true}                    ).then(function(){\n",
       "                            \n",
       "var gd = document.getElementById('43b0ca79-95ba-4988-b6a0-c3d780fdb0b5');\n",
       "var x = new MutationObserver(function (mutations, observer) {{\n",
       "        var display = window.getComputedStyle(gd).display;\n",
       "        if (!display || display === 'none') {{\n",
       "            console.log([gd, 'removed!']);\n",
       "            Plotly.purge(gd);\n",
       "            observer.disconnect();\n",
       "        }}\n",
       "}});\n",
       "\n",
       "// Listen for the removal of the full notebook cells\n",
       "var notebookContainer = gd.closest('#notebook-container');\n",
       "if (notebookContainer) {{\n",
       "    x.observe(notebookContainer, {childList: true});\n",
       "}}\n",
       "\n",
       "// Listen for the clearing of the current output cell\n",
       "var outputEl = gd.closest('.output');\n",
       "if (outputEl) {{\n",
       "    x.observe(outputEl, {childList: true});\n",
       "}}\n",
       "\n",
       "                        })                };                });            </script>        </div>"
      ]
     },
     "metadata": {},
     "output_type": "display_data"
    }
   ],
   "source": [
    "import plotly.graph_objects as go\n",
    "from plotly.subplots import make_subplots\n",
    "import pandas as pd\n",
    "import matplotlib.pyplot as plt\n",
    "import plotly.express as px\n",
    "\n",
    "\n",
    "fig = make_subplots(\n",
    "        rows=1,\n",
    "        cols=2,\n",
    "        shared_yaxes=True,\n",
    "        vertical_spacing=0.01,\n",
    "        horizontal_spacing=0.1,\n",
    "        # row_heights=[0.5, 0.5],\n",
    "        subplot_titles=(\"Metric: Angular\", \"Metric: Euclidean\")\n",
    "    )\n",
    "\n",
    "plt_df1=k_effect.copy()\n",
    "\n",
    "\n",
    "mode=\"lines\"# \"markers+text\"\n",
    "x_col= \"n_trees\"\n",
    "fig.add_trace(\n",
    "        go.Scatter(\n",
    "            x=plt_df1[x_col], y=plt_df1[\"Annoy_angular_acc\"],mode=mode,name=\"Annoy_angular_acc\",legendgroup ='accuracy'# , line=dict(color=\"blue\", width=2)\n",
    "        ),\n",
    "        row=1,\n",
    "        col=1,\n",
    "    )\n",
    "fig.add_trace(\n",
    "        go.Scatter(\n",
    "            x=plt_df1[x_col], y=plt_df1[\"Annoy_angular_prec\"],mode=mode,name='Annoy_angular_prec',legendgroup ='precision'# , line=dict(color=\"blue\", width=2)\n",
    "        ),\n",
    "        row=1,\n",
    "        col=1,\n",
    "    )\n",
    "\n",
    "fig.add_trace(\n",
    "        go.Scatter(\n",
    "            x=plt_df1[x_col], y=plt_df1[\"Annoy_angular_rec\"],mode=mode,name='Annoy_angular_rec',legendgroup ='recall'# , line=dict(color=\"blue\", width=2)\n",
    "        ),\n",
    "        row=1,\n",
    "        col=1,\n",
    "    )\n",
    "\n",
    "fig.add_trace(\n",
    "        go.Scatter(\n",
    "            x=plt_df1[x_col], y=plt_df1[\"Annoy_angular_fbeta\"],mode=mode,name='Annoy_angular_fbeta',legendgroup ='fbeta_score'# , line=dict(color=\"blue\", width=2)\n",
    "        ),\n",
    "        row=1,\n",
    "        col=1,\n",
    "    )\n",
    "\n",
    "fig.add_trace(\n",
    "        go.Scatter(\n",
    "            x=plt_df1[x_col], y=plt_df1[\"Annoy_euclidean_acc\"],mode=mode,name=\"Annoy_euclidean_acc\",legendgroup ='accuracy'# , line=dict(color=\"blue\", width=2)\n",
    "        ),\n",
    "        row=1,\n",
    "        col=2,\n",
    "    )\n",
    "fig.add_trace(\n",
    "        go.Scatter(\n",
    "            x=plt_df1[x_col], y=plt_df1[\"Annoy_euclidean_prec\"],mode=mode,name='Annoy_euclidean_prec',legendgroup ='precision'# , line=dict(color=\"blue\", width=2)\n",
    "        ),\n",
    "        row=1,\n",
    "        col=2,\n",
    "    )\n",
    "\n",
    "fig.add_trace(\n",
    "        go.Scatter(\n",
    "            x=plt_df1[x_col], y=plt_df1[\"Annoy_euclidean_rec\"],mode=mode,name='Annoy_euclidean_rec',legendgroup ='recall'# , line=dict(color=\"blue\", width=2)\n",
    "        ),\n",
    "        row=1,\n",
    "        col=2,\n",
    "    )\n",
    "\n",
    "fig.add_trace(\n",
    "        go.Scatter(\n",
    "            x=plt_df1[x_col], y=plt_df1[\"Annoy_euclidean_fbeta\"],mode=mode,name='Annoy_euclidean_fbeta',legendgroup ='fbeta_score'# , line=dict(color=\"blue\", width=2)\n",
    "        ),\n",
    "        row=1,\n",
    "        col=2,\n",
    "    )\n",
    "\n",
    "# fig.layout.annotations[1].update(text=\"Metric=Angular\")\n",
    "fig.update_xaxes(title_text=\"KNN effect\", row=1, col=1, title_font_size=10)\n",
    "# fig.update_yaxes(title_text=\"Metrics in %\", row=1, col=2, title_font_size=10)\n",
    "# fig.update_yaxes(title_text=\"Metrics in %\", row=1, col=2, title_font_size=10)\n",
    "\n",
    "fig.update_layout(\n",
    "        height=800,\n",
    "        width=1400,\n",
    "        # xaxis_rangeslider_visible=False,\n",
    "        xaxis_rangebreaks=[dict(values=[x for x in range(30,150,10)])]\n",
    "    )\n",
    "\n",
    "fig.show()"
   ]
  },
  {
   "cell_type": "markdown",
   "id": "c87539de-8b3c-42c7-b032-986e3fe801ec",
   "metadata": {},
   "source": [
    "## Triton Deployment"
   ]
  },
  {
   "cell_type": "code",
   "execution_count": 54,
   "id": "ed7df404-f92e-4791-95fa-09b81b67744c",
   "metadata": {},
   "outputs": [
    {
     "name": "stdout",
     "output_type": "stream",
     "text": [
      "==> Saving...\n"
     ]
    },
    {
     "data": {
      "text/plain": [
       "'/home/jupyter/dvc-manual/gtin_60/models/CLIP/clip_encoder_90_1.pth'"
      ]
     },
     "execution_count": 54,
     "metadata": {},
     "output_type": "execute_result"
    }
   ],
   "source": [
    "import os\n",
    "import sys\n",
    "from datetime import datetime\n",
    "import torch\n",
    "\n",
    "class Saver:\n",
    "    def __init__(self):\n",
    "        self.date = str(datetime.now().date())\n",
    "\n",
    "    def save_model(self,model, opt, save_file):\n",
    "        print('==> Saving...')\n",
    "        state = {\n",
    "            'opt': opt,\n",
    "            'model': model.state_dict(),\n",
    "            # 'optimizer': optimizer.state_dict(),\n",
    "            # 'epoch': epoch,\n",
    "        }\n",
    "        torch.save(state, save_file)\n",
    "        del state\n",
    "\n",
    "\n",
    "    def model_saver(self, model,  opt, save_file):\n",
    "        save_file_path=os.path.join(save_file)#'ckpt_epoch_{epoch}.pth'.format(epoch=epoch))    \n",
    "        self.save_model(model, opt, save_file_path)\n",
    "        return save_file_path    \n",
    "\n",
    "opt={\"model\": \"CLIP\",\n",
    "     \"save_folder\": \"/home/jupyter/dvc-manual/gtin_60/models/CLIP\",\n",
    "    }\n",
    "\n",
    "save_file = os.path.join(opt[\"save_folder\"], f'clip_encoder_{enrollment_size}_{set_number}.pth')\n",
    "svr= Saver()\n",
    "svr.model_saver(model, opt, save_file)"
   ]
  },
  {
   "cell_type": "code",
   "execution_count": 85,
   "id": "31348867-64b4-4b57-ac68-904c5cac2e1c",
   "metadata": {},
   "outputs": [
    {
     "data": {
      "text/plain": [
       "dtype('float16')"
      ]
     },
     "execution_count": 85,
     "metadata": {},
     "output_type": "execute_result"
    }
   ],
   "source": [
    "enrollment_features.dtype"
   ]
  },
  {
   "cell_type": "code",
   "execution_count": 84,
   "id": "eeac4b9c-e0a3-4474-b5c1-1c03ffc01c34",
   "metadata": {},
   "outputs": [],
   "source": [
    "## Save TorchScript model\n",
    "\n",
    "def saveTorchScriptModel(opt,model):\n",
    "    model_name=\"CLIP\"\n",
    "    folder_save= \"/home/jupyter/dvc-manual/gtin_60/models/CLIP\"\n",
    "    if not os.path.isdir(folder_save):\n",
    "        os.makedirs(folder_save, mode=0o777)\n",
    "    \n",
    "    folder_save_model= os.path.join(folder_save,\"1\")\n",
    "    if not os.path.isdir(folder_save_model):\n",
    "        os.makedirs(folder_save_model, mode=0o777)\n",
    "\n",
    "    img_size=(224,224)\n",
    "    img=torch.randn(1, 3, img_size[0],img_size[1]).type(model.dtype).cuda()\n",
    "\n",
    "    traced_model = torch.jit.trace(model.visual,img)\n",
    "    traced_model.save(os.path.join(folder_save_model,'model.pt'))\n",
    "\n",
    "   \n",
    "    x = 'name: \"{}\"'.format(model_name)\n",
    "    config=x +' \\nplatform: \"pytorch_libtorch\" \\ninput [ \\n{\\nname: \"input__0\"\\ndata_type: TYPE_FP16\\ndims: [-1, 3,224,224]\\n} \\n]\\noutput {\\nname: \"output__0\"\\ndata_type: TYPE_FP16\\ndims: [-1, 512]\\n}'\n",
    "\n",
    "    pbtxt_file = open(os.path.join(folder_save,'config.pbtxt'), \"w\")\n",
    "    pbtxt_file.write(config)\n",
    "    pbtxt_file.close()\n",
    "\n",
    "\n",
    "\n",
    "\n",
    "\n",
    "saveTorchScriptModel(opt,model)\n",
    "    "
   ]
  },
  {
   "cell_type": "code",
   "execution_count": 86,
   "id": "f9e4b7ca-3735-4203-9b18-6432293adc54",
   "metadata": {},
   "outputs": [],
   "source": [
    "loaded = torch.jit.load('/home/jupyter/dvc-manual/gtin_60/models/CLIP/1/model.pt')"
   ]
  },
  {
   "cell_type": "code",
   "execution_count": 24,
   "id": "6b628a5f-b73f-4a0b-8399-1480bf118c19",
   "metadata": {},
   "outputs": [],
   "source": [
    "# import pandas as pd\n",
    "# import re\n",
    "# import torchvision\n",
    "# from PIL import Image\n",
    "# import clip\n",
    "# import torch\n",
    "# import os\n",
    "# from torch.utils.data import Dataset, DataLoader\n",
    "# from transformers import CLIPTokenizer, CLIPProcessor\n",
    "# # import pandas as pd\n",
    "# # gtin_mapping=pd.read_csv(os.path.join(os.getcwd(),\"dvc-manual/520_gtin_product_name.csv\"))\n",
    "# # [gtin_mapping[gtin_mapping[\"gtin\"]==gtin_mapping[\"gtin\"].value_counts().index[1]][\"product_name\"].iloc[i] for i in range(0,4)]\n",
    "\n",
    "\n",
    "# def cleanhtml(raw_html):\n",
    "#     CLEANR = re.compile(\"<.*?>\")  # remove html tags\n",
    "#     cleantext = re.sub(CLEANR, \"\", raw_html)\n",
    "#     pattern = r\"\\d*\\.\\d+\"  # r'[0-9]' # remove decimal numbers\n",
    "#     cleantext = re.sub(pattern, \"\", cleantext)\n",
    "#     pattern = r\"[0-9]\"  # remove any digits\n",
    "#     cleantext = re.sub(pattern, \"\", cleantext)\n",
    "#     return cleantext\n",
    "\n",
    "\n",
    "# def get_mapping():\n",
    "#     gtin_mapping = pd.read_csv(\"/home/jupyter/dvc-manual/gtin_attr.csv\")\n",
    "#     desc_columns = [\n",
    "#         col\n",
    "#         for col in gtin_mapping.columns\n",
    "#         if \"desc\" in col.lower() or \"name\" in col.lower() or \"date\" in col.lower()\n",
    "#     ]\n",
    "#     desc_columns = [\n",
    "#         \"gtin\",\n",
    "#         \"KARF Picker Description\",\n",
    "#         \"Product Long Description\",\n",
    "#         \"Short Description\",\n",
    "#         \"Product Name\",\n",
    "#     ]\n",
    "#     gtin_mapping = gtin_mapping.loc[:, desc_columns]\n",
    "#     gtin_mapping[\"Product Long Description\"] = gtin_mapping.apply(\n",
    "#         lambda x: cleanhtml(str(x[\"Product Long Description\"])), axis=1\n",
    "#     )\n",
    "#     gtin_mapping[\"Short Description\"] = gtin_mapping.apply(\n",
    "#         lambda x: cleanhtml(str(x[\"Short Description\"])), axis=1\n",
    "#     )\n",
    "#     gtin_mapping[\"Product Name\"] = gtin_mapping.apply(\n",
    "#         lambda x: cleanhtml(str(x[\"Product Name\"])), axis=1\n",
    "#     )\n",
    "#     gtin_mapping = gtin_mapping.rename(\n",
    "#         columns={\n",
    "#             \"Product Long Description\": \"desc_long\",\n",
    "#             \"Short Description\": \"desc_short\",\n",
    "#             \"Product Name\": \"name\",\n",
    "#             \"KARF Picker Description\": \"desc_karf\",\n",
    "#         }\n",
    "#     )\n",
    "#     gtin_mapping[\"desc_long\"] = gtin_mapping.apply(\n",
    "#         lambda x: str(x[\"desc_long\"]).replace(\"|\", \"\"), axis=1\n",
    "#     )\n",
    "#     gtin_mapping[\"desc_short\"] = gtin_mapping.apply(\n",
    "#         lambda x: str(x[\"desc_short\"]).replace(\"|\", \"\"), axis=1\n",
    "#     )\n",
    "#     gtin_mapping[\"desc_karf\"] = gtin_mapping.apply(\n",
    "#         lambda x: str(x[\"desc_karf\"]).replace(\"|\", \"\"), axis=1\n",
    "#     )\n",
    "#     gtin_mapping[\"name\"] = gtin_mapping.apply(\n",
    "#         lambda x: str(x[\"name\"]).replace(\"|\", \"\"), axis=1\n",
    "#     )\n",
    "#     gtin_mapping[\"gtin\"] = gtin_mapping[\"gtin\"].apply(lambda x: str(x).zfill(14))\n",
    "#     return gtin_mapping\n",
    "\n",
    "\n",
    "# def create_dataframe(path, label_col):\n",
    "#     loader = torchvision.datasets.ImageFolder(root=path)\n",
    "\n",
    "#     df = pd.DataFrame(loader.imgs, columns=[\"img_path\", \"label\"])\n",
    "#     df[\"gtin\"] = df.apply(lambda x: x[\"img_path\"].split(\"/\")[-2], axis=1)\n",
    "#     df[\"gtin\"] = df[\"gtin\"].apply(lambda x: str(x).zfill(14))\n",
    "\n",
    "#     gtin_mapping = get_mapping()\n",
    "\n",
    "#     df = df.merge(gtin_mapping, left_on=[\"gtin\"], right_on=[\"gtin\"], how=\"left\")\n",
    "#     # no_desc_gtin = df[df[\"name\"].isna()].gtin.unique()\n",
    "#     # print(f\"Gtin's with no description: {no_desc_gtin}\")\n",
    "#     # print(f\"Shape before removing gtin's{df.shape[0]}\")\n",
    "#     # df = df[~df[\"gtin\"].isin(no_desc_gtin)]\n",
    "#     # print(f\"Shape after removing gtin's{df.shape[0]}\")\n",
    "#     # df = df[df[label_col].notna()]\n",
    "#     # print(f\"Shape after removing na from product name column {df.shape[0]}\")\n",
    "#     # key_list=[k for k in range(df.shape[0])]\n",
    "#     # df[\"key\"]= key_list\n",
    "#     return df\n",
    "\n",
    "\n",
    "# label_col= \"name\"\n",
    "# test_path= os.path.join('/home/jupyter/dvc-manual/gtin_60/data/prep/80gtin_allsubfolders/splitfolders/test')\n",
    "# test_df=create_dataframe(test_path, label_col)\n",
    "\n",
    "# train_path= os.path.join('/home/jupyter/dvc-manual/gtin_60/data/prep/80gtin_allsubfolders/splitfolders/train')\n",
    "# train_df=create_dataframe(train_path, label_col)\n",
    "# train_df=create_dataframe(train_path,label_col)\n",
    "\n",
    "# train_df.groupby([\"gtin\",\"desc_karf\",\"desc_long\",\"desc_short\",\"name\"]).count().reset_index().sort_values(by=\"img_path\",ascending=False).to_csv(\"80_gtin.csv\")"
   ]
  },
  {
   "cell_type": "code",
   "execution_count": null,
   "id": "b728caaa-a88b-4e8e-900f-285b579c4bce",
   "metadata": {},
   "outputs": [],
   "source": []
  }
 ],
 "metadata": {
  "environment": {
   "kernel": "python3",
   "name": "pytorch-gpu.1-10.m87",
   "type": "gcloud",
   "uri": "gcr.io/deeplearning-platform-release/pytorch-gpu.1-10:m87"
  },
  "kernelspec": {
   "display_name": "Python 3",
   "language": "python",
   "name": "python3"
  },
  "language_info": {
   "codemirror_mode": {
    "name": "ipython",
    "version": 3
   },
   "file_extension": ".py",
   "mimetype": "text/x-python",
   "name": "python",
   "nbconvert_exporter": "python",
   "pygments_lexer": "ipython3",
   "version": "3.7.12"
  }
 },
 "nbformat": 4,
 "nbformat_minor": 5
}
